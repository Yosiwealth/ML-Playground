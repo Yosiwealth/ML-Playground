{
 "cells": [
  {
   "cell_type": "code",
   "execution_count": 332,
   "metadata": {},
   "outputs": [],
   "source": [
    "import pandas as pd\n",
    "import numpy as np\n",
    "import matplotlib.pyplot as plt\n",
    "import seaborn as sns\n",
    "%matplotlib inline\n",
    "\n",
    "train = pd.read_csv(\"train.csv\")\n",
    "test = pd.read_csv(\"test.csv\")"
   ]
  },
  {
   "cell_type": "code",
   "execution_count": 333,
   "metadata": {},
   "outputs": [
    {
     "name": "stdout",
     "output_type": "stream",
     "text": [
      "(4990, 14) (3532, 13) (8522, 14)\n"
     ]
    }
   ],
   "source": [
    "#Combine test and train into one file\n",
    "train['source']='train'\n",
    "test['source']='test'\n",
    "data = pd.concat([train, test],ignore_index=True)\n",
    "print (train.shape, test.shape, data.shape)"
   ]
  },
  {
   "cell_type": "code",
   "execution_count": null,
   "metadata": {
    "collapsed": true
   },
   "outputs": [],
   "source": []
  },
  {
   "cell_type": "code",
   "execution_count": 334,
   "metadata": {},
   "outputs": [
    {
     "data": {
      "text/plain": [
       "Product_Fat_Content                  0\n",
       "Product_Identifier                   0\n",
       "Product_Price                        0\n",
       "Product_Shelf_Visibility             0\n",
       "Product_Supermarket_Identifier       0\n",
       "Product_Supermarket_Sales         3532\n",
       "Product_Type                         0\n",
       "Product_Weight                    1463\n",
       "Supermarket _Size                 2409\n",
       "Supermarket_Identifier               0\n",
       "Supermarket_Location_Type            0\n",
       "Supermarket_Opening_Year             0\n",
       "Supermarket_Type                     0\n",
       "source                               0\n",
       "dtype: int64"
      ]
     },
     "execution_count": 334,
     "metadata": {},
     "output_type": "execute_result"
    }
   ],
   "source": [
    "data.isnull().sum()"
   ]
  },
  {
   "cell_type": "code",
   "execution_count": 355,
   "metadata": {},
   "outputs": [
    {
     "data": {
      "text/html": [
       "<div>\n",
       "<style>\n",
       "    .dataframe thead tr:only-child th {\n",
       "        text-align: right;\n",
       "    }\n",
       "\n",
       "    .dataframe thead th {\n",
       "        text-align: left;\n",
       "    }\n",
       "\n",
       "    .dataframe tbody tr th {\n",
       "        vertical-align: top;\n",
       "    }\n",
       "</style>\n",
       "<table border=\"1\" class=\"dataframe\">\n",
       "  <thead>\n",
       "    <tr style=\"text-align: right;\">\n",
       "      <th></th>\n",
       "      <th>Product_Fat_Content</th>\n",
       "      <th>Product_Price</th>\n",
       "      <th>Product_Shelf_Visibility</th>\n",
       "      <th>Product_Type</th>\n",
       "      <th>Product_Weight</th>\n",
       "      <th>Supermarket _Size</th>\n",
       "      <th>Supermarket_Location_Type</th>\n",
       "      <th>Supermarket_Opening_Year</th>\n",
       "      <th>Supermarket_Type</th>\n",
       "    </tr>\n",
       "  </thead>\n",
       "  <tbody>\n",
       "    <tr>\n",
       "      <th>4990</th>\n",
       "      <td>1</td>\n",
       "      <td>459.98</td>\n",
       "      <td>0.214125</td>\n",
       "      <td>1</td>\n",
       "      <td>8.270</td>\n",
       "      <td>2</td>\n",
       "      <td>3</td>\n",
       "      <td>2005</td>\n",
       "      <td>2</td>\n",
       "    </tr>\n",
       "    <tr>\n",
       "      <th>4991</th>\n",
       "      <td>1</td>\n",
       "      <td>464.98</td>\n",
       "      <td>0.127821</td>\n",
       "      <td>1</td>\n",
       "      <td>8.270</td>\n",
       "      <td>3</td>\n",
       "      <td>3</td>\n",
       "      <td>1994</td>\n",
       "      <td>1</td>\n",
       "    </tr>\n",
       "    <tr>\n",
       "      <th>4992</th>\n",
       "      <td>0</td>\n",
       "      <td>477.38</td>\n",
       "      <td>0.082171</td>\n",
       "      <td>1</td>\n",
       "      <td>7.390</td>\n",
       "      <td>3</td>\n",
       "      <td>3</td>\n",
       "      <td>1994</td>\n",
       "      <td>1</td>\n",
       "    </tr>\n",
       "    <tr>\n",
       "      <th>4993</th>\n",
       "      <td>1</td>\n",
       "      <td>472.63</td>\n",
       "      <td>0.011791</td>\n",
       "      <td>1</td>\n",
       "      <td>6.115</td>\n",
       "      <td>2</td>\n",
       "      <td>3</td>\n",
       "      <td>2005</td>\n",
       "      <td>2</td>\n",
       "    </tr>\n",
       "    <tr>\n",
       "      <th>4994</th>\n",
       "      <td>1</td>\n",
       "      <td>473.13</td>\n",
       "      <td>0.007038</td>\n",
       "      <td>1</td>\n",
       "      <td>6.115</td>\n",
       "      <td>3</td>\n",
       "      <td>3</td>\n",
       "      <td>1994</td>\n",
       "      <td>1</td>\n",
       "    </tr>\n",
       "  </tbody>\n",
       "</table>\n",
       "</div>"
      ],
      "text/plain": [
       "      Product_Fat_Content  Product_Price  Product_Shelf_Visibility  \\\n",
       "4990                    1         459.98                  0.214125   \n",
       "4991                    1         464.98                  0.127821   \n",
       "4992                    0         477.38                  0.082171   \n",
       "4993                    1         472.63                  0.011791   \n",
       "4994                    1         473.13                  0.007038   \n",
       "\n",
       "      Product_Type  Product_Weight  Supermarket _Size  \\\n",
       "4990             1           8.270                  2   \n",
       "4991             1           8.270                  3   \n",
       "4992             1           7.390                  3   \n",
       "4993             1           6.115                  2   \n",
       "4994             1           6.115                  3   \n",
       "\n",
       "      Supermarket_Location_Type  Supermarket_Opening_Year  Supermarket_Type  \n",
       "4990                          3                      2005                 2  \n",
       "4991                          3                      1994                 1  \n",
       "4992                          3                      1994                 1  \n",
       "4993                          3                      2005                 2  \n",
       "4994                          3                      1994                 1  "
      ]
     },
     "execution_count": 355,
     "metadata": {},
     "output_type": "execute_result"
    }
   ],
   "source": [
    "test.head()"
   ]
  },
  {
   "cell_type": "code",
   "execution_count": 336,
   "metadata": {},
   "outputs": [],
   "source": [
    "data['Product_Weight'] = data['Product_Weight'].fillna(12.9)"
   ]
  },
  {
   "cell_type": "code",
   "execution_count": 337,
   "metadata": {
    "collapsed": true
   },
   "outputs": [],
   "source": [
    "data['Supermarket _Size'] = data['Supermarket _Size'].fillna('Medium')"
   ]
  },
  {
   "cell_type": "code",
   "execution_count": 338,
   "metadata": {},
   "outputs": [
    {
     "name": "stdout",
     "output_type": "stream",
     "text": [
      "Low Fat       5516\n",
      "Normal Fat    3006\n",
      "Name: Product_Fat_Content, dtype: int64\n"
     ]
    }
   ],
   "source": [
    "data['Product_Fat_Content'] = data['Product_Fat_Content'].replace({'Ultra Low fat':'Low Fat'})\n",
    "print(data['Product_Fat_Content'].value_counts())"
   ]
  },
  {
   "cell_type": "code",
   "execution_count": 339,
   "metadata": {},
   "outputs": [
    {
     "name": "stdout",
     "output_type": "stream",
     "text": [
      "6     1232\n",
      "7     1200\n",
      "15     909\n",
      "5      856\n",
      "2      682\n",
      "4      649\n",
      "8      648\n",
      "14     520\n",
      "1      445\n",
      "10     425\n",
      "13     251\n",
      "3      214\n",
      "16     169\n",
      "9      148\n",
      "12     110\n",
      "11      64\n",
      "Name: Product_Type, dtype: int64\n"
     ]
    }
   ],
   "source": [
    "data['Product_Type'].unique()\n",
    "\n",
    "data['Product_Type'] = data['Product_Type'].replace({'Soft Drinks':1, 'Dairy':2, 'Hard Drinks':3, 'Canned':4, 'Frozen Foods':5,\n",
    "       'Fruits and Vegetables':6, 'Snack Foods':7, 'Baking Goods':8,\n",
    "       'Starchy Foods':9, 'Meat':10, 'Seafood':11, 'Breakfast':12, 'Breads':13,\n",
    "       'Health and Hygiene':14, 'Household':15, 'Others':16})\n",
    "print(data['Product_Type'].value_counts())"
   ]
  },
  {
   "cell_type": "code",
   "execution_count": 340,
   "metadata": {},
   "outputs": [
    {
     "name": "stdout",
     "output_type": "stream",
     "text": [
      "2    5202\n",
      "1    2388\n",
      "3     932\n",
      "Name: Supermarket _Size, dtype: int64\n"
     ]
    }
   ],
   "source": [
    "data['Supermarket _Size'].unique()\n",
    "\n",
    "data['Supermarket _Size'] = data['Supermarket _Size'].replace({'High':3,'Medium':2,'Small':1})\n",
    "print(data['Supermarket _Size'].value_counts())"
   ]
  },
  {
   "cell_type": "code",
   "execution_count": 341,
   "metadata": {},
   "outputs": [
    {
     "name": "stdout",
     "output_type": "stream",
     "text": [
      "3    3349\n",
      "2    2785\n",
      "1    2388\n",
      "Name: Supermarket_Location_Type, dtype: int64\n"
     ]
    }
   ],
   "source": [
    "data['Supermarket_Location_Type'].unique()\n",
    "\n",
    "data['Supermarket_Location_Type'] = data['Supermarket_Location_Type'].replace({'Cluster 3':3,'Cluster 2':2,'Cluster 1':1})\n",
    "print(data['Supermarket_Location_Type'].value_counts())"
   ]
  },
  {
   "cell_type": "code",
   "execution_count": 342,
   "metadata": {},
   "outputs": [
    {
     "name": "stdout",
     "output_type": "stream",
     "text": [
      "0    5516\n",
      "1    3006\n",
      "Name: Product_Fat_Content, dtype: int64\n"
     ]
    }
   ],
   "source": [
    "data['Product_Fat_Content'].unique()\n",
    "\n",
    "data['Product_Fat_Content'] = data['Product_Fat_Content'].replace({'Low Fat':0,'Normal Fat':1})\n",
    "print(data['Product_Fat_Content'].value_counts())"
   ]
  },
  {
   "cell_type": "code",
   "execution_count": 343,
   "metadata": {},
   "outputs": [
    {
     "name": "stdout",
     "output_type": "stream",
     "text": [
      "1    5577\n",
      "2    2945\n",
      "Name: Supermarket_Type, dtype: int64\n"
     ]
    }
   ],
   "source": [
    "data['Supermarket_Type'].unique()\n",
    "\n",
    "data['Supermarket_Type'] = data['Supermarket_Type'].replace({'Supermarket Type1':1,'Supermarket Type2':2,'Supermarket Type3':2,'Grocery Store':2})\n",
    "print(data['Supermarket_Type'].value_counts())"
   ]
  },
  {
   "cell_type": "code",
   "execution_count": null,
   "metadata": {
    "collapsed": true
   },
   "outputs": [],
   "source": []
  },
  {
   "cell_type": "code",
   "execution_count": 344,
   "metadata": {},
   "outputs": [],
   "source": [
    "#Drop the columns which have been converted to different types:\n",
    "data.drop(['Product_Identifier','Supermarket_Identifier',\n",
    "           'Product_Supermarket_Identifier'],axis=1,inplace=True)\n",
    "\n",
    "#Drop the columns which have been converted to different types:\n",
    "#test.drop(['Product_Supermarket_Sales'],axis=1,inplace=True)"
   ]
  },
  {
   "cell_type": "code",
   "execution_count": 345,
   "metadata": {},
   "outputs": [],
   "source": [
    "#Divide into test and train:\n",
    "train = data.loc[data['source']==\"train\"]\n",
    "test = data.loc[data['source']==\"test\"]"
   ]
  },
  {
   "cell_type": "code",
   "execution_count": 346,
   "metadata": {},
   "outputs": [
    {
     "name": "stderr",
     "output_type": "stream",
     "text": [
      "C:\\Users\\mo.yosiwealth\\Anaconda3\\lib\\site-packages\\ipykernel_launcher.py:2: SettingWithCopyWarning: \n",
      "A value is trying to be set on a copy of a slice from a DataFrame\n",
      "\n",
      "See the caveats in the documentation: http://pandas.pydata.org/pandas-docs/stable/indexing.html#indexing-view-versus-copy\n",
      "  \n"
     ]
    }
   ],
   "source": [
    "#Drop the columns which have been converted to different types:\n",
    "test.drop(['Product_Supermarket_Sales','source'],axis=1,inplace=True)"
   ]
  },
  {
   "cell_type": "code",
   "execution_count": null,
   "metadata": {
    "collapsed": true
   },
   "outputs": [],
   "source": []
  },
  {
   "cell_type": "code",
   "execution_count": null,
   "metadata": {
    "collapsed": true
   },
   "outputs": [],
   "source": []
  },
  {
   "cell_type": "code",
   "execution_count": 356,
   "metadata": {},
   "outputs": [],
   "source": [
    "y = train['Product_Supermarket_Sales']\n",
    "X = train[['Product_Weight','Product_Fat_Content','Product_Shelf_Visibility','Product_Price','Supermarket_Opening_Year',\n",
    "           'Supermarket_Type','Supermarket _Size','Supermarket_Location_Type']]\n",
    "\n",
    "Xtest = test[['Product_Weight','Product_Fat_Content','Product_Shelf_Visibility','Product_Price','Supermarket_Opening_Year',\n",
    "           'Supermarket_Type','Supermarket _Size','Supermarket_Location_Type']]"
   ]
  },
  {
   "cell_type": "code",
   "execution_count": 357,
   "metadata": {},
   "outputs": [
    {
     "name": "stdout",
     "output_type": "stream",
     "text": [
      "<class 'pandas.core.frame.DataFrame'>\n",
      "Int64Index: 4990 entries, 0 to 4989\n",
      "Data columns (total 8 columns):\n",
      "Product_Weight               4990 non-null float64\n",
      "Product_Fat_Content          4990 non-null int64\n",
      "Product_Shelf_Visibility     4990 non-null float64\n",
      "Product_Price                4990 non-null float64\n",
      "Supermarket_Opening_Year     4990 non-null int64\n",
      "Supermarket_Type             4990 non-null int64\n",
      "Supermarket _Size            4990 non-null int64\n",
      "Supermarket_Location_Type    4990 non-null int64\n",
      "dtypes: float64(3), int64(5)\n",
      "memory usage: 510.9 KB\n"
     ]
    }
   ],
   "source": [
    "X.info()"
   ]
  },
  {
   "cell_type": "code",
   "execution_count": 358,
   "metadata": {
    "collapsed": true
   },
   "outputs": [],
   "source": [
    "import xgboost as xgb\n",
    "from sklearn.metrics import mean_squared_error"
   ]
  },
  {
   "cell_type": "code",
   "execution_count": 359,
   "metadata": {},
   "outputs": [
    {
     "name": "stdout",
     "output_type": "stream",
     "text": [
      "RMSE: 3389.206240\n"
     ]
    }
   ],
   "source": [
    "from sklearn.model_selection import train_test_split\n",
    "\n",
    "X_train, X_test, y_train, y_test = train_test_split(X, y, test_size=0.3, random_state=123)\n",
    "\n",
    "xg_reg = xgb.XGBRegressor(objective ='reg:linear', colsample_bytree = 0.5, learning_rate = 0.1,\n",
    "                          max_depth = 5, alpha = 5, n_estimators = 15)\n",
    "\n",
    "xg_reg.fit(X_train,y_train)\n",
    "\n",
    "preds = xg_reg.predict(X_test)\n",
    "\n",
    "rmse = np.sqrt(mean_squared_error(y_test, preds))\n",
    "print(\"RMSE: %f\" % (rmse))"
   ]
  },
  {
   "cell_type": "code",
   "execution_count": null,
   "metadata": {
    "collapsed": true
   },
   "outputs": [],
   "source": []
  },
  {
   "cell_type": "code",
   "execution_count": null,
   "metadata": {
    "collapsed": true
   },
   "outputs": [],
   "source": []
  },
  {
   "cell_type": "code",
   "execution_count": 360,
   "metadata": {},
   "outputs": [
    {
     "data": {
      "text/plain": [
       "35.52"
      ]
     },
     "execution_count": 360,
     "metadata": {},
     "output_type": "execute_result"
    }
   ],
   "source": [
    "from sklearn.linear_model import LinearRegression\n",
    "\n",
    "lr = LinearRegression(normalize=True)\n",
    "\n",
    "lr.fit(X_train, y_train)\n",
    "\n",
    "lr_pred = lr.predict(X_test)\n",
    "\n",
    "lr_accuracy = round(lr.score(X_train,y_train) * 100,2)\n",
    "lr_accuracy"
   ]
  },
  {
   "cell_type": "code",
   "execution_count": 361,
   "metadata": {},
   "outputs": [],
   "source": [
    "test_pred = lr.predict(Xtest)"
   ]
  },
  {
   "cell_type": "code",
   "execution_count": 364,
   "metadata": {},
   "outputs": [],
   "source": [
    "sub = pd.read_csv(\"SampleSubmission.csv\")\n",
    "\n",
    "linear_submission = pd.DataFrame({'Product_Supermarket_Identifier':sub['Product_Supermarket_Identifier'],\n",
    "                                  'Product_Supermarket_Sales': test_pred},\n",
    "                                 columns=['Product_Supermarket_Identifier','Product_Supermarket_Sales'])\n",
    "\n",
    "#to csv\n",
    "linear_submission.to_csv('lin_reg.csv',index=False)"
   ]
  },
  {
   "cell_type": "code",
   "execution_count": null,
   "metadata": {
    "collapsed": true
   },
   "outputs": [],
   "source": []
  }
 ],
 "metadata": {
  "kernelspec": {
   "display_name": "Python 3",
   "language": "python",
   "name": "python3"
  },
  "language_info": {
   "codemirror_mode": {
    "name": "ipython",
    "version": 3
   },
   "file_extension": ".py",
   "mimetype": "text/x-python",
   "name": "python",
   "nbconvert_exporter": "python",
   "pygments_lexer": "ipython3",
   "version": "3.6.3"
  }
 },
 "nbformat": 4,
 "nbformat_minor": 2
}
