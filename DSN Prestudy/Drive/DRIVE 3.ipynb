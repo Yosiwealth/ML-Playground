{
 "cells": [
  {
   "cell_type": "markdown",
   "metadata": {
    "heading_collapsed": true
   },
   "source": [
    "# Library imports"
   ]
  },
  {
   "cell_type": "code",
   "execution_count": 1,
   "metadata": {
    "ExecuteTime": {
     "end_time": "2019-08-02T21:55:16.435068Z",
     "start_time": "2019-08-02T21:55:03.666616Z"
    },
    "hidden": true
   },
   "outputs": [],
   "source": [
    "import numpy as np \n",
    "import pandas as pd\n",
    "import seaborn as sns\n",
    "import matplotlib.pyplot as plt\n",
    "%matplotlib inline\n",
    "\n",
    "import datetime\n",
    "from sklearn.ensemble import RandomForestRegressor"
   ]
  },
  {
   "cell_type": "markdown",
   "metadata": {},
   "source": [
    "# Preparing data\n"
   ]
  },
  {
   "cell_type": "markdown",
   "metadata": {
    "heading_collapsed": true
   },
   "source": [
    "## Data import"
   ]
  },
  {
   "cell_type": "code",
   "execution_count": 2,
   "metadata": {
    "ExecuteTime": {
     "end_time": "2019-08-02T21:55:23.303072Z",
     "start_time": "2019-08-02T21:55:16.442075Z"
    },
    "hidden": true,
    "run_control": {
     "marked": false
    }
   },
   "outputs": [],
   "source": [
    "train = pd.read_csv(\"train.csv\")\n",
    "test = pd.read_csv(\"test.csv\")"
   ]
  },
  {
   "cell_type": "markdown",
   "metadata": {},
   "source": [
    "## Combine test and train into one file"
   ]
  },
  {
   "cell_type": "code",
   "execution_count": 3,
   "metadata": {
    "ExecuteTime": {
     "end_time": "2019-08-02T21:55:23.897035Z",
     "start_time": "2019-08-02T21:55:23.310071Z"
    },
    "run_control": {
     "marked": false
    }
   },
   "outputs": [
    {
     "name": "stdout",
     "output_type": "stream",
     "text": [
      "(234828, 20) (100282, 19) (335110, 20)\n"
     ]
    }
   ],
   "source": [
    "train['source'] = 'train'\n",
    "test['source'] = 'test'\n",
    "data = pd.concat([train, test], ignore_index=True, sort=False)\n",
    "print(train.shape, test.shape, data.shape)"
   ]
  },
  {
   "cell_type": "code",
   "execution_count": null,
   "metadata": {},
   "outputs": [],
   "source": []
  },
  {
   "cell_type": "code",
   "execution_count": 4,
   "metadata": {
    "ExecuteTime": {
     "end_time": "2019-08-02T21:55:25.139967Z",
     "start_time": "2019-08-02T21:55:23.909033Z"
    }
   },
   "outputs": [
    {
     "name": "stdout",
     "output_type": "stream",
     "text": [
      "<class 'pandas.core.frame.DataFrame'>\n",
      "RangeIndex: 335110 entries, 0 to 335109\n",
      "Data columns (total 20 columns):\n",
      "id                          335110 non-null int64\n",
      "seller_type                 335110 non-null object\n",
      "country_of_use              335110 non-null object\n",
      "weblog_date                 335110 non-null object\n",
      "Area_address_code           335110 non-null int64\n",
      "car_name                    335110 non-null object\n",
      "car_type                    293378 non-null object\n",
      "Permit_registration_year    335110 non-null int64\n",
      "registration_month          335110 non-null int64\n",
      "horse_power                 335110 non-null int64\n",
      "mileage                     335110 non-null int64\n",
      "gas_type                    311076 non-null object\n",
      "car_brand                   335110 non-null object\n",
      "Status_of_car_repair        279780 non-null object\n",
      "gear_type                   321525 non-null object\n",
      "date_of_advert              335110 non-null object\n",
      "last_advert_online          335110 non-null object\n",
      "model                       319778 non-null object\n",
      "naira_price                 234828 non-null float64\n",
      "source                      335110 non-null object\n",
      "dtypes: float64(1), int64(6), object(13)\n",
      "memory usage: 51.1+ MB\n"
     ]
    },
    {
     "data": {
      "text/html": [
       "<div>\n",
       "<style scoped>\n",
       "    .dataframe tbody tr th:only-of-type {\n",
       "        vertical-align: middle;\n",
       "    }\n",
       "\n",
       "    .dataframe tbody tr th {\n",
       "        vertical-align: top;\n",
       "    }\n",
       "\n",
       "    .dataframe thead th {\n",
       "        text-align: right;\n",
       "    }\n",
       "</style>\n",
       "<table border=\"1\" class=\"dataframe\">\n",
       "  <thead>\n",
       "    <tr style=\"text-align: right;\">\n",
       "      <th></th>\n",
       "      <th>id</th>\n",
       "      <th>seller_type</th>\n",
       "      <th>country_of_use</th>\n",
       "      <th>weblog_date</th>\n",
       "      <th>Area_address_code</th>\n",
       "      <th>car_name</th>\n",
       "      <th>car_type</th>\n",
       "      <th>Permit_registration_year</th>\n",
       "      <th>registration_month</th>\n",
       "      <th>horse_power</th>\n",
       "      <th>mileage</th>\n",
       "      <th>gas_type</th>\n",
       "      <th>car_brand</th>\n",
       "      <th>Status_of_car_repair</th>\n",
       "      <th>gear_type</th>\n",
       "      <th>date_of_advert</th>\n",
       "      <th>last_advert_online</th>\n",
       "      <th>model</th>\n",
       "      <th>naira_price</th>\n",
       "      <th>source</th>\n",
       "    </tr>\n",
       "  </thead>\n",
       "  <tbody>\n",
       "    <tr>\n",
       "      <th>0</th>\n",
       "      <td>0</td>\n",
       "      <td>private</td>\n",
       "      <td>london</td>\n",
       "      <td>24/03/2016</td>\n",
       "      <td>66954</td>\n",
       "      <td>A5_Sportback_2.7_Tdi</td>\n",
       "      <td>coupé</td>\n",
       "      <td>2013</td>\n",
       "      <td>5</td>\n",
       "      <td>190</td>\n",
       "      <td>201125</td>\n",
       "      <td>diesel</td>\n",
       "      <td>audi</td>\n",
       "      <td>ja</td>\n",
       "      <td>manuell</td>\n",
       "      <td>24/03/2016</td>\n",
       "      <td>07/04/2016</td>\n",
       "      <td>NaN</td>\n",
       "      <td>6588000.0</td>\n",
       "      <td>train</td>\n",
       "    </tr>\n",
       "    <tr>\n",
       "      <th>1</th>\n",
       "      <td>1</td>\n",
       "      <td>private</td>\n",
       "      <td>london</td>\n",
       "      <td>14/03/2016</td>\n",
       "      <td>90480</td>\n",
       "      <td>Jeep_Grand_Cherokee_\"Overland\"</td>\n",
       "      <td>NaN</td>\n",
       "      <td>2006</td>\n",
       "      <td>8</td>\n",
       "      <td>163</td>\n",
       "      <td>201125</td>\n",
       "      <td>diesel</td>\n",
       "      <td>jeep</td>\n",
       "      <td>NaN</td>\n",
       "      <td>automatik</td>\n",
       "      <td>14/03/2016</td>\n",
       "      <td>05/04/2016</td>\n",
       "      <td>grand</td>\n",
       "      <td>3528000.0</td>\n",
       "      <td>train</td>\n",
       "    </tr>\n",
       "    <tr>\n",
       "      <th>2</th>\n",
       "      <td>3</td>\n",
       "      <td>private</td>\n",
       "      <td>london</td>\n",
       "      <td>31/03/2016</td>\n",
       "      <td>60437</td>\n",
       "      <td>Skoda_Fabia_1.4_TDI_PD_Classic</td>\n",
       "      <td>small car</td>\n",
       "      <td>2010</td>\n",
       "      <td>7</td>\n",
       "      <td>69</td>\n",
       "      <td>144810</td>\n",
       "      <td>diesel</td>\n",
       "      <td>skoda</td>\n",
       "      <td>nein</td>\n",
       "      <td>manuell</td>\n",
       "      <td>31/03/2016</td>\n",
       "      <td>06/04/2016</td>\n",
       "      <td>fabia</td>\n",
       "      <td>1296000.0</td>\n",
       "      <td>train</td>\n",
       "    </tr>\n",
       "    <tr>\n",
       "      <th>3</th>\n",
       "      <td>4</td>\n",
       "      <td>private</td>\n",
       "      <td>london</td>\n",
       "      <td>04/04/2016</td>\n",
       "      <td>33775</td>\n",
       "      <td>BMW_316i___e36_Limousine___Bastlerfahrzeug__Ex...</td>\n",
       "      <td>limousine</td>\n",
       "      <td>1997</td>\n",
       "      <td>10</td>\n",
       "      <td>102</td>\n",
       "      <td>241350</td>\n",
       "      <td>gasoline</td>\n",
       "      <td>bmw</td>\n",
       "      <td>ja</td>\n",
       "      <td>manuell</td>\n",
       "      <td>04/04/2016</td>\n",
       "      <td>06/04/2016</td>\n",
       "      <td>3er</td>\n",
       "      <td>234000.0</td>\n",
       "      <td>train</td>\n",
       "    </tr>\n",
       "    <tr>\n",
       "      <th>4</th>\n",
       "      <td>5</td>\n",
       "      <td>private</td>\n",
       "      <td>london</td>\n",
       "      <td>01/04/2016</td>\n",
       "      <td>67112</td>\n",
       "      <td>Peugeot_206_CC_110_Platinum</td>\n",
       "      <td>convertible</td>\n",
       "      <td>2006</td>\n",
       "      <td>8</td>\n",
       "      <td>109</td>\n",
       "      <td>241350</td>\n",
       "      <td>gasoline</td>\n",
       "      <td>peugeot</td>\n",
       "      <td>nein</td>\n",
       "      <td>manuell</td>\n",
       "      <td>01/04/2016</td>\n",
       "      <td>05/04/2016</td>\n",
       "      <td>2_reihe</td>\n",
       "      <td>792000.0</td>\n",
       "      <td>train</td>\n",
       "    </tr>\n",
       "  </tbody>\n",
       "</table>\n",
       "</div>"
      ],
      "text/plain": [
       "   id seller_type country_of_use weblog_date  Area_address_code  \\\n",
       "0   0     private         london  24/03/2016              66954   \n",
       "1   1     private         london  14/03/2016              90480   \n",
       "2   3     private         london  31/03/2016              60437   \n",
       "3   4     private         london  04/04/2016              33775   \n",
       "4   5     private         london  01/04/2016              67112   \n",
       "\n",
       "                                            car_name     car_type  \\\n",
       "0                               A5_Sportback_2.7_Tdi        coupé   \n",
       "1                     Jeep_Grand_Cherokee_\"Overland\"          NaN   \n",
       "2                     Skoda_Fabia_1.4_TDI_PD_Classic    small car   \n",
       "3  BMW_316i___e36_Limousine___Bastlerfahrzeug__Ex...    limousine   \n",
       "4                        Peugeot_206_CC_110_Platinum  convertible   \n",
       "\n",
       "   Permit_registration_year  registration_month  horse_power  mileage  \\\n",
       "0                      2013                   5          190   201125   \n",
       "1                      2006                   8          163   201125   \n",
       "2                      2010                   7           69   144810   \n",
       "3                      1997                  10          102   241350   \n",
       "4                      2006                   8          109   241350   \n",
       "\n",
       "   gas_type car_brand Status_of_car_repair  gear_type date_of_advert  \\\n",
       "0    diesel      audi                   ja    manuell     24/03/2016   \n",
       "1    diesel      jeep                  NaN  automatik     14/03/2016   \n",
       "2    diesel     skoda                 nein    manuell     31/03/2016   \n",
       "3  gasoline       bmw                   ja    manuell     04/04/2016   \n",
       "4  gasoline   peugeot                 nein    manuell     01/04/2016   \n",
       "\n",
       "  last_advert_online    model  naira_price source  \n",
       "0         07/04/2016      NaN    6588000.0  train  \n",
       "1         05/04/2016    grand    3528000.0  train  \n",
       "2         06/04/2016    fabia    1296000.0  train  \n",
       "3         06/04/2016      3er     234000.0  train  \n",
       "4         05/04/2016  2_reihe     792000.0  train  "
      ]
     },
     "execution_count": 4,
     "metadata": {},
     "output_type": "execute_result"
    }
   ],
   "source": [
    "data.info()\n",
    "data.head()"
   ]
  },
  {
   "cell_type": "code",
   "execution_count": 5,
   "metadata": {
    "ExecuteTime": {
     "end_time": "2019-08-02T21:55:25.170965Z",
     "start_time": "2019-08-02T21:55:25.149968Z"
    }
   },
   "outputs": [
    {
     "data": {
      "text/plain": [
       "(335110, 20)"
      ]
     },
     "execution_count": 5,
     "metadata": {},
     "output_type": "execute_result"
    }
   ],
   "source": [
    "data.shape"
   ]
  },
  {
   "cell_type": "markdown",
   "metadata": {
    "ExecuteTime": {
     "start_time": "2019-08-02T19:58:22.039Z"
    }
   },
   "source": [
    "## Data Cleaning"
   ]
  },
  {
   "cell_type": "code",
   "execution_count": 6,
   "metadata": {
    "ExecuteTime": {
     "end_time": "2019-08-02T21:55:25.506959Z",
     "start_time": "2019-08-02T21:55:25.182964Z"
    }
   },
   "outputs": [],
   "source": [
    "data_set = data.drop(['weblog_date', 'date_of_advert', 'last_advert_online','id'], axis=1)"
   ]
  },
  {
   "cell_type": "code",
   "execution_count": 7,
   "metadata": {
    "ExecuteTime": {
     "end_time": "2019-08-02T21:55:26.654959Z",
     "start_time": "2019-08-02T21:55:25.515958Z"
    }
   },
   "outputs": [
    {
     "data": {
      "text/plain": [
       "count       335110\n",
       "unique      206197\n",
       "top       BMW_318i\n",
       "freq           627\n",
       "Name: car_name, dtype: object"
      ]
     },
     "execution_count": 7,
     "metadata": {},
     "output_type": "execute_result"
    }
   ],
   "source": [
    "data_set.car_name.describe()"
   ]
  },
  {
   "cell_type": "code",
   "execution_count": 8,
   "metadata": {
    "ExecuteTime": {
     "end_time": "2019-08-02T21:55:26.829012Z",
     "start_time": "2019-08-02T21:55:26.664958Z"
    }
   },
   "outputs": [],
   "source": [
    "data_set = data_set.drop('car_name', 1)"
   ]
  },
  {
   "cell_type": "code",
   "execution_count": 9,
   "metadata": {
    "ExecuteTime": {
     "end_time": "2019-08-02T21:55:27.093009Z",
     "start_time": "2019-08-02T21:55:26.837010Z"
    }
   },
   "outputs": [
    {
     "data": {
      "text/plain": [
       "private    335110\n",
       "Name: seller_type, dtype: int64"
      ]
     },
     "execution_count": 9,
     "metadata": {},
     "output_type": "execute_result"
    }
   ],
   "source": [
    "data_set.seller_type.value_counts()"
   ]
  },
  {
   "cell_type": "code",
   "execution_count": 10,
   "metadata": {
    "ExecuteTime": {
     "end_time": "2019-08-02T21:55:27.342139Z",
     "start_time": "2019-08-02T21:55:27.101009Z"
    }
   },
   "outputs": [],
   "source": [
    "data_set = data_set.drop('seller_type', 1)"
   ]
  },
  {
   "cell_type": "code",
   "execution_count": null,
   "metadata": {},
   "outputs": [],
   "source": []
  },
  {
   "cell_type": "code",
   "execution_count": 11,
   "metadata": {
    "ExecuteTime": {
     "end_time": "2019-08-02T21:55:27.653135Z",
     "start_time": "2019-08-02T21:55:27.350140Z"
    }
   },
   "outputs": [
    {
     "data": {
      "text/plain": [
       "london    335110\n",
       "Name: country_of_use, dtype: int64"
      ]
     },
     "execution_count": 11,
     "metadata": {},
     "output_type": "execute_result"
    }
   ],
   "source": [
    "data_set.country_of_use.value_counts()"
   ]
  },
  {
   "cell_type": "code",
   "execution_count": 12,
   "metadata": {
    "ExecuteTime": {
     "end_time": "2019-08-02T21:55:28.021113Z",
     "start_time": "2019-08-02T21:55:27.665133Z"
    }
   },
   "outputs": [],
   "source": [
    "data_set = data_set.drop('country_of_use', 1)"
   ]
  },
  {
   "cell_type": "code",
   "execution_count": null,
   "metadata": {},
   "outputs": [],
   "source": []
  },
  {
   "cell_type": "code",
   "execution_count": 13,
   "metadata": {
    "ExecuteTime": {
     "end_time": "2019-08-02T21:55:28.914052Z",
     "start_time": "2019-08-02T21:55:28.029111Z"
    }
   },
   "outputs": [
    {
     "data": {
      "text/plain": [
       "<matplotlib.axes._subplots.AxesSubplot at 0x1ddf82fbe48>"
      ]
     },
     "execution_count": 13,
     "metadata": {},
     "output_type": "execute_result"
    },
    {
     "data": {
      "image/png": "[encoded data removed]",
      "text/plain": [
       "<Figure size 576x288 with 1 Axes>"
      ]
     },
     "metadata": {
      "needs_background": "light"
     },
     "output_type": "display_data"
    }
   ],
   "source": [
    "data_set.car_type.value_counts().plot(kind='bar',figsize=(8,4))"
   ]
  },
  {
   "cell_type": "raw",
   "metadata": {
    "ExecuteTime": {
     "end_time": "2019-08-02T10:40:59.458929Z",
     "start_time": "2019-08-02T10:40:59.259943Z"
    }
   },
   "source": [
    "data_set = data_set[data_set.car_type != 'other']"
   ]
  },
  {
   "cell_type": "code",
   "execution_count": null,
   "metadata": {},
   "outputs": [],
   "source": []
  },
  {
   "cell_type": "code",
   "execution_count": 14,
   "metadata": {
    "ExecuteTime": {
     "end_time": "2019-08-02T21:55:29.116051Z",
     "start_time": "2019-08-02T21:55:28.924055Z"
    }
   },
   "outputs": [
    {
     "data": {
      "text/plain": [
       "manuell      247350\n",
       "automatik     74175\n",
       "Name: gear_type, dtype: int64"
      ]
     },
     "execution_count": 14,
     "metadata": {},
     "output_type": "execute_result"
    }
   ],
   "source": [
    "data_set.gear_type.value_counts()"
   ]
  },
  {
   "cell_type": "code",
   "execution_count": null,
   "metadata": {},
   "outputs": [],
   "source": []
  },
  {
   "cell_type": "code",
   "execution_count": 15,
   "metadata": {
    "ExecuteTime": {
     "end_time": "2019-08-02T21:55:29.505039Z",
     "start_time": "2019-08-02T21:55:29.125051Z"
    }
   },
   "outputs": [
    {
     "data": {
      "text/plain": [
       "count     319778\n",
       "unique       251\n",
       "top         golf\n",
       "freq       27033\n",
       "Name: model, dtype: object"
      ]
     },
     "execution_count": 15,
     "metadata": {},
     "output_type": "execute_result"
    }
   ],
   "source": [
    "data_set.model.describe()"
   ]
  },
  {
   "cell_type": "code",
   "execution_count": null,
   "metadata": {},
   "outputs": [],
   "source": []
  },
  {
   "cell_type": "code",
   "execution_count": 16,
   "metadata": {
    "ExecuteTime": {
     "end_time": "2019-08-02T21:55:30.322007Z",
     "start_time": "2019-08-02T21:55:29.513042Z"
    }
   },
   "outputs": [
    {
     "data": {
      "text/plain": [
       "<matplotlib.axes._subplots.AxesSubplot at 0x1dd800f4240>"
      ]
     },
     "execution_count": 16,
     "metadata": {},
     "output_type": "execute_result"
    },
    {
     "data": {
      "image/png": "[encoded data removed]",
      "text/plain": [
       "<Figure size 576x288 with 1 Axes>"
      ]
     },
     "metadata": {
      "needs_background": "light"
     },
     "output_type": "display_data"
    }
   ],
   "source": [
    "data_set.gas_type.value_counts().plot(kind='bar',figsize=(8,4))"
   ]
  },
  {
   "cell_type": "code",
   "execution_count": null,
   "metadata": {},
   "outputs": [],
   "source": []
  },
  {
   "cell_type": "code",
   "execution_count": 17,
   "metadata": {
    "ExecuteTime": {
     "end_time": "2019-08-02T21:55:32.294038Z",
     "start_time": "2019-08-02T21:55:30.331011Z"
    }
   },
   "outputs": [
    {
     "data": {
      "text/plain": [
       "<matplotlib.axes._subplots.AxesSubplot at 0x1dd8015e6d8>"
      ]
     },
     "execution_count": 17,
     "metadata": {},
     "output_type": "execute_result"
    },
    {
     "data": {
      "image/png": "[encoded data removed]",
      "text/plain": [
       "<Figure size 1440x576 with 1 Axes>"
      ]
     },
     "metadata": {
      "needs_background": "light"
     },
     "output_type": "display_data"
    }
   ],
   "source": [
    "data_set.car_brand.value_counts().plot(kind='bar',figsize=(20,8))"
   ]
  },
  {
   "cell_type": "code",
   "execution_count": null,
   "metadata": {},
   "outputs": [],
   "source": []
  },
  {
   "cell_type": "code",
   "execution_count": 18,
   "metadata": {
    "ExecuteTime": {
     "end_time": "2019-08-02T21:55:32.489029Z",
     "start_time": "2019-08-02T21:55:32.303040Z"
    }
   },
   "outputs": [
    {
     "data": {
      "text/plain": [
       "nein    253186\n",
       "ja       26594\n",
       "Name: Status_of_car_repair, dtype: int64"
      ]
     },
     "execution_count": 18,
     "metadata": {},
     "output_type": "execute_result"
    }
   ],
   "source": [
    "data_set.Status_of_car_repair.value_counts()"
   ]
  },
  {
   "cell_type": "code",
   "execution_count": 19,
   "metadata": {
    "ExecuteTime": {
     "end_time": "2019-08-02T21:55:32.710010Z",
     "start_time": "2019-08-02T21:55:32.499028Z"
    },
    "run_control": {
     "marked": false
    }
   },
   "outputs": [],
   "source": [
    "data_set = data_set.drop('Status_of_car_repair', 1)"
   ]
  },
  {
   "cell_type": "code",
   "execution_count": null,
   "metadata": {},
   "outputs": [],
   "source": []
  },
  {
   "cell_type": "code",
   "execution_count": 20,
   "metadata": {
    "ExecuteTime": {
     "end_time": "2019-08-02T21:55:36.063898Z",
     "start_time": "2019-08-02T21:55:32.719014Z"
    }
   },
   "outputs": [
    {
     "data": {
      "text/plain": [
       "<matplotlib.axes._subplots.AxesSubplot at 0x1dd8024b320>"
      ]
     },
     "execution_count": 20,
     "metadata": {},
     "output_type": "execute_result"
    },
    {
     "data": {
      "image/png": "[encoded data removed]",
      "text/plain": [
       "<Figure size 1440x576 with 1 Axes>"
      ]
     },
     "metadata": {
      "needs_background": "light"
     },
     "output_type": "display_data"
    }
   ],
   "source": [
    "data_set.Permit_registration_year.value_counts().plot(kind='bar',figsize=(20,8))"
   ]
  },
  {
   "cell_type": "code",
   "execution_count": null,
   "metadata": {},
   "outputs": [],
   "source": []
  },
  {
   "cell_type": "markdown",
   "metadata": {},
   "source": [
    "### Create a new column to calculate how old a car as being in use"
   ]
  },
  {
   "cell_type": "code",
   "execution_count": 21,
   "metadata": {
    "ExecuteTime": {
     "end_time": "2019-08-02T21:55:36.758738Z",
     "start_time": "2019-08-02T21:55:36.075897Z"
    }
   },
   "outputs": [],
   "source": [
    "now = datetime.datetime.now()\n",
    "data_set['vehicleAge'] = ((now.year * 12 + now.month) - (data_set.Permit_registration_year * 12 + data_set.registration_month))\n",
    "data_set = data_set.drop(['registration_month','Permit_registration_year'], 1)"
   ]
  },
  {
   "cell_type": "code",
   "execution_count": 22,
   "metadata": {
    "ExecuteTime": {
     "end_time": "2019-08-02T21:55:36.827730Z",
     "start_time": "2019-08-02T21:55:36.767741Z"
    }
   },
   "outputs": [
    {
     "data": {
      "text/html": [
       "<div>\n",
       "<style scoped>\n",
       "    .dataframe tbody tr th:only-of-type {\n",
       "        vertical-align: middle;\n",
       "    }\n",
       "\n",
       "    .dataframe tbody tr th {\n",
       "        vertical-align: top;\n",
       "    }\n",
       "\n",
       "    .dataframe thead th {\n",
       "        text-align: right;\n",
       "    }\n",
       "</style>\n",
       "<table border=\"1\" class=\"dataframe\">\n",
       "  <thead>\n",
       "    <tr style=\"text-align: right;\">\n",
       "      <th></th>\n",
       "      <th>Area_address_code</th>\n",
       "      <th>car_type</th>\n",
       "      <th>horse_power</th>\n",
       "      <th>mileage</th>\n",
       "      <th>gas_type</th>\n",
       "      <th>car_brand</th>\n",
       "      <th>gear_type</th>\n",
       "      <th>model</th>\n",
       "      <th>naira_price</th>\n",
       "      <th>source</th>\n",
       "      <th>vehicleAge</th>\n",
       "    </tr>\n",
       "  </thead>\n",
       "  <tbody>\n",
       "    <tr>\n",
       "      <th>0</th>\n",
       "      <td>66954</td>\n",
       "      <td>coupé</td>\n",
       "      <td>190</td>\n",
       "      <td>201125</td>\n",
       "      <td>diesel</td>\n",
       "      <td>audi</td>\n",
       "      <td>manuell</td>\n",
       "      <td>NaN</td>\n",
       "      <td>6588000.0</td>\n",
       "      <td>train</td>\n",
       "      <td>75</td>\n",
       "    </tr>\n",
       "    <tr>\n",
       "      <th>1</th>\n",
       "      <td>90480</td>\n",
       "      <td>NaN</td>\n",
       "      <td>163</td>\n",
       "      <td>201125</td>\n",
       "      <td>diesel</td>\n",
       "      <td>jeep</td>\n",
       "      <td>automatik</td>\n",
       "      <td>grand</td>\n",
       "      <td>3528000.0</td>\n",
       "      <td>train</td>\n",
       "      <td>156</td>\n",
       "    </tr>\n",
       "    <tr>\n",
       "      <th>2</th>\n",
       "      <td>60437</td>\n",
       "      <td>small car</td>\n",
       "      <td>69</td>\n",
       "      <td>144810</td>\n",
       "      <td>diesel</td>\n",
       "      <td>skoda</td>\n",
       "      <td>manuell</td>\n",
       "      <td>fabia</td>\n",
       "      <td>1296000.0</td>\n",
       "      <td>train</td>\n",
       "      <td>109</td>\n",
       "    </tr>\n",
       "    <tr>\n",
       "      <th>3</th>\n",
       "      <td>33775</td>\n",
       "      <td>limousine</td>\n",
       "      <td>102</td>\n",
       "      <td>241350</td>\n",
       "      <td>gasoline</td>\n",
       "      <td>bmw</td>\n",
       "      <td>manuell</td>\n",
       "      <td>3er</td>\n",
       "      <td>234000.0</td>\n",
       "      <td>train</td>\n",
       "      <td>262</td>\n",
       "    </tr>\n",
       "    <tr>\n",
       "      <th>4</th>\n",
       "      <td>67112</td>\n",
       "      <td>convertible</td>\n",
       "      <td>109</td>\n",
       "      <td>241350</td>\n",
       "      <td>gasoline</td>\n",
       "      <td>peugeot</td>\n",
       "      <td>manuell</td>\n",
       "      <td>2_reihe</td>\n",
       "      <td>792000.0</td>\n",
       "      <td>train</td>\n",
       "      <td>156</td>\n",
       "    </tr>\n",
       "  </tbody>\n",
       "</table>\n",
       "</div>"
      ],
      "text/plain": [
       "   Area_address_code     car_type  horse_power  mileage  gas_type car_brand  \\\n",
       "0              66954        coupé          190   201125    diesel      audi   \n",
       "1              90480          NaN          163   201125    diesel      jeep   \n",
       "2              60437    small car           69   144810    diesel     skoda   \n",
       "3              33775    limousine          102   241350  gasoline       bmw   \n",
       "4              67112  convertible          109   241350  gasoline   peugeot   \n",
       "\n",
       "   gear_type    model  naira_price source  vehicleAge  \n",
       "0    manuell      NaN    6588000.0  train          75  \n",
       "1  automatik    grand    3528000.0  train         156  \n",
       "2    manuell    fabia    1296000.0  train         109  \n",
       "3    manuell      3er     234000.0  train         262  \n",
       "4    manuell  2_reihe     792000.0  train         156  "
      ]
     },
     "execution_count": 22,
     "metadata": {},
     "output_type": "execute_result"
    }
   ],
   "source": [
    "data_set.head()"
   ]
  },
  {
   "cell_type": "code",
   "execution_count": null,
   "metadata": {},
   "outputs": [],
   "source": []
  },
  {
   "cell_type": "markdown",
   "metadata": {},
   "source": [
    "### Check for missing values"
   ]
  },
  {
   "cell_type": "code",
   "execution_count": 23,
   "metadata": {
    "ExecuteTime": {
     "end_time": "2019-08-02T21:55:37.362718Z",
     "start_time": "2019-08-02T21:55:36.835732Z"
    },
    "scrolled": false
   },
   "outputs": [
    {
     "name": "stdout",
     "output_type": "stream",
     "text": [
      "Area_address_code         0\n",
      "car_type              41732\n",
      "horse_power               0\n",
      "mileage                   0\n",
      "gas_type              24034\n",
      "car_brand                 0\n",
      "gear_type             13585\n",
      "model                 15332\n",
      "naira_price          100282\n",
      "source                    0\n",
      "vehicleAge                0\n",
      "dtype: int64\n"
     ]
    }
   ],
   "source": [
    "print(data_set.isnull().sum())"
   ]
  },
  {
   "cell_type": "code",
   "execution_count": null,
   "metadata": {},
   "outputs": [],
   "source": []
  },
  {
   "cell_type": "code",
   "execution_count": 24,
   "metadata": {
    "ExecuteTime": {
     "end_time": "2019-08-02T21:55:37.675706Z",
     "start_time": "2019-08-02T21:55:37.371719Z"
    },
    "scrolled": true
   },
   "outputs": [],
   "source": [
    "#fill missing values\n",
    "\n",
    "data_set.car_type.fillna(\"limousine\", inplace=True)\n",
    "data_set.gas_type.fillna(\"gasoline\", inplace=True)\n",
    "#data_set.Status_of_car_repair.fillna(\"nein\",inplace=True)\n",
    "data_set.gear_type.fillna(\"manuell\", inplace=True)\n",
    "data_set.model.fillna(\"golf\", inplace=True)"
   ]
  },
  {
   "cell_type": "code",
   "execution_count": 25,
   "metadata": {
    "ExecuteTime": {
     "end_time": "2019-08-02T21:55:38.172714Z",
     "start_time": "2019-08-02T21:55:37.683706Z"
    },
    "scrolled": false
   },
   "outputs": [
    {
     "name": "stdout",
     "output_type": "stream",
     "text": [
      "Area_address_code         0\n",
      "car_type                  0\n",
      "horse_power               0\n",
      "mileage                   0\n",
      "gas_type                  0\n",
      "car_brand                 0\n",
      "gear_type                 0\n",
      "model                     0\n",
      "naira_price          100282\n",
      "source                    0\n",
      "vehicleAge                0\n",
      "dtype: int64\n"
     ]
    }
   ],
   "source": [
    "print(data_set.isnull().sum())"
   ]
  },
  {
   "cell_type": "code",
   "execution_count": 26,
   "metadata": {
    "ExecuteTime": {
     "end_time": "2019-08-02T21:55:38.241890Z",
     "start_time": "2019-08-02T21:55:38.183713Z"
    },
    "scrolled": true
   },
   "outputs": [
    {
     "data": {
      "text/html": [
       "<div>\n",
       "<style scoped>\n",
       "    .dataframe tbody tr th:only-of-type {\n",
       "        vertical-align: middle;\n",
       "    }\n",
       "\n",
       "    .dataframe tbody tr th {\n",
       "        vertical-align: top;\n",
       "    }\n",
       "\n",
       "    .dataframe thead th {\n",
       "        text-align: right;\n",
       "    }\n",
       "</style>\n",
       "<table border=\"1\" class=\"dataframe\">\n",
       "  <thead>\n",
       "    <tr style=\"text-align: right;\">\n",
       "      <th></th>\n",
       "      <th>Area_address_code</th>\n",
       "      <th>car_type</th>\n",
       "      <th>horse_power</th>\n",
       "      <th>mileage</th>\n",
       "      <th>gas_type</th>\n",
       "      <th>car_brand</th>\n",
       "      <th>gear_type</th>\n",
       "      <th>model</th>\n",
       "      <th>naira_price</th>\n",
       "      <th>source</th>\n",
       "      <th>vehicleAge</th>\n",
       "    </tr>\n",
       "  </thead>\n",
       "  <tbody>\n",
       "    <tr>\n",
       "      <th>0</th>\n",
       "      <td>66954</td>\n",
       "      <td>coupé</td>\n",
       "      <td>190</td>\n",
       "      <td>201125</td>\n",
       "      <td>diesel</td>\n",
       "      <td>audi</td>\n",
       "      <td>manuell</td>\n",
       "      <td>golf</td>\n",
       "      <td>6588000.0</td>\n",
       "      <td>train</td>\n",
       "      <td>75</td>\n",
       "    </tr>\n",
       "    <tr>\n",
       "      <th>1</th>\n",
       "      <td>90480</td>\n",
       "      <td>limousine</td>\n",
       "      <td>163</td>\n",
       "      <td>201125</td>\n",
       "      <td>diesel</td>\n",
       "      <td>jeep</td>\n",
       "      <td>automatik</td>\n",
       "      <td>grand</td>\n",
       "      <td>3528000.0</td>\n",
       "      <td>train</td>\n",
       "      <td>156</td>\n",
       "    </tr>\n",
       "    <tr>\n",
       "      <th>2</th>\n",
       "      <td>60437</td>\n",
       "      <td>small car</td>\n",
       "      <td>69</td>\n",
       "      <td>144810</td>\n",
       "      <td>diesel</td>\n",
       "      <td>skoda</td>\n",
       "      <td>manuell</td>\n",
       "      <td>fabia</td>\n",
       "      <td>1296000.0</td>\n",
       "      <td>train</td>\n",
       "      <td>109</td>\n",
       "    </tr>\n",
       "    <tr>\n",
       "      <th>3</th>\n",
       "      <td>33775</td>\n",
       "      <td>limousine</td>\n",
       "      <td>102</td>\n",
       "      <td>241350</td>\n",
       "      <td>gasoline</td>\n",
       "      <td>bmw</td>\n",
       "      <td>manuell</td>\n",
       "      <td>3er</td>\n",
       "      <td>234000.0</td>\n",
       "      <td>train</td>\n",
       "      <td>262</td>\n",
       "    </tr>\n",
       "    <tr>\n",
       "      <th>4</th>\n",
       "      <td>67112</td>\n",
       "      <td>convertible</td>\n",
       "      <td>109</td>\n",
       "      <td>241350</td>\n",
       "      <td>gasoline</td>\n",
       "      <td>peugeot</td>\n",
       "      <td>manuell</td>\n",
       "      <td>2_reihe</td>\n",
       "      <td>792000.0</td>\n",
       "      <td>train</td>\n",
       "      <td>156</td>\n",
       "    </tr>\n",
       "  </tbody>\n",
       "</table>\n",
       "</div>"
      ],
      "text/plain": [
       "   Area_address_code     car_type  horse_power  mileage  gas_type car_brand  \\\n",
       "0              66954        coupé          190   201125    diesel      audi   \n",
       "1              90480    limousine          163   201125    diesel      jeep   \n",
       "2              60437    small car           69   144810    diesel     skoda   \n",
       "3              33775    limousine          102   241350  gasoline       bmw   \n",
       "4              67112  convertible          109   241350  gasoline   peugeot   \n",
       "\n",
       "   gear_type    model  naira_price source  vehicleAge  \n",
       "0    manuell     golf    6588000.0  train          75  \n",
       "1  automatik    grand    3528000.0  train         156  \n",
       "2    manuell    fabia    1296000.0  train         109  \n",
       "3    manuell      3er     234000.0  train         262  \n",
       "4    manuell  2_reihe     792000.0  train         156  "
      ]
     },
     "execution_count": 26,
     "metadata": {},
     "output_type": "execute_result"
    }
   ],
   "source": [
    "data_set.head()"
   ]
  },
  {
   "cell_type": "code",
   "execution_count": null,
   "metadata": {},
   "outputs": [],
   "source": []
  },
  {
   "cell_type": "code",
   "execution_count": null,
   "metadata": {},
   "outputs": [],
   "source": []
  },
  {
   "cell_type": "code",
   "execution_count": null,
   "metadata": {},
   "outputs": [],
   "source": []
  },
  {
   "cell_type": "code",
   "execution_count": 27,
   "metadata": {
    "ExecuteTime": {
     "end_time": "2019-08-02T21:55:38.417879Z",
     "start_time": "2019-08-02T21:55:38.248890Z"
    }
   },
   "outputs": [],
   "source": [
    "#make a copy of dataset for safekeeping\n",
    "\n",
    "copy_data_set = data_set.copy()"
   ]
  },
  {
   "cell_type": "code",
   "execution_count": null,
   "metadata": {},
   "outputs": [],
   "source": []
  },
  {
   "cell_type": "markdown",
   "metadata": {},
   "source": [
    "### Encode categorical variables"
   ]
  },
  {
   "cell_type": "code",
   "execution_count": 28,
   "metadata": {
    "ExecuteTime": {
     "end_time": "2019-08-02T21:55:39.937750Z",
     "start_time": "2019-08-02T21:55:38.426788Z"
    }
   },
   "outputs": [
    {
     "data": {
      "text/html": [
       "<div>\n",
       "<style scoped>\n",
       "    .dataframe tbody tr th:only-of-type {\n",
       "        vertical-align: middle;\n",
       "    }\n",
       "\n",
       "    .dataframe tbody tr th {\n",
       "        vertical-align: top;\n",
       "    }\n",
       "\n",
       "    .dataframe thead th {\n",
       "        text-align: right;\n",
       "    }\n",
       "</style>\n",
       "<table border=\"1\" class=\"dataframe\">\n",
       "  <thead>\n",
       "    <tr style=\"text-align: right;\">\n",
       "      <th></th>\n",
       "      <th>Area_address_code</th>\n",
       "      <th>car_type</th>\n",
       "      <th>horse_power</th>\n",
       "      <th>mileage</th>\n",
       "      <th>gas_type</th>\n",
       "      <th>car_brand</th>\n",
       "      <th>gear_type</th>\n",
       "      <th>model</th>\n",
       "      <th>naira_price</th>\n",
       "      <th>source</th>\n",
       "      <th>vehicleAge</th>\n",
       "    </tr>\n",
       "  </thead>\n",
       "  <tbody>\n",
       "    <tr>\n",
       "      <th>0</th>\n",
       "      <td>66954</td>\n",
       "      <td>2</td>\n",
       "      <td>190</td>\n",
       "      <td>201125</td>\n",
       "      <td>1</td>\n",
       "      <td>1</td>\n",
       "      <td>1</td>\n",
       "      <td>118</td>\n",
       "      <td>6588000.0</td>\n",
       "      <td>1</td>\n",
       "      <td>75</td>\n",
       "    </tr>\n",
       "    <tr>\n",
       "      <th>1</th>\n",
       "      <td>90480</td>\n",
       "      <td>3</td>\n",
       "      <td>163</td>\n",
       "      <td>201125</td>\n",
       "      <td>1</td>\n",
       "      <td>14</td>\n",
       "      <td>0</td>\n",
       "      <td>119</td>\n",
       "      <td>3528000.0</td>\n",
       "      <td>1</td>\n",
       "      <td>156</td>\n",
       "    </tr>\n",
       "    <tr>\n",
       "      <th>2</th>\n",
       "      <td>60437</td>\n",
       "      <td>5</td>\n",
       "      <td>69</td>\n",
       "      <td>144810</td>\n",
       "      <td>1</td>\n",
       "      <td>30</td>\n",
       "      <td>1</td>\n",
       "      <td>103</td>\n",
       "      <td>1296000.0</td>\n",
       "      <td>1</td>\n",
       "      <td>109</td>\n",
       "    </tr>\n",
       "    <tr>\n",
       "      <th>3</th>\n",
       "      <td>33775</td>\n",
       "      <td>3</td>\n",
       "      <td>102</td>\n",
       "      <td>241350</td>\n",
       "      <td>2</td>\n",
       "      <td>2</td>\n",
       "      <td>1</td>\n",
       "      <td>11</td>\n",
       "      <td>234000.0</td>\n",
       "      <td>1</td>\n",
       "      <td>262</td>\n",
       "    </tr>\n",
       "    <tr>\n",
       "      <th>4</th>\n",
       "      <td>67112</td>\n",
       "      <td>1</td>\n",
       "      <td>109</td>\n",
       "      <td>241350</td>\n",
       "      <td>2</td>\n",
       "      <td>24</td>\n",
       "      <td>1</td>\n",
       "      <td>8</td>\n",
       "      <td>792000.0</td>\n",
       "      <td>1</td>\n",
       "      <td>156</td>\n",
       "    </tr>\n",
       "  </tbody>\n",
       "</table>\n",
       "</div>"
      ],
      "text/plain": [
       "   Area_address_code  car_type  horse_power  mileage  gas_type  car_brand  \\\n",
       "0              66954         2          190   201125         1          1   \n",
       "1              90480         3          163   201125         1         14   \n",
       "2              60437         5           69   144810         1         30   \n",
       "3              33775         3          102   241350         2          2   \n",
       "4              67112         1          109   241350         2         24   \n",
       "\n",
       "   gear_type  model  naira_price  source  vehicleAge  \n",
       "0          1    118    6588000.0       1          75  \n",
       "1          0    119    3528000.0       1         156  \n",
       "2          1    103    1296000.0       1         109  \n",
       "3          1     11     234000.0       1         262  \n",
       "4          1      8     792000.0       1         156  "
      ]
     },
     "execution_count": 28,
     "metadata": {},
     "output_type": "execute_result"
    }
   ],
   "source": [
    "from sklearn.preprocessing import LabelEncoder\n",
    "le = LabelEncoder()\n",
    "cat = copy_data_set.columns[copy_data_set.dtypes == object]\n",
    "for col in cat:\n",
    "    copy_data_set[col] = le.fit_transform(copy_data_set[col])\n",
    "\n",
    "copy_data_set.head()"
   ]
  },
  {
   "cell_type": "code",
   "execution_count": null,
   "metadata": {},
   "outputs": [],
   "source": []
  },
  {
   "cell_type": "code",
   "execution_count": 29,
   "metadata": {
    "ExecuteTime": {
     "end_time": "2019-08-02T21:55:43.256820Z",
     "start_time": "2019-08-02T21:55:39.944753Z"
    },
    "scrolled": true
   },
   "outputs": [
    {
     "data": {
      "text/plain": [
       "<matplotlib.axes._subplots.AxesSubplot at 0x1dd806d9630>"
      ]
     },
     "execution_count": 29,
     "metadata": {},
     "output_type": "execute_result"
    },
    {
     "data": {
      "image/png": "[encoded data removed]",
      "text/plain": [
       "<Figure size 1152x576 with 2 Axes>"
      ]
     },
     "metadata": {
      "needs_background": "light"
     },
     "output_type": "display_data"
    }
   ],
   "source": [
    "#plot heatmap of correlation between features\n",
    "\n",
    "plt.figure(figsize=(16,8))\n",
    "sns.heatmap(copy_data_set.corr(), annot=True, cmap=\"terrain\")"
   ]
  },
  {
   "cell_type": "code",
   "execution_count": null,
   "metadata": {},
   "outputs": [],
   "source": []
  },
  {
   "cell_type": "code",
   "execution_count": null,
   "metadata": {},
   "outputs": [],
   "source": []
  },
  {
   "cell_type": "markdown",
   "metadata": {},
   "source": [
    "## Split into test and train "
   ]
  },
  {
   "cell_type": "code",
   "execution_count": 30,
   "metadata": {
    "ExecuteTime": {
     "end_time": "2019-08-02T21:55:43.890816Z",
     "start_time": "2019-08-02T21:55:43.265820Z"
    }
   },
   "outputs": [
    {
     "name": "stderr",
     "output_type": "stream",
     "text": [
      "C:\\Users\\mo.yosiwealth\\Anaconda\\lib\\site-packages\\pandas\\core\\frame.py:3697: SettingWithCopyWarning: \n",
      "A value is trying to be set on a copy of a slice from a DataFrame\n",
      "\n",
      "See the caveats in the documentation: http://pandas.pydata.org/pandas-docs/stable/indexing.html#indexing-view-versus-copy\n",
      "  errors=errors)\n"
     ]
    }
   ],
   "source": [
    "#Divide into test and train:\n",
    "train = copy_data_set.loc[data['source'] == \"train\"]\n",
    "test = copy_data_set.loc[data['source'] == \"test\"]\n",
    "\n",
    "#Drop unnecessary columns:\n",
    "labels = train.naira_price\n",
    "\n",
    "test.drop(['naira_price', 'source'], axis=1, inplace=True)\n",
    "train.drop(['source'], axis=1, inplace=True)"
   ]
  },
  {
   "cell_type": "code",
   "execution_count": null,
   "metadata": {},
   "outputs": [],
   "source": []
  },
  {
   "cell_type": "markdown",
   "metadata": {},
   "source": [
    "# Parameter tuning for random forest "
   ]
  },
  {
   "cell_type": "code",
   "execution_count": 31,
   "metadata": {
    "ExecuteTime": {
     "end_time": "2019-08-02T21:55:43.957809Z",
     "start_time": "2019-08-02T21:55:43.897816Z"
    }
   },
   "outputs": [
    {
     "data": {
      "text/plain": [
       "((2348, 9), (2348,))"
      ]
     },
     "execution_count": 31,
     "metadata": {},
     "output_type": "execute_result"
    }
   ],
   "source": [
    "sample_data = train.sample(frac=0.01, replace=True)\n",
    "y = sample_data['naira_price']\n",
    "X = sample_data.drop(['naira_price'], axis=1)\n",
    "X.shape, y.shape"
   ]
  },
  {
   "cell_type": "code",
   "execution_count": null,
   "metadata": {},
   "outputs": [],
   "source": []
  },
  {
   "cell_type": "code",
   "execution_count": 32,
   "metadata": {
    "ExecuteTime": {
     "end_time": "2019-08-02T21:59:11.316920Z",
     "start_time": "2019-08-02T21:55:43.967807Z"
    }
   },
   "outputs": [
    {
     "name": "stderr",
     "output_type": "stream",
     "text": [
      "C:\\Users\\mo.yosiwealth\\Anaconda\\lib\\site-packages\\sklearn\\model_selection\\_split.py:1978: FutureWarning: The default value of cv will change from 3 to 5 in version 0.22. Specify it explicitly to silence this warning.\n",
      "  warnings.warn(CV_WARNING, FutureWarning)\n",
      "[Parallel(n_jobs=-1)]: Using backend LokyBackend with 4 concurrent workers.\n"
     ]
    },
    {
     "name": "stdout",
     "output_type": "stream",
     "text": [
      "Fitting 3 folds for each of 72 candidates, totalling 216 fits\n"
     ]
    },
    {
     "name": "stderr",
     "output_type": "stream",
     "text": [
      "[Parallel(n_jobs=-1)]: Done  42 tasks      | elapsed:   38.4s\n",
      "[Parallel(n_jobs=-1)]: Done 192 tasks      | elapsed:  3.0min\n",
      "[Parallel(n_jobs=-1)]: Done 216 out of 216 | elapsed:  3.4min finished\n"
     ]
    },
    {
     "data": {
      "text/plain": [
       "GridSearchCV(cv='warn', error_score='raise-deprecating',\n",
       "             estimator=RandomForestRegressor(bootstrap=True, criterion='mse',\n",
       "                                             max_depth=None,\n",
       "                                             max_features='auto',\n",
       "                                             max_leaf_nodes=None,\n",
       "                                             min_impurity_decrease=0.0,\n",
       "                                             min_impurity_split=None,\n",
       "                                             min_samples_leaf=1,\n",
       "                                             min_samples_split=2,\n",
       "                                             min_weight_fraction_leaf=0.0,\n",
       "                                             n_estimators='warn', n_jobs=None,\n",
       "                                             oob_score=True, random_state=None,\n",
       "                                             verbose=0, warm_start=False),\n",
       "             iid='warn', n_jobs=-1,\n",
       "             param_grid={'max_depth': [10, 20],\n",
       "                         'max_features': [2, 4, 8, 'auto'],\n",
       "                         'min_samples_leaf': [1, 2, 3],\n",
       "                         'min_samples_split': [2, 3, 4],\n",
       "                         'n_estimators': [200]},\n",
       "             pre_dispatch='2*n_jobs', refit=True, return_train_score=False,\n",
       "             scoring=None, verbose=1)"
      ]
     },
     "execution_count": 32,
     "metadata": {},
     "output_type": "execute_result"
    }
   ],
   "source": [
    "#Searching for the best parameter using GridSearchCV\n",
    "\n",
    "from sklearn.model_selection import GridSearchCV\n",
    "gsCV_model = RandomForestRegressor(oob_score=True)\n",
    "\n",
    "tuned_parameters = {\n",
    "    'n_estimators': [200],\n",
    "    'max_features': [2, 4, 8, 'auto'],\n",
    "    'max_depth': [10, 20],\n",
    "    'min_samples_split': [2, 3, 4],\n",
    "    'min_samples_leaf': [1, 2, 3]\n",
    "}\n",
    "\n",
    "gsCV = GridSearchCV(gsCV_model, tuned_parameters, n_jobs=-1, verbose=1)\n",
    "gsCV.fit(X, y)"
   ]
  },
  {
   "cell_type": "code",
   "execution_count": null,
   "metadata": {},
   "outputs": [],
   "source": []
  },
  {
   "cell_type": "code",
   "execution_count": 33,
   "metadata": {
    "ExecuteTime": {
     "end_time": "2019-08-02T21:59:11.339917Z",
     "start_time": "2019-08-02T21:59:11.326919Z"
    }
   },
   "outputs": [
    {
     "name": "stdout",
     "output_type": "stream",
     "text": [
      "0.5853059731092378\n",
      "{'max_depth': 20, 'max_features': 2, 'min_samples_leaf': 1, 'min_samples_split': 3, 'n_estimators': 200}\n"
     ]
    }
   ],
   "source": [
    "print(gsCV.best_score_)\n",
    "print(gsCV.best_params_)"
   ]
  },
  {
   "cell_type": "code",
   "execution_count": null,
   "metadata": {},
   "outputs": [],
   "source": []
  },
  {
   "cell_type": "code",
   "execution_count": null,
   "metadata": {},
   "outputs": [],
   "source": []
  },
  {
   "cell_type": "code",
   "execution_count": 34,
   "metadata": {
    "ExecuteTime": {
     "end_time": "2019-08-02T21:59:47.297255Z",
     "start_time": "2019-08-02T21:59:11.348914Z"
    }
   },
   "outputs": [],
   "source": [
    "from collections import OrderedDict\n",
    "from sklearn.datasets import make_classification\n",
    "ensemble_clfs = [(\n",
    "    \"RandomForestRegressor, max_depth='20', min_samples_split='3', min_samples_leaf='1'\",\n",
    "    RandomForestRegressor(\n",
    "        warm_start=True,\n",
    "        max_features=4,\n",
    "        max_depth=20,\n",
    "        min_samples_split=3,\n",
    "        min_samples_leaf=1,\n",
    "        oob_score=True))]\n",
    "error_rate = OrderedDict((label, []) for label, _ in ensemble_clfs)\n",
    "\n",
    "min_estimators = 30\n",
    "max_estimators = 1000\n",
    "\n",
    "for label, clf in ensemble_clfs:\n",
    "    for i in range(min_estimators, max_estimators + 1, 50):\n",
    "        clf.set_params(n_estimators=i)\n",
    "        clf.fit(X, y)\n",
    "        oob_error = 1 - clf.oob_score_\n",
    "        error_rate[label].append((i, oob_error))"
   ]
  },
  {
   "cell_type": "code",
   "execution_count": null,
   "metadata": {},
   "outputs": [],
   "source": []
  },
  {
   "cell_type": "code",
   "execution_count": null,
   "metadata": {},
   "outputs": [],
   "source": []
  },
  {
   "cell_type": "code",
   "execution_count": 35,
   "metadata": {
    "ExecuteTime": {
     "end_time": "2019-08-02T21:59:47.709228Z",
     "start_time": "2019-08-02T21:59:47.303254Z"
    }
   },
   "outputs": [
    {
     "data": {
      "image/png": "[encoded data removed]",
      "text/plain": [
       "<Figure size 432x288 with 1 Axes>"
      ]
     },
     "metadata": {
      "needs_background": "light"
     },
     "output_type": "display_data"
    }
   ],
   "source": [
    "# Generating \"OOB error rate\" vs. \"n_estimators\" plot.\n",
    "for label, clf_err in error_rate.items():\n",
    "    xs, ys = zip(*clf_err)\n",
    "    plt.plot(xs, ys, label=label)\n",
    "plt.xlim(min_estimators, max_estimators)\n",
    "plt.xlabel(\"n_estimators\")\n",
    "plt.ylabel(\"OOB error rate\")\n",
    "plt.show()"
   ]
  },
  {
   "cell_type": "code",
   "execution_count": null,
   "metadata": {},
   "outputs": [],
   "source": []
  },
  {
   "cell_type": "markdown",
   "metadata": {},
   "source": [
    "# Fitting set to fine tuned RandomForestRegressor model"
   ]
  },
  {
   "cell_type": "code",
   "execution_count": 36,
   "metadata": {
    "ExecuteTime": {
     "end_time": "2019-08-02T21:59:47.925216Z",
     "start_time": "2019-08-02T21:59:47.718228Z"
    }
   },
   "outputs": [
    {
     "data": {
      "text/plain": [
       "((211345, 9), (211345,), (23483, 9), (23483,))"
      ]
     },
     "execution_count": 36,
     "metadata": {},
     "output_type": "execute_result"
    }
   ],
   "source": [
    "y = train['naira_price']\n",
    "X = train.drop(['naira_price'], axis=1)\n",
    "\n",
    "#splitting to test and train set..\n",
    "from sklearn.model_selection import train_test_split\n",
    "X_tr, X_test, y_tr, y_test = train_test_split(X, y, test_size=0.1)\n",
    "#format\n",
    "X_tr.shape, y_tr.shape, X_test.shape, y_test.shape"
   ]
  },
  {
   "cell_type": "code",
   "execution_count": null,
   "metadata": {},
   "outputs": [],
   "source": []
  },
  {
   "cell_type": "code",
   "execution_count": null,
   "metadata": {},
   "outputs": [],
   "source": []
  },
  {
   "cell_type": "code",
   "execution_count": 37,
   "metadata": {
    "ExecuteTime": {
     "end_time": "2019-08-02T22:06:57.972284Z",
     "start_time": "2019-08-02T21:59:47.934216Z"
    },
    "scrolled": true
   },
   "outputs": [
    {
     "data": {
      "text/plain": [
       "RandomForestRegressor(bootstrap=True, criterion='mse', max_depth=20,\n",
       "                      max_features=4, max_leaf_nodes=None,\n",
       "                      min_impurity_decrease=0.0, min_impurity_split=None,\n",
       "                      min_samples_leaf=1, min_samples_split=3,\n",
       "                      min_weight_fraction_leaf=0.0, n_estimators=500, n_jobs=-1,\n",
       "                      oob_score=True, random_state=None, verbose=0,\n",
       "                      warm_start=False)"
      ]
     },
     "execution_count": 37,
     "metadata": {},
     "output_type": "execute_result"
    }
   ],
   "source": [
    "model = RandomForestRegressor(\n",
    "    max_features=4,\n",
    "    max_depth=20,\n",
    "    min_samples_leaf=1,\n",
    "    oob_score=True,\n",
    "    min_samples_split=3,\n",
    "    n_estimators=500,\n",
    "    n_jobs=-1)\n",
    "\n",
    "model.fit(X_tr, y_tr)"
   ]
  },
  {
   "cell_type": "code",
   "execution_count": null,
   "metadata": {},
   "outputs": [],
   "source": []
  },
  {
   "cell_type": "code",
   "execution_count": null,
   "metadata": {},
   "outputs": [],
   "source": []
  },
  {
   "cell_type": "markdown",
   "metadata": {},
   "source": [
    "## Results"
   ]
  },
  {
   "cell_type": "code",
   "execution_count": 38,
   "metadata": {
    "ExecuteTime": {
     "end_time": "2019-08-02T22:07:01.619044Z",
     "start_time": "2019-08-02T22:06:57.980282Z"
    }
   },
   "outputs": [
    {
     "data": {
      "text/plain": [
       "0.8300538254040893"
      ]
     },
     "execution_count": 38,
     "metadata": {},
     "output_type": "execute_result"
    }
   ],
   "source": [
    "model.score(X_test,y_test)"
   ]
  },
  {
   "cell_type": "code",
   "execution_count": null,
   "metadata": {},
   "outputs": [],
   "source": []
  },
  {
   "cell_type": "code",
   "execution_count": null,
   "metadata": {},
   "outputs": [],
   "source": []
  },
  {
   "cell_type": "code",
   "execution_count": 43,
   "metadata": {
    "ExecuteTime": {
     "end_time": "2019-08-02T22:15:46.311239Z",
     "start_time": "2019-08-02T22:15:46.239244Z"
    },
    "run_control": {
     "marked": true
    }
   },
   "outputs": [],
   "source": [
    "from sklearn.model_selection import cross_val_score\n",
    "\n",
    "def display_scores(scores):\n",
    "    print(\"Scores:\", scores)\n",
    "    print(\"Mean:\", scores.mean())\n",
    "    print(\"Standard deviation:\", scores.std())"
   ]
  },
  {
   "cell_type": "code",
   "execution_count": null,
   "metadata": {},
   "outputs": [],
   "source": []
  },
  {
   "cell_type": "code",
   "execution_count": null,
   "metadata": {
    "ExecuteTime": {
     "start_time": "2019-08-02T22:15:48.127Z"
    },
    "run_control": {
     "marked": true
    }
   },
   "outputs": [],
   "source": [
    "scores = cross_val_score(model, X_tr, y_tr, scoring=\"neg_mean_squared_error\", cv=4)\n",
    "forest_rmse_scores = np.sqrt(-scores)\n",
    "\n",
    "display_scores(forest_rmse_scores)"
   ]
  },
  {
   "cell_type": "code",
   "execution_count": null,
   "metadata": {},
   "outputs": [],
   "source": []
  },
  {
   "cell_type": "code",
   "execution_count": null,
   "metadata": {},
   "outputs": [],
   "source": []
  },
  {
   "cell_type": "code",
   "execution_count": null,
   "metadata": {},
   "outputs": [],
   "source": []
  },
  {
   "cell_type": "code",
   "execution_count": null,
   "metadata": {},
   "outputs": [],
   "source": []
  },
  {
   "cell_type": "code",
   "execution_count": 40,
   "metadata": {
    "ExecuteTime": {
     "end_time": "2019-08-02T22:11:17.869779Z",
     "start_time": "2019-08-02T22:11:12.165964Z"
    }
   },
   "outputs": [
    {
     "data": {
      "image/png": "[encoded data removed]",
      "text/plain": [
       "<Figure size 432x288 with 1 Axes>"
      ]
     },
     "metadata": {
      "needs_background": "light"
     },
     "output_type": "display_data"
    }
   ],
   "source": [
    "y_pred= model.predict(X_test)\n",
    "\n",
    "plt.figure(figsize=(6, 4))\n",
    "plt.scatter(y_test, y_pred, s=20,alpha=0.1)\n",
    "plt.title('Estimated Price vs. Real Price')\n",
    "plt.xlabel('Real Price')\n",
    "plt.ylabel('Predicted Price')\n",
    "\n",
    "plt.plot([min(y_test), max(y_test)], [min(y_test), max(y_test)], 'y')\n",
    "plt.tight_layout()"
   ]
  },
  {
   "cell_type": "code",
   "execution_count": null,
   "metadata": {},
   "outputs": [],
   "source": []
  },
  {
   "cell_type": "code",
   "execution_count": null,
   "metadata": {},
   "outputs": [],
   "source": []
  },
  {
   "cell_type": "markdown",
   "metadata": {
    "ExecuteTime": {
     "end_time": "2019-08-02T21:17:01.554151Z",
     "start_time": "2019-08-02T21:16:59.136100Z"
    }
   },
   "source": [
    "# Feature importance"
   ]
  },
  {
   "cell_type": "code",
   "execution_count": 41,
   "metadata": {
    "ExecuteTime": {
     "end_time": "2019-08-02T22:11:26.504805Z",
     "start_time": "2019-08-02T22:11:25.020898Z"
    }
   },
   "outputs": [
    {
     "data": {
      "image/png": "[encoded data removed]",
      "text/plain": [
       "<Figure size 432x288 with 1 Axes>"
      ]
     },
     "metadata": {
      "needs_background": "light"
     },
     "output_type": "display_data"
    }
   ],
   "source": [
    "plt.figure()\n",
    "plt.title(\"feature importances\")\n",
    "plt.bar(range(X.shape[1]), model.feature_importances_, align=\"center\")\n",
    "plt.xticks(range(9), ('vehicleTyoe', 'gearbox', 'powerPS', 'model', 'kilometer', 'fuelType', 'brand', 'postalCode', 'vehicleAge'), rotation=90 )\n",
    "plt.xlim([-1, X.shape[1]])\n",
    "plt.show()"
   ]
  },
  {
   "cell_type": "code",
   "execution_count": null,
   "metadata": {},
   "outputs": [],
   "source": []
  },
  {
   "cell_type": "code",
   "execution_count": null,
   "metadata": {},
   "outputs": [],
   "source": []
  },
  {
   "cell_type": "code",
   "execution_count": 42,
   "metadata": {
    "ExecuteTime": {
     "end_time": "2019-08-02T22:12:50.017170Z",
     "start_time": "2019-08-02T22:12:28.713947Z"
    }
   },
   "outputs": [],
   "source": [
    "pred = model.predict(test)\n",
    "\n",
    "\n",
    "test_to_submit = pd.read_csv(\"test.csv\")\n",
    "dataframe = pd.DataFrame({'Id':test_to_submit['id'],'Predicted': pred},\n",
    "                                 columns=['Id','Predicted'])\n",
    "\n",
    "#to csv\n",
    "dataframe.to_csv('prediction.csv',index=False)"
   ]
  },
  {
   "cell_type": "code",
   "execution_count": null,
   "metadata": {},
   "outputs": [],
   "source": []
  }
 ],
 "metadata": {
  "kernelspec": {
   "display_name": "Python 3",
   "language": "python",
   "name": "python3"
  },
  "language_info": {
   "codemirror_mode": {
    "name": "ipython",
    "version": 3
   },
   "file_extension": ".py",
   "mimetype": "text/x-python",
   "name": "python",
   "nbconvert_exporter": "python",
   "pygments_lexer": "ipython3",
   "version": "3.7.2"
  }
 },
 "nbformat": 4,
 "nbformat_minor": 2
}
