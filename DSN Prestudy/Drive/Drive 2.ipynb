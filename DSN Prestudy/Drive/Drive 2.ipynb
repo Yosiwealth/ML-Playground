{
 "cells": [
  {
   "cell_type": "code",
   "execution_count": 1,
   "metadata": {
    "ExecuteTime": {
     "end_time": "2019-08-01T14:39:17.396070Z",
     "start_time": "2019-08-01T14:39:05.186274Z"
    }
   },
   "outputs": [],
   "source": [
    "import numpy as np\n",
    "import pandas as pd\n",
    "import matplotlib.pyplot as plt\n",
    "%matplotlib inline"
   ]
  },
  {
   "cell_type": "code",
   "execution_count": 2,
   "metadata": {
    "ExecuteTime": {
     "end_time": "2019-08-01T14:39:25.078150Z",
     "start_time": "2019-08-01T14:39:17.407067Z"
    }
   },
   "outputs": [],
   "source": [
    "train = pd.read_csv(\"train.csv\")\n",
    "test = pd.read_csv(\"test.csv\")"
   ]
  },
  {
   "cell_type": "code",
   "execution_count": null,
   "metadata": {},
   "outputs": [],
   "source": []
  },
  {
   "cell_type": "code",
   "execution_count": 3,
   "metadata": {
    "ExecuteTime": {
     "end_time": "2019-08-01T14:39:25.887102Z",
     "start_time": "2019-08-01T14:39:25.088152Z"
    }
   },
   "outputs": [
    {
     "name": "stdout",
     "output_type": "stream",
     "text": [
      "(234828, 20) (100282, 19) (335110, 20)\n"
     ]
    }
   ],
   "source": [
    "#Combine test and train into one file\n",
    "train['source'] = 'train'\n",
    "test['source'] = 'test'\n",
    "data = pd.concat([train, test], ignore_index=True, sort=False)\n",
    "print(train.shape, test.shape, data.shape)"
   ]
  },
  {
   "cell_type": "code",
   "execution_count": 4,
   "metadata": {
    "ExecuteTime": {
     "end_time": "2019-08-01T14:39:26.104088Z",
     "start_time": "2019-08-01T14:39:25.899102Z"
    }
   },
   "outputs": [
    {
     "data": {
      "text/html": [
       "<div>\n",
       "<style scoped>\n",
       "    .dataframe tbody tr th:only-of-type {\n",
       "        vertical-align: middle;\n",
       "    }\n",
       "\n",
       "    .dataframe tbody tr th {\n",
       "        vertical-align: top;\n",
       "    }\n",
       "\n",
       "    .dataframe thead th {\n",
       "        text-align: right;\n",
       "    }\n",
       "</style>\n",
       "<table border=\"1\" class=\"dataframe\">\n",
       "  <thead>\n",
       "    <tr style=\"text-align: right;\">\n",
       "      <th></th>\n",
       "      <th>id</th>\n",
       "      <th>seller_type</th>\n",
       "      <th>country_of_use</th>\n",
       "      <th>weblog_date</th>\n",
       "      <th>Area_address_code</th>\n",
       "      <th>car_name</th>\n",
       "      <th>car_type</th>\n",
       "      <th>Permit_registration_year</th>\n",
       "      <th>registration_month</th>\n",
       "      <th>horse_power</th>\n",
       "      <th>mileage</th>\n",
       "      <th>gas_type</th>\n",
       "      <th>car_brand</th>\n",
       "      <th>Status_of_car_repair</th>\n",
       "      <th>gear_type</th>\n",
       "      <th>date_of_advert</th>\n",
       "      <th>last_advert_online</th>\n",
       "      <th>model</th>\n",
       "      <th>naira_price</th>\n",
       "      <th>source</th>\n",
       "    </tr>\n",
       "  </thead>\n",
       "  <tbody>\n",
       "    <tr>\n",
       "      <th>0</th>\n",
       "      <td>0</td>\n",
       "      <td>private</td>\n",
       "      <td>london</td>\n",
       "      <td>24/03/2016</td>\n",
       "      <td>66954</td>\n",
       "      <td>A5_Sportback_2.7_Tdi</td>\n",
       "      <td>coupé</td>\n",
       "      <td>2013</td>\n",
       "      <td>5</td>\n",
       "      <td>190</td>\n",
       "      <td>201125</td>\n",
       "      <td>diesel</td>\n",
       "      <td>audi</td>\n",
       "      <td>ja</td>\n",
       "      <td>manuell</td>\n",
       "      <td>24/03/2016</td>\n",
       "      <td>07/04/2016</td>\n",
       "      <td>NaN</td>\n",
       "      <td>6588000.0</td>\n",
       "      <td>train</td>\n",
       "    </tr>\n",
       "    <tr>\n",
       "      <th>1</th>\n",
       "      <td>1</td>\n",
       "      <td>private</td>\n",
       "      <td>london</td>\n",
       "      <td>14/03/2016</td>\n",
       "      <td>90480</td>\n",
       "      <td>Jeep_Grand_Cherokee_\"Overland\"</td>\n",
       "      <td>NaN</td>\n",
       "      <td>2006</td>\n",
       "      <td>8</td>\n",
       "      <td>163</td>\n",
       "      <td>201125</td>\n",
       "      <td>diesel</td>\n",
       "      <td>jeep</td>\n",
       "      <td>NaN</td>\n",
       "      <td>automatik</td>\n",
       "      <td>14/03/2016</td>\n",
       "      <td>05/04/2016</td>\n",
       "      <td>grand</td>\n",
       "      <td>3528000.0</td>\n",
       "      <td>train</td>\n",
       "    </tr>\n",
       "    <tr>\n",
       "      <th>2</th>\n",
       "      <td>3</td>\n",
       "      <td>private</td>\n",
       "      <td>london</td>\n",
       "      <td>31/03/2016</td>\n",
       "      <td>60437</td>\n",
       "      <td>Skoda_Fabia_1.4_TDI_PD_Classic</td>\n",
       "      <td>small car</td>\n",
       "      <td>2010</td>\n",
       "      <td>7</td>\n",
       "      <td>69</td>\n",
       "      <td>144810</td>\n",
       "      <td>diesel</td>\n",
       "      <td>skoda</td>\n",
       "      <td>nein</td>\n",
       "      <td>manuell</td>\n",
       "      <td>31/03/2016</td>\n",
       "      <td>06/04/2016</td>\n",
       "      <td>fabia</td>\n",
       "      <td>1296000.0</td>\n",
       "      <td>train</td>\n",
       "    </tr>\n",
       "    <tr>\n",
       "      <th>3</th>\n",
       "      <td>4</td>\n",
       "      <td>private</td>\n",
       "      <td>london</td>\n",
       "      <td>04/04/2016</td>\n",
       "      <td>33775</td>\n",
       "      <td>BMW_316i___e36_Limousine___Bastlerfahrzeug__Ex...</td>\n",
       "      <td>limousine</td>\n",
       "      <td>1997</td>\n",
       "      <td>10</td>\n",
       "      <td>102</td>\n",
       "      <td>241350</td>\n",
       "      <td>gasoline</td>\n",
       "      <td>bmw</td>\n",
       "      <td>ja</td>\n",
       "      <td>manuell</td>\n",
       "      <td>04/04/2016</td>\n",
       "      <td>06/04/2016</td>\n",
       "      <td>3er</td>\n",
       "      <td>234000.0</td>\n",
       "      <td>train</td>\n",
       "    </tr>\n",
       "    <tr>\n",
       "      <th>4</th>\n",
       "      <td>5</td>\n",
       "      <td>private</td>\n",
       "      <td>london</td>\n",
       "      <td>01/04/2016</td>\n",
       "      <td>67112</td>\n",
       "      <td>Peugeot_206_CC_110_Platinum</td>\n",
       "      <td>convertible</td>\n",
       "      <td>2006</td>\n",
       "      <td>8</td>\n",
       "      <td>109</td>\n",
       "      <td>241350</td>\n",
       "      <td>gasoline</td>\n",
       "      <td>peugeot</td>\n",
       "      <td>nein</td>\n",
       "      <td>manuell</td>\n",
       "      <td>01/04/2016</td>\n",
       "      <td>05/04/2016</td>\n",
       "      <td>2_reihe</td>\n",
       "      <td>792000.0</td>\n",
       "      <td>train</td>\n",
       "    </tr>\n",
       "  </tbody>\n",
       "</table>\n",
       "</div>"
      ],
      "text/plain": [
       "   id seller_type country_of_use weblog_date  Area_address_code  \\\n",
       "0   0     private         london  24/03/2016              66954   \n",
       "1   1     private         london  14/03/2016              90480   \n",
       "2   3     private         london  31/03/2016              60437   \n",
       "3   4     private         london  04/04/2016              33775   \n",
       "4   5     private         london  01/04/2016              67112   \n",
       "\n",
       "                                            car_name     car_type  \\\n",
       "0                               A5_Sportback_2.7_Tdi        coupé   \n",
       "1                     Jeep_Grand_Cherokee_\"Overland\"          NaN   \n",
       "2                     Skoda_Fabia_1.4_TDI_PD_Classic    small car   \n",
       "3  BMW_316i___e36_Limousine___Bastlerfahrzeug__Ex...    limousine   \n",
       "4                        Peugeot_206_CC_110_Platinum  convertible   \n",
       "\n",
       "   Permit_registration_year  registration_month  horse_power  mileage  \\\n",
       "0                      2013                   5          190   201125   \n",
       "1                      2006                   8          163   201125   \n",
       "2                      2010                   7           69   144810   \n",
       "3                      1997                  10          102   241350   \n",
       "4                      2006                   8          109   241350   \n",
       "\n",
       "   gas_type car_brand Status_of_car_repair  gear_type date_of_advert  \\\n",
       "0    diesel      audi                   ja    manuell     24/03/2016   \n",
       "1    diesel      jeep                  NaN  automatik     14/03/2016   \n",
       "2    diesel     skoda                 nein    manuell     31/03/2016   \n",
       "3  gasoline       bmw                   ja    manuell     04/04/2016   \n",
       "4  gasoline   peugeot                 nein    manuell     01/04/2016   \n",
       "\n",
       "  last_advert_online    model  naira_price source  \n",
       "0         07/04/2016      NaN    6588000.0  train  \n",
       "1         05/04/2016    grand    3528000.0  train  \n",
       "2         06/04/2016    fabia    1296000.0  train  \n",
       "3         06/04/2016      3er     234000.0  train  \n",
       "4         05/04/2016  2_reihe     792000.0  train  "
      ]
     },
     "execution_count": 4,
     "metadata": {},
     "output_type": "execute_result"
    }
   ],
   "source": [
    "data.head()"
   ]
  },
  {
   "cell_type": "code",
   "execution_count": 6,
   "metadata": {
    "ExecuteTime": {
     "end_time": "2019-08-01T14:39:43.967923Z",
     "start_time": "2019-08-01T14:39:43.046980Z"
    },
    "scrolled": false
   },
   "outputs": [
    {
     "data": {
      "text/plain": [
       "id                               0\n",
       "seller_type                      0\n",
       "country_of_use                   0\n",
       "weblog_date                      0\n",
       "Area_address_code                0\n",
       "car_name                         0\n",
       "car_type                     41732\n",
       "Permit_registration_year         0\n",
       "registration_month               0\n",
       "horse_power                      0\n",
       "mileage                          0\n",
       "gas_type                     24034\n",
       "car_brand                        0\n",
       "Status_of_car_repair         55330\n",
       "gear_type                    13585\n",
       "date_of_advert                   0\n",
       "last_advert_online               0\n",
       "model                        15332\n",
       "naira_price                 100282\n",
       "source                           0\n",
       "dtype: int64"
      ]
     },
     "execution_count": 6,
     "metadata": {},
     "output_type": "execute_result"
    }
   ],
   "source": [
    "data.isnull().sum()"
   ]
  },
  {
   "cell_type": "code",
   "execution_count": null,
   "metadata": {},
   "outputs": [],
   "source": []
  },
  {
   "cell_type": "code",
   "execution_count": 8,
   "metadata": {
    "ExecuteTime": {
     "end_time": "2019-08-01T14:41:04.965832Z",
     "start_time": "2019-08-01T14:41:04.159976Z"
    }
   },
   "outputs": [
    {
     "data": {
      "text/html": [
       "<div>\n",
       "<style scoped>\n",
       "    .dataframe tbody tr th:only-of-type {\n",
       "        vertical-align: middle;\n",
       "    }\n",
       "\n",
       "    .dataframe tbody tr th {\n",
       "        vertical-align: top;\n",
       "    }\n",
       "\n",
       "    .dataframe thead th {\n",
       "        text-align: right;\n",
       "    }\n",
       "</style>\n",
       "<table border=\"1\" class=\"dataframe\">\n",
       "  <thead>\n",
       "    <tr style=\"text-align: right;\">\n",
       "      <th></th>\n",
       "      <th>id</th>\n",
       "      <th>Area_address_code</th>\n",
       "      <th>Permit_registration_year</th>\n",
       "      <th>registration_month</th>\n",
       "      <th>horse_power</th>\n",
       "      <th>mileage</th>\n",
       "      <th>naira_price</th>\n",
       "    </tr>\n",
       "  </thead>\n",
       "  <tbody>\n",
       "    <tr>\n",
       "      <th>count</th>\n",
       "      <td>335110.000000</td>\n",
       "      <td>335110.000000</td>\n",
       "      <td>335110.000000</td>\n",
       "      <td>335110.000000</td>\n",
       "      <td>335110.000000</td>\n",
       "      <td>335110.000000</td>\n",
       "      <td>2.348280e+05</td>\n",
       "    </tr>\n",
       "    <tr>\n",
       "      <th>mean</th>\n",
       "      <td>167555.117284</td>\n",
       "      <td>51269.714237</td>\n",
       "      <td>2005.733141</td>\n",
       "      <td>5.924974</td>\n",
       "      <td>120.694247</td>\n",
       "      <td>201503.567053</td>\n",
       "      <td>2.261830e+06</td>\n",
       "    </tr>\n",
       "    <tr>\n",
       "      <th>std</th>\n",
       "      <td>96738.477880</td>\n",
       "      <td>25714.879704</td>\n",
       "      <td>7.272524</td>\n",
       "      <td>3.631073</td>\n",
       "      <td>190.797579</td>\n",
       "      <td>63736.978220</td>\n",
       "      <td>3.076636e+06</td>\n",
       "    </tr>\n",
       "    <tr>\n",
       "      <th>min</th>\n",
       "      <td>0.000000</td>\n",
       "      <td>1067.000000</td>\n",
       "      <td>1947.000000</td>\n",
       "      <td>0.000000</td>\n",
       "      <td>0.000000</td>\n",
       "      <td>8045.000000</td>\n",
       "      <td>1.800000e+05</td>\n",
       "    </tr>\n",
       "    <tr>\n",
       "      <th>25%</th>\n",
       "      <td>83777.250000</td>\n",
       "      <td>30952.000000</td>\n",
       "      <td>2002.000000</td>\n",
       "      <td>3.000000</td>\n",
       "      <td>75.000000</td>\n",
       "      <td>160900.000000</td>\n",
       "      <td>5.400000e+05</td>\n",
       "    </tr>\n",
       "    <tr>\n",
       "      <th>50%</th>\n",
       "      <td>167555.500000</td>\n",
       "      <td>50226.000000</td>\n",
       "      <td>2006.000000</td>\n",
       "      <td>6.000000</td>\n",
       "      <td>110.000000</td>\n",
       "      <td>241350.000000</td>\n",
       "      <td>1.260000e+06</td>\n",
       "    </tr>\n",
       "    <tr>\n",
       "      <th>75%</th>\n",
       "      <td>251332.750000</td>\n",
       "      <td>72124.000000</td>\n",
       "      <td>2010.000000</td>\n",
       "      <td>9.000000</td>\n",
       "      <td>150.000000</td>\n",
       "      <td>241350.000000</td>\n",
       "      <td>2.844000e+06</td>\n",
       "    </tr>\n",
       "    <tr>\n",
       "      <th>max</th>\n",
       "      <td>335110.000000</td>\n",
       "      <td>99998.000000</td>\n",
       "      <td>2018.000000</td>\n",
       "      <td>12.000000</td>\n",
       "      <td>20000.000000</td>\n",
       "      <td>241350.000000</td>\n",
       "      <td>8.820000e+07</td>\n",
       "    </tr>\n",
       "  </tbody>\n",
       "</table>\n",
       "</div>"
      ],
      "text/plain": [
       "                  id  Area_address_code  Permit_registration_year  \\\n",
       "count  335110.000000      335110.000000             335110.000000   \n",
       "mean   167555.117284       51269.714237               2005.733141   \n",
       "std     96738.477880       25714.879704                  7.272524   \n",
       "min         0.000000        1067.000000               1947.000000   \n",
       "25%     83777.250000       30952.000000               2002.000000   \n",
       "50%    167555.500000       50226.000000               2006.000000   \n",
       "75%    251332.750000       72124.000000               2010.000000   \n",
       "max    335110.000000       99998.000000               2018.000000   \n",
       "\n",
       "       registration_month    horse_power        mileage   naira_price  \n",
       "count       335110.000000  335110.000000  335110.000000  2.348280e+05  \n",
       "mean             5.924974     120.694247  201503.567053  2.261830e+06  \n",
       "std              3.631073     190.797579   63736.978220  3.076636e+06  \n",
       "min              0.000000       0.000000    8045.000000  1.800000e+05  \n",
       "25%              3.000000      75.000000  160900.000000  5.400000e+05  \n",
       "50%              6.000000     110.000000  241350.000000  1.260000e+06  \n",
       "75%              9.000000     150.000000  241350.000000  2.844000e+06  \n",
       "max             12.000000   20000.000000  241350.000000  8.820000e+07  "
      ]
     },
     "execution_count": 8,
     "metadata": {},
     "output_type": "execute_result"
    }
   ],
   "source": [
    "data.describe()"
   ]
  },
  {
   "cell_type": "code",
   "execution_count": 9,
   "metadata": {
    "ExecuteTime": {
     "end_time": "2019-08-01T14:44:11.048433Z",
     "start_time": "2019-08-01T14:44:11.034433Z"
    },
    "scrolled": true
   },
   "outputs": [
    {
     "data": {
      "text/plain": [
       "Index(['id', 'seller_type', 'country_of_use', 'weblog_date',\n",
       "       'Area_address_code', 'car_name', 'car_type', 'Permit_registration_year',\n",
       "       'registration_month', 'horse_power', 'mileage', 'gas_type', 'car_brand',\n",
       "       'Status_of_car_repair', 'gear_type', 'date_of_advert',\n",
       "       'last_advert_online', 'model', 'naira_price', 'source'],\n",
       "      dtype='object')"
      ]
     },
     "execution_count": 9,
     "metadata": {},
     "output_type": "execute_result"
    }
   ],
   "source": [
    "data.columns"
   ]
  },
  {
   "cell_type": "code",
   "execution_count": 10,
   "metadata": {
    "ExecuteTime": {
     "end_time": "2019-08-01T14:45:26.364943Z",
     "start_time": "2019-08-01T14:45:25.394780Z"
    }
   },
   "outputs": [
    {
     "name": "stdout",
     "output_type": "stream",
     "text": [
      "<class 'pandas.core.frame.DataFrame'>\n",
      "RangeIndex: 335110 entries, 0 to 335109\n",
      "Data columns (total 20 columns):\n",
      "id                          335110 non-null int64\n",
      "seller_type                 335110 non-null object\n",
      "country_of_use              335110 non-null object\n",
      "weblog_date                 335110 non-null object\n",
      "Area_address_code           335110 non-null int64\n",
      "car_name                    335110 non-null object\n",
      "car_type                    293378 non-null object\n",
      "Permit_registration_year    335110 non-null int64\n",
      "registration_month          335110 non-null int64\n",
      "horse_power                 335110 non-null int64\n",
      "mileage                     335110 non-null int64\n",
      "gas_type                    311076 non-null object\n",
      "car_brand                   335110 non-null object\n",
      "Status_of_car_repair        279780 non-null object\n",
      "gear_type                   321525 non-null object\n",
      "date_of_advert              335110 non-null object\n",
      "last_advert_online          335110 non-null object\n",
      "model                       319778 non-null object\n",
      "naira_price                 234828 non-null float64\n",
      "source                      335110 non-null object\n",
      "dtypes: float64(1), int64(6), object(13)\n",
      "memory usage: 51.1+ MB\n"
     ]
    }
   ],
   "source": [
    "data.info()"
   ]
  },
  {
   "cell_type": "code",
   "execution_count": 13,
   "metadata": {
    "ExecuteTime": {
     "end_time": "2019-08-01T14:49:07.927320Z",
     "start_time": "2019-08-01T14:49:07.221363Z"
    }
   },
   "outputs": [
    {
     "name": "stdout",
     "output_type": "stream",
     "text": [
      "['seller_type']  :  ['private']\n",
      "['gear_type']  :  ['manuell' 'automatik' nan]\n",
      "['gas_type']  :  ['diesel' 'gasoline' nan 'liquefied petroleum gas' 'other'\n",
      " 'compressed natural gas']\n",
      "['Status_of_car_repair']  :  ['ja' nan 'nein']\n",
      "['car_type']  :  ['coupé' nan 'small car' 'limousine' 'convertible' 'bus' 'station wagon'\n",
      " 'other']\n",
      "['source']  :  ['train' 'test']\n"
     ]
    }
   ],
   "source": [
    "cat_val = [\"seller_type\", \"gear_type\", \"gas_type\", \"Status_of_car_repair\", \"car_type\", \"source\"]\n",
    "\n",
    "for col in cat_val:\n",
    "    print([col], \" : \", data[col].unique())"
   ]
  },
  {
   "cell_type": "code",
   "execution_count": null,
   "metadata": {},
   "outputs": [],
   "source": []
  }
 ],
 "metadata": {
  "kernelspec": {
   "display_name": "Python 3",
   "language": "python",
   "name": "python3"
  },
  "language_info": {
   "codemirror_mode": {
    "name": "ipython",
    "version": 3
   },
   "file_extension": ".py",
   "mimetype": "text/x-python",
   "name": "python",
   "nbconvert_exporter": "python",
   "pygments_lexer": "ipython3",
   "version": "3.7.2"
  }
 },
 "nbformat": 4,
 "nbformat_minor": 2
}
