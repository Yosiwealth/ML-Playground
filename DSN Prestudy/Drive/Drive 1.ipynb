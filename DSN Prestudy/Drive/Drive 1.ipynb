{
 "cells": [
  {
   "cell_type": "code",
   "execution_count": 168,
   "metadata": {
    "ExecuteTime": {
     "end_time": "2019-07-31T20:27:27.955701Z",
     "start_time": "2019-07-31T20:27:27.938702Z"
    }
   },
   "outputs": [],
   "source": [
    "import numpy as np\n",
    "import pandas as pd\n",
    "import matplotlib.pyplot as plt\n",
    "%matplotlib inline"
   ]
  },
  {
   "cell_type": "code",
   "execution_count": 169,
   "metadata": {
    "ExecuteTime": {
     "end_time": "2019-07-31T20:27:33.990316Z",
     "start_time": "2019-07-31T20:27:28.977644Z"
    }
   },
   "outputs": [],
   "source": [
    "train = pd.read_csv(\"train.csv\")\n",
    "test = pd.read_csv(\"test.csv\")"
   ]
  },
  {
   "cell_type": "code",
   "execution_count": null,
   "metadata": {},
   "outputs": [],
   "source": []
  },
  {
   "cell_type": "code",
   "execution_count": 171,
   "metadata": {
    "ExecuteTime": {
     "end_time": "2019-07-31T20:28:26.416248Z",
     "start_time": "2019-07-31T20:28:25.841284Z"
    }
   },
   "outputs": [
    {
     "name": "stdout",
     "output_type": "stream",
     "text": [
      "(234828, 20) (100282, 19) (335110, 20)\n"
     ]
    }
   ],
   "source": [
    "#Combine test and train into one file\n",
    "train['source'] = 'train'\n",
    "test['source'] = 'test'\n",
    "data = pd.concat([train, test], ignore_index=True, sort=False)\n",
    "print(train.shape, test.shape, data.shape)"
   ]
  },
  {
   "cell_type": "code",
   "execution_count": 172,
   "metadata": {
    "ExecuteTime": {
     "end_time": "2019-07-31T20:28:35.930267Z",
     "start_time": "2019-07-31T20:28:35.855272Z"
    }
   },
   "outputs": [
    {
     "data": {
      "text/html": [
       "<div>\n",
       "<style scoped>\n",
       "    .dataframe tbody tr th:only-of-type {\n",
       "        vertical-align: middle;\n",
       "    }\n",
       "\n",
       "    .dataframe tbody tr th {\n",
       "        vertical-align: top;\n",
       "    }\n",
       "\n",
       "    .dataframe thead th {\n",
       "        text-align: right;\n",
       "    }\n",
       "</style>\n",
       "<table border=\"1\" class=\"dataframe\">\n",
       "  <thead>\n",
       "    <tr style=\"text-align: right;\">\n",
       "      <th></th>\n",
       "      <th>id</th>\n",
       "      <th>seller_type</th>\n",
       "      <th>country_of_use</th>\n",
       "      <th>weblog_date</th>\n",
       "      <th>Area_address_code</th>\n",
       "      <th>car_name</th>\n",
       "      <th>car_type</th>\n",
       "      <th>Permit_registration_year</th>\n",
       "      <th>registration_month</th>\n",
       "      <th>horse_power</th>\n",
       "      <th>mileage</th>\n",
       "      <th>gas_type</th>\n",
       "      <th>car_brand</th>\n",
       "      <th>Status_of_car_repair</th>\n",
       "      <th>gear_type</th>\n",
       "      <th>date_of_advert</th>\n",
       "      <th>last_advert_online</th>\n",
       "      <th>model</th>\n",
       "      <th>naira_price</th>\n",
       "      <th>source</th>\n",
       "    </tr>\n",
       "  </thead>\n",
       "  <tbody>\n",
       "    <tr>\n",
       "      <th>0</th>\n",
       "      <td>0</td>\n",
       "      <td>private</td>\n",
       "      <td>london</td>\n",
       "      <td>24/03/2016</td>\n",
       "      <td>66954</td>\n",
       "      <td>A5_Sportback_2.7_Tdi</td>\n",
       "      <td>coupé</td>\n",
       "      <td>2013</td>\n",
       "      <td>5</td>\n",
       "      <td>190</td>\n",
       "      <td>201125</td>\n",
       "      <td>diesel</td>\n",
       "      <td>audi</td>\n",
       "      <td>ja</td>\n",
       "      <td>manuell</td>\n",
       "      <td>24/03/2016</td>\n",
       "      <td>07/04/2016</td>\n",
       "      <td>NaN</td>\n",
       "      <td>6588000.0</td>\n",
       "      <td>train</td>\n",
       "    </tr>\n",
       "    <tr>\n",
       "      <th>1</th>\n",
       "      <td>1</td>\n",
       "      <td>private</td>\n",
       "      <td>london</td>\n",
       "      <td>14/03/2016</td>\n",
       "      <td>90480</td>\n",
       "      <td>Jeep_Grand_Cherokee_\"Overland\"</td>\n",
       "      <td>NaN</td>\n",
       "      <td>2006</td>\n",
       "      <td>8</td>\n",
       "      <td>163</td>\n",
       "      <td>201125</td>\n",
       "      <td>diesel</td>\n",
       "      <td>jeep</td>\n",
       "      <td>NaN</td>\n",
       "      <td>automatik</td>\n",
       "      <td>14/03/2016</td>\n",
       "      <td>05/04/2016</td>\n",
       "      <td>grand</td>\n",
       "      <td>3528000.0</td>\n",
       "      <td>train</td>\n",
       "    </tr>\n",
       "    <tr>\n",
       "      <th>2</th>\n",
       "      <td>3</td>\n",
       "      <td>private</td>\n",
       "      <td>london</td>\n",
       "      <td>31/03/2016</td>\n",
       "      <td>60437</td>\n",
       "      <td>Skoda_Fabia_1.4_TDI_PD_Classic</td>\n",
       "      <td>small car</td>\n",
       "      <td>2010</td>\n",
       "      <td>7</td>\n",
       "      <td>69</td>\n",
       "      <td>144810</td>\n",
       "      <td>diesel</td>\n",
       "      <td>skoda</td>\n",
       "      <td>nein</td>\n",
       "      <td>manuell</td>\n",
       "      <td>31/03/2016</td>\n",
       "      <td>06/04/2016</td>\n",
       "      <td>fabia</td>\n",
       "      <td>1296000.0</td>\n",
       "      <td>train</td>\n",
       "    </tr>\n",
       "    <tr>\n",
       "      <th>3</th>\n",
       "      <td>4</td>\n",
       "      <td>private</td>\n",
       "      <td>london</td>\n",
       "      <td>04/04/2016</td>\n",
       "      <td>33775</td>\n",
       "      <td>BMW_316i___e36_Limousine___Bastlerfahrzeug__Ex...</td>\n",
       "      <td>limousine</td>\n",
       "      <td>1997</td>\n",
       "      <td>10</td>\n",
       "      <td>102</td>\n",
       "      <td>241350</td>\n",
       "      <td>gasoline</td>\n",
       "      <td>bmw</td>\n",
       "      <td>ja</td>\n",
       "      <td>manuell</td>\n",
       "      <td>04/04/2016</td>\n",
       "      <td>06/04/2016</td>\n",
       "      <td>3er</td>\n",
       "      <td>234000.0</td>\n",
       "      <td>train</td>\n",
       "    </tr>\n",
       "    <tr>\n",
       "      <th>4</th>\n",
       "      <td>5</td>\n",
       "      <td>private</td>\n",
       "      <td>london</td>\n",
       "      <td>01/04/2016</td>\n",
       "      <td>67112</td>\n",
       "      <td>Peugeot_206_CC_110_Platinum</td>\n",
       "      <td>convertible</td>\n",
       "      <td>2006</td>\n",
       "      <td>8</td>\n",
       "      <td>109</td>\n",
       "      <td>241350</td>\n",
       "      <td>gasoline</td>\n",
       "      <td>peugeot</td>\n",
       "      <td>nein</td>\n",
       "      <td>manuell</td>\n",
       "      <td>01/04/2016</td>\n",
       "      <td>05/04/2016</td>\n",
       "      <td>2_reihe</td>\n",
       "      <td>792000.0</td>\n",
       "      <td>train</td>\n",
       "    </tr>\n",
       "  </tbody>\n",
       "</table>\n",
       "</div>"
      ],
      "text/plain": [
       "   id seller_type country_of_use weblog_date  Area_address_code  \\\n",
       "0   0     private         london  24/03/2016              66954   \n",
       "1   1     private         london  14/03/2016              90480   \n",
       "2   3     private         london  31/03/2016              60437   \n",
       "3   4     private         london  04/04/2016              33775   \n",
       "4   5     private         london  01/04/2016              67112   \n",
       "\n",
       "                                            car_name     car_type  \\\n",
       "0                               A5_Sportback_2.7_Tdi        coupé   \n",
       "1                     Jeep_Grand_Cherokee_\"Overland\"          NaN   \n",
       "2                     Skoda_Fabia_1.4_TDI_PD_Classic    small car   \n",
       "3  BMW_316i___e36_Limousine___Bastlerfahrzeug__Ex...    limousine   \n",
       "4                        Peugeot_206_CC_110_Platinum  convertible   \n",
       "\n",
       "   Permit_registration_year  registration_month  horse_power  mileage  \\\n",
       "0                      2013                   5          190   201125   \n",
       "1                      2006                   8          163   201125   \n",
       "2                      2010                   7           69   144810   \n",
       "3                      1997                  10          102   241350   \n",
       "4                      2006                   8          109   241350   \n",
       "\n",
       "   gas_type car_brand Status_of_car_repair  gear_type date_of_advert  \\\n",
       "0    diesel      audi                   ja    manuell     24/03/2016   \n",
       "1    diesel      jeep                  NaN  automatik     14/03/2016   \n",
       "2    diesel     skoda                 nein    manuell     31/03/2016   \n",
       "3  gasoline       bmw                   ja    manuell     04/04/2016   \n",
       "4  gasoline   peugeot                 nein    manuell     01/04/2016   \n",
       "\n",
       "  last_advert_online    model  naira_price source  \n",
       "0         07/04/2016      NaN    6588000.0  train  \n",
       "1         05/04/2016    grand    3528000.0  train  \n",
       "2         06/04/2016    fabia    1296000.0  train  \n",
       "3         06/04/2016      3er     234000.0  train  \n",
       "4         05/04/2016  2_reihe     792000.0  train  "
      ]
     },
     "execution_count": 172,
     "metadata": {},
     "output_type": "execute_result"
    }
   ],
   "source": [
    "data.head()"
   ]
  },
  {
   "cell_type": "code",
   "execution_count": 177,
   "metadata": {
    "ExecuteTime": {
     "end_time": "2019-07-31T20:31:33.962517Z",
     "start_time": "2019-07-31T20:31:33.207570Z"
    },
    "scrolled": false
   },
   "outputs": [
    {
     "data": {
      "text/plain": [
       "id                          False\n",
       "seller_type                 False\n",
       "country_of_use              False\n",
       "weblog_date                 False\n",
       "Area_address_code           False\n",
       "car_name                    False\n",
       "car_type                     True\n",
       "Permit_registration_year    False\n",
       "registration_month          False\n",
       "horse_power                 False\n",
       "mileage                     False\n",
       "gas_type                     True\n",
       "car_brand                   False\n",
       "Status_of_car_repair         True\n",
       "gear_type                    True\n",
       "date_of_advert              False\n",
       "last_advert_online          False\n",
       "model                        True\n",
       "naira_price                  True\n",
       "source                      False\n",
       "dtype: bool"
      ]
     },
     "execution_count": 177,
     "metadata": {},
     "output_type": "execute_result"
    }
   ],
   "source": [
    "data.isnull().any()"
   ]
  },
  {
   "cell_type": "code",
   "execution_count": null,
   "metadata": {},
   "outputs": [],
   "source": []
  },
  {
   "cell_type": "code",
   "execution_count": 179,
   "metadata": {
    "ExecuteTime": {
     "end_time": "2019-07-31T20:31:46.700180Z",
     "start_time": "2019-07-31T20:31:46.539193Z"
    }
   },
   "outputs": [
    {
     "data": {
      "text/plain": [
       "limousine        89874\n",
       "small car        68464\n",
       "station wagon    63124\n",
       "bus              29255\n",
       "convertible      22201\n",
       "coupé            17632\n",
       "other             2828\n",
       "Name: car_type, dtype: int64"
      ]
     },
     "execution_count": 179,
     "metadata": {},
     "output_type": "execute_result"
    }
   ],
   "source": [
    "data.car_type.value_counts()"
   ]
  },
  {
   "cell_type": "code",
   "execution_count": 185,
   "metadata": {
    "ExecuteTime": {
     "end_time": "2019-07-31T20:34:14.109871Z",
     "start_time": "2019-07-31T20:34:14.050874Z"
    }
   },
   "outputs": [],
   "source": [
    "data.car_type.fillna(\"limousine\",inplace=True)"
   ]
  },
  {
   "cell_type": "code",
   "execution_count": 180,
   "metadata": {
    "ExecuteTime": {
     "end_time": "2019-07-31T20:31:57.236702Z",
     "start_time": "2019-07-31T20:31:57.074710Z"
    },
    "scrolled": true
   },
   "outputs": [
    {
     "data": {
      "text/plain": [
       "gasoline                   200252\n",
       "diesel                     105059\n",
       "liquefied petroleum gas      5101\n",
       "compressed natural gas        536\n",
       "other                         128\n",
       "Name: gas_type, dtype: int64"
      ]
     },
     "execution_count": 180,
     "metadata": {},
     "output_type": "execute_result"
    }
   ],
   "source": [
    "data.gas_type.value_counts()"
   ]
  },
  {
   "cell_type": "code",
   "execution_count": 187,
   "metadata": {
    "ExecuteTime": {
     "end_time": "2019-07-31T20:34:56.766433Z",
     "start_time": "2019-07-31T20:34:56.709437Z"
    }
   },
   "outputs": [],
   "source": [
    "data.gas_type.fillna(\"gasoline\",inplace=True)"
   ]
  },
  {
   "cell_type": "code",
   "execution_count": 181,
   "metadata": {
    "ExecuteTime": {
     "end_time": "2019-07-31T20:32:05.632188Z",
     "start_time": "2019-07-31T20:32:05.480199Z"
    },
    "scrolled": true
   },
   "outputs": [
    {
     "data": {
      "text/plain": [
       "nein    253186\n",
       "ja       26594\n",
       "Name: Status_of_car_repair, dtype: int64"
      ]
     },
     "execution_count": 181,
     "metadata": {},
     "output_type": "execute_result"
    }
   ],
   "source": [
    "data.Status_of_car_repair.value_counts()"
   ]
  },
  {
   "cell_type": "code",
   "execution_count": 189,
   "metadata": {
    "ExecuteTime": {
     "end_time": "2019-07-31T20:36:20.772723Z",
     "start_time": "2019-07-31T20:36:20.712728Z"
    }
   },
   "outputs": [],
   "source": [
    "data.Status_of_car_repair.fillna(\"nein\",inplace=True)"
   ]
  },
  {
   "cell_type": "code",
   "execution_count": 183,
   "metadata": {
    "ExecuteTime": {
     "end_time": "2019-07-31T20:32:18.755456Z",
     "start_time": "2019-07-31T20:32:18.588465Z"
    },
    "scrolled": true
   },
   "outputs": [
    {
     "data": {
      "text/plain": [
       "manuell      247350\n",
       "automatik     74175\n",
       "Name: gear_type, dtype: int64"
      ]
     },
     "execution_count": 183,
     "metadata": {},
     "output_type": "execute_result"
    }
   ],
   "source": [
    "data.gear_type.value_counts()"
   ]
  },
  {
   "cell_type": "code",
   "execution_count": 190,
   "metadata": {
    "ExecuteTime": {
     "end_time": "2019-07-31T20:36:40.069055Z",
     "start_time": "2019-07-31T20:36:40.010057Z"
    }
   },
   "outputs": [],
   "source": [
    "data.gear_type.fillna(\"manuell\",inplace=True)"
   ]
  },
  {
   "cell_type": "code",
   "execution_count": 184,
   "metadata": {
    "ExecuteTime": {
     "end_time": "2019-07-31T20:32:21.503305Z",
     "start_time": "2019-07-31T20:32:21.326314Z"
    },
    "collapsed": true
   },
   "outputs": [
    {
     "data": {
      "text/plain": [
       "golf                  27033\n",
       "andere                23918\n",
       "3er                   19250\n",
       "polo                  10644\n",
       "corsa                  9848\n",
       "a4                     9711\n",
       "passat                 9618\n",
       "astra                  9422\n",
       "c_klasse               8505\n",
       "5er                    8235\n",
       "e_klasse               7318\n",
       "a3                     6408\n",
       "a6                     5790\n",
       "focus                  5514\n",
       "transporter            5309\n",
       "fiesta                 4648\n",
       "2_reihe                4595\n",
       "fortwo                 4254\n",
       "a_klasse               4129\n",
       "twingo                 3829\n",
       "1er                    3793\n",
       "vectra                 3489\n",
       "touran                 3488\n",
       "3_reihe                3127\n",
       "clio                   3053\n",
       "mondeo                 2982\n",
       "zafira                 2969\n",
       "punto                  2683\n",
       "megane                 2501\n",
       "ibiza                  2407\n",
       "                      ...  \n",
       "crossfire                66\n",
       "range_rover_evoque       65\n",
       "gl                       63\n",
       "lanos                    49\n",
       "v60                      48\n",
       "nubira                   45\n",
       "croma                    44\n",
       "lybra                    39\n",
       "amarok                   38\n",
       "delta                    35\n",
       "terios                   35\n",
       "lodgy                    35\n",
       "move                     31\n",
       "145                      28\n",
       "b_max                    26\n",
       "musa                     23\n",
       "9000                     22\n",
       "materia                  18\n",
       "200                      17\n",
       "charade                  16\n",
       "kappa                    13\n",
       "kalina                    9\n",
       "serie_2                   8\n",
       "i3                        8\n",
       "rangerover                6\n",
       "elefantino                6\n",
       "samara                    5\n",
       "serie_3                   3\n",
       "discovery_sport           1\n",
       "serie_1                   1\n",
       "Name: model, Length: 251, dtype: int64"
      ]
     },
     "execution_count": 184,
     "metadata": {},
     "output_type": "execute_result"
    }
   ],
   "source": [
    "data.model.value_counts()"
   ]
  },
  {
   "cell_type": "code",
   "execution_count": 191,
   "metadata": {
    "ExecuteTime": {
     "end_time": "2019-07-31T20:37:07.342008Z",
     "start_time": "2019-07-31T20:37:07.283010Z"
    }
   },
   "outputs": [],
   "source": [
    "data.model.fillna(\"golf\",inplace=True)"
   ]
  },
  {
   "cell_type": "code",
   "execution_count": 192,
   "metadata": {
    "ExecuteTime": {
     "end_time": "2019-07-31T20:37:10.842828Z",
     "start_time": "2019-07-31T20:37:10.080879Z"
    }
   },
   "outputs": [
    {
     "data": {
      "text/plain": [
       "id                          False\n",
       "seller_type                 False\n",
       "country_of_use              False\n",
       "weblog_date                 False\n",
       "Area_address_code           False\n",
       "car_name                    False\n",
       "car_type                    False\n",
       "Permit_registration_year    False\n",
       "registration_month          False\n",
       "horse_power                 False\n",
       "mileage                     False\n",
       "gas_type                    False\n",
       "car_brand                   False\n",
       "Status_of_car_repair        False\n",
       "gear_type                   False\n",
       "date_of_advert              False\n",
       "last_advert_online          False\n",
       "model                       False\n",
       "naira_price                  True\n",
       "source                      False\n",
       "dtype: bool"
      ]
     },
     "execution_count": 192,
     "metadata": {},
     "output_type": "execute_result"
    }
   ],
   "source": [
    "data.isnull().any()"
   ]
  },
  {
   "cell_type": "code",
   "execution_count": null,
   "metadata": {},
   "outputs": [],
   "source": []
  },
  {
   "cell_type": "code",
   "execution_count": null,
   "metadata": {},
   "outputs": [],
   "source": []
  },
  {
   "cell_type": "code",
   "execution_count": null,
   "metadata": {},
   "outputs": [],
   "source": []
  },
  {
   "cell_type": "code",
   "execution_count": 193,
   "metadata": {
    "ExecuteTime": {
     "end_time": "2019-07-31T20:37:15.429531Z",
     "start_time": "2019-07-31T20:37:15.419531Z"
    }
   },
   "outputs": [
    {
     "data": {
      "text/plain": [
       "(335110, 20)"
      ]
     },
     "execution_count": 193,
     "metadata": {},
     "output_type": "execute_result"
    }
   ],
   "source": [
    "data.shape"
   ]
  },
  {
   "cell_type": "code",
   "execution_count": 194,
   "metadata": {
    "ExecuteTime": {
     "end_time": "2019-07-31T20:37:37.319757Z",
     "start_time": "2019-07-31T20:37:37.226762Z"
    }
   },
   "outputs": [],
   "source": [
    "#Drop the columns\n",
    "data.drop(['id','seller_type','country_of_use','Area_address_code','car_name','model','weblog_date'],axis=1,inplace=True)"
   ]
  },
  {
   "cell_type": "code",
   "execution_count": 195,
   "metadata": {
    "ExecuteTime": {
     "end_time": "2019-07-31T20:37:41.089613Z",
     "start_time": "2019-07-31T20:37:41.038615Z"
    }
   },
   "outputs": [
    {
     "data": {
      "text/html": [
       "<div>\n",
       "<style scoped>\n",
       "    .dataframe tbody tr th:only-of-type {\n",
       "        vertical-align: middle;\n",
       "    }\n",
       "\n",
       "    .dataframe tbody tr th {\n",
       "        vertical-align: top;\n",
       "    }\n",
       "\n",
       "    .dataframe thead th {\n",
       "        text-align: right;\n",
       "    }\n",
       "</style>\n",
       "<table border=\"1\" class=\"dataframe\">\n",
       "  <thead>\n",
       "    <tr style=\"text-align: right;\">\n",
       "      <th></th>\n",
       "      <th>car_type</th>\n",
       "      <th>Permit_registration_year</th>\n",
       "      <th>registration_month</th>\n",
       "      <th>horse_power</th>\n",
       "      <th>mileage</th>\n",
       "      <th>gas_type</th>\n",
       "      <th>car_brand</th>\n",
       "      <th>Status_of_car_repair</th>\n",
       "      <th>gear_type</th>\n",
       "      <th>date_of_advert</th>\n",
       "      <th>last_advert_online</th>\n",
       "      <th>naira_price</th>\n",
       "      <th>source</th>\n",
       "    </tr>\n",
       "  </thead>\n",
       "  <tbody>\n",
       "    <tr>\n",
       "      <th>0</th>\n",
       "      <td>coupé</td>\n",
       "      <td>2013</td>\n",
       "      <td>5</td>\n",
       "      <td>190</td>\n",
       "      <td>201125</td>\n",
       "      <td>diesel</td>\n",
       "      <td>audi</td>\n",
       "      <td>ja</td>\n",
       "      <td>manuell</td>\n",
       "      <td>24/03/2016</td>\n",
       "      <td>07/04/2016</td>\n",
       "      <td>6588000.0</td>\n",
       "      <td>train</td>\n",
       "    </tr>\n",
       "    <tr>\n",
       "      <th>1</th>\n",
       "      <td>limousine</td>\n",
       "      <td>2006</td>\n",
       "      <td>8</td>\n",
       "      <td>163</td>\n",
       "      <td>201125</td>\n",
       "      <td>diesel</td>\n",
       "      <td>jeep</td>\n",
       "      <td>nein</td>\n",
       "      <td>automatik</td>\n",
       "      <td>14/03/2016</td>\n",
       "      <td>05/04/2016</td>\n",
       "      <td>3528000.0</td>\n",
       "      <td>train</td>\n",
       "    </tr>\n",
       "    <tr>\n",
       "      <th>2</th>\n",
       "      <td>small car</td>\n",
       "      <td>2010</td>\n",
       "      <td>7</td>\n",
       "      <td>69</td>\n",
       "      <td>144810</td>\n",
       "      <td>diesel</td>\n",
       "      <td>skoda</td>\n",
       "      <td>nein</td>\n",
       "      <td>manuell</td>\n",
       "      <td>31/03/2016</td>\n",
       "      <td>06/04/2016</td>\n",
       "      <td>1296000.0</td>\n",
       "      <td>train</td>\n",
       "    </tr>\n",
       "    <tr>\n",
       "      <th>3</th>\n",
       "      <td>limousine</td>\n",
       "      <td>1997</td>\n",
       "      <td>10</td>\n",
       "      <td>102</td>\n",
       "      <td>241350</td>\n",
       "      <td>gasoline</td>\n",
       "      <td>bmw</td>\n",
       "      <td>ja</td>\n",
       "      <td>manuell</td>\n",
       "      <td>04/04/2016</td>\n",
       "      <td>06/04/2016</td>\n",
       "      <td>234000.0</td>\n",
       "      <td>train</td>\n",
       "    </tr>\n",
       "    <tr>\n",
       "      <th>4</th>\n",
       "      <td>convertible</td>\n",
       "      <td>2006</td>\n",
       "      <td>8</td>\n",
       "      <td>109</td>\n",
       "      <td>241350</td>\n",
       "      <td>gasoline</td>\n",
       "      <td>peugeot</td>\n",
       "      <td>nein</td>\n",
       "      <td>manuell</td>\n",
       "      <td>01/04/2016</td>\n",
       "      <td>05/04/2016</td>\n",
       "      <td>792000.0</td>\n",
       "      <td>train</td>\n",
       "    </tr>\n",
       "  </tbody>\n",
       "</table>\n",
       "</div>"
      ],
      "text/plain": [
       "      car_type  Permit_registration_year  registration_month  horse_power  \\\n",
       "0        coupé                      2013                   5          190   \n",
       "1    limousine                      2006                   8          163   \n",
       "2    small car                      2010                   7           69   \n",
       "3    limousine                      1997                  10          102   \n",
       "4  convertible                      2006                   8          109   \n",
       "\n",
       "   mileage  gas_type car_brand Status_of_car_repair  gear_type date_of_advert  \\\n",
       "0   201125    diesel      audi                   ja    manuell     24/03/2016   \n",
       "1   201125    diesel      jeep                 nein  automatik     14/03/2016   \n",
       "2   144810    diesel     skoda                 nein    manuell     31/03/2016   \n",
       "3   241350  gasoline       bmw                   ja    manuell     04/04/2016   \n",
       "4   241350  gasoline   peugeot                 nein    manuell     01/04/2016   \n",
       "\n",
       "  last_advert_online  naira_price source  \n",
       "0         07/04/2016    6588000.0  train  \n",
       "1         05/04/2016    3528000.0  train  \n",
       "2         06/04/2016    1296000.0  train  \n",
       "3         06/04/2016     234000.0  train  \n",
       "4         05/04/2016     792000.0  train  "
      ]
     },
     "execution_count": 195,
     "metadata": {},
     "output_type": "execute_result"
    }
   ],
   "source": [
    "data.head()"
   ]
  },
  {
   "cell_type": "code",
   "execution_count": 196,
   "metadata": {
    "ExecuteTime": {
     "end_time": "2019-07-31T20:38:10.315370Z",
     "start_time": "2019-07-31T20:38:10.266371Z"
    },
    "scrolled": true
   },
   "outputs": [
    {
     "data": {
      "text/plain": [
       "array(['coupé', 'limousine', 'small car', 'convertible', 'bus',\n",
       "       'station wagon', 'other'], dtype=object)"
      ]
     },
     "execution_count": 196,
     "metadata": {},
     "output_type": "execute_result"
    }
   ],
   "source": [
    "data['car_type'].unique()"
   ]
  },
  {
   "cell_type": "code",
   "execution_count": 197,
   "metadata": {
    "ExecuteTime": {
     "end_time": "2019-07-31T20:38:22.043737Z",
     "start_time": "2019-07-31T20:38:21.995733Z"
    }
   },
   "outputs": [
    {
     "data": {
      "text/plain": [
       "array(['diesel', 'gasoline', 'liquefied petroleum gas', 'other',\n",
       "       'compressed natural gas'], dtype=object)"
      ]
     },
     "execution_count": 197,
     "metadata": {},
     "output_type": "execute_result"
    }
   ],
   "source": [
    "data['gas_type'].unique()"
   ]
  },
  {
   "cell_type": "code",
   "execution_count": 198,
   "metadata": {
    "ExecuteTime": {
     "end_time": "2019-07-31T20:38:22.581700Z",
     "start_time": "2019-07-31T20:38:22.532702Z"
    }
   },
   "outputs": [
    {
     "data": {
      "text/plain": [
       "array(['audi', 'jeep', 'skoda', 'bmw', 'peugeot', 'ford', 'volkswagen',\n",
       "       'nissan', 'renault', 'citroen', 'fiat', 'mercedes_benz', 'opel',\n",
       "       'mini', 'hyundai', 'smart', 'seat', 'subaru', 'volvo',\n",
       "       'mitsubishi', 'honda', 'alfa_romeo', 'kia', 'suzuki', 'mazda',\n",
       "       'chevrolet', 'sonstige_autos', 'dacia', 'daihatsu', 'toyota',\n",
       "       'chrysler', 'daewoo', 'porsche', 'rover', 'innoson', 'trabant',\n",
       "       'vauxhall', 'land_rover', 'saab', 'lotus'], dtype=object)"
      ]
     },
     "execution_count": 198,
     "metadata": {},
     "output_type": "execute_result"
    }
   ],
   "source": [
    "data['car_brand'].unique()"
   ]
  },
  {
   "cell_type": "code",
   "execution_count": 199,
   "metadata": {
    "ExecuteTime": {
     "end_time": "2019-07-31T20:38:23.459642Z",
     "start_time": "2019-07-31T20:38:23.418646Z"
    }
   },
   "outputs": [
    {
     "data": {
      "text/plain": [
       "array(['ja', 'nein'], dtype=object)"
      ]
     },
     "execution_count": 199,
     "metadata": {},
     "output_type": "execute_result"
    }
   ],
   "source": [
    "data['Status_of_car_repair'].unique()"
   ]
  },
  {
   "cell_type": "code",
   "execution_count": 200,
   "metadata": {
    "ExecuteTime": {
     "end_time": "2019-07-31T20:38:25.211561Z",
     "start_time": "2019-07-31T20:38:25.162562Z"
    }
   },
   "outputs": [
    {
     "data": {
      "text/plain": [
       "array(['manuell', 'automatik'], dtype=object)"
      ]
     },
     "execution_count": 200,
     "metadata": {},
     "output_type": "execute_result"
    }
   ],
   "source": [
    "data['gear_type'].unique()"
   ]
  },
  {
   "cell_type": "code",
   "execution_count": 201,
   "metadata": {
    "ExecuteTime": {
     "end_time": "2019-07-31T20:38:28.435419Z",
     "start_time": "2019-07-31T20:38:28.394423Z"
    }
   },
   "outputs": [
    {
     "data": {
      "text/plain": [
       "array(['train', 'test'], dtype=object)"
      ]
     },
     "execution_count": 201,
     "metadata": {},
     "output_type": "execute_result"
    }
   ],
   "source": [
    "data['source'].unique()"
   ]
  },
  {
   "cell_type": "code",
   "execution_count": 202,
   "metadata": {
    "ExecuteTime": {
     "end_time": "2019-07-31T20:38:36.843980Z",
     "start_time": "2019-07-31T20:38:34.650124Z"
    }
   },
   "outputs": [
    {
     "data": {
      "text/plain": [
       "{'car_type': array(['coupé', 'limousine', 'small car', 'convertible', 'bus',\n",
       "        'station wagon', 'other'], dtype=object),\n",
       " 'gas_type': array(['diesel', 'gasoline', 'liquefied petroleum gas', 'other',\n",
       "        'compressed natural gas'], dtype=object),\n",
       " 'Status_of_car_repair': array(['ja', 'nein'], dtype=object),\n",
       " 'gear_type': array(['manuell', 'automatik'], dtype=object)}"
      ]
     },
     "execution_count": 202,
     "metadata": {},
     "output_type": "execute_result"
    }
   ],
   "source": [
    "from feature_engine import categorical_encoders as ce\n",
    "\n",
    "ohe_enc = ce.OneHotCategoricalEncoder(\n",
    "    top_categories=None,\n",
    "    variables=[\"car_type\", \"gas_type\", \"Status_of_car_repair\", \"gear_type\"],\n",
    "    drop_last=False)\n",
    "\n",
    "ohe_enc.fit(data)\n",
    "data = ohe_enc.transform(data)\n",
    "ohe_enc.encoder_dict_"
   ]
  },
  {
   "cell_type": "code",
   "execution_count": 203,
   "metadata": {
    "ExecuteTime": {
     "end_time": "2019-07-31T20:38:41.149740Z",
     "start_time": "2019-07-31T20:38:41.057742Z"
    }
   },
   "outputs": [],
   "source": [
    "#Drop the columns\n",
    "data.drop(\n",
    "    [\n",
    "        \"car_type_bus\",\n",
    "        \"gas_type_diesel\",\n",
    "        \"Status_of_car_repair_nein\",\n",
    "        \"gear_type_manuell\"\n",
    "    ],\n",
    "    axis=1,\n",
    "    inplace=True)"
   ]
  },
  {
   "cell_type": "code",
   "execution_count": 204,
   "metadata": {
    "ExecuteTime": {
     "end_time": "2019-07-31T20:38:41.937697Z",
     "start_time": "2019-07-31T20:38:41.866704Z"
    },
    "scrolled": true
   },
   "outputs": [
    {
     "data": {
      "text/html": [
       "<div>\n",
       "<style scoped>\n",
       "    .dataframe tbody tr th:only-of-type {\n",
       "        vertical-align: middle;\n",
       "    }\n",
       "\n",
       "    .dataframe tbody tr th {\n",
       "        vertical-align: top;\n",
       "    }\n",
       "\n",
       "    .dataframe thead th {\n",
       "        text-align: right;\n",
       "    }\n",
       "</style>\n",
       "<table border=\"1\" class=\"dataframe\">\n",
       "  <thead>\n",
       "    <tr style=\"text-align: right;\">\n",
       "      <th></th>\n",
       "      <th>Permit_registration_year</th>\n",
       "      <th>registration_month</th>\n",
       "      <th>horse_power</th>\n",
       "      <th>mileage</th>\n",
       "      <th>car_brand</th>\n",
       "      <th>date_of_advert</th>\n",
       "      <th>last_advert_online</th>\n",
       "      <th>naira_price</th>\n",
       "      <th>source</th>\n",
       "      <th>car_type_coupé</th>\n",
       "      <th>...</th>\n",
       "      <th>car_type_small car</th>\n",
       "      <th>car_type_convertible</th>\n",
       "      <th>car_type_station wagon</th>\n",
       "      <th>car_type_other</th>\n",
       "      <th>gas_type_gasoline</th>\n",
       "      <th>gas_type_liquefied petroleum gas</th>\n",
       "      <th>gas_type_other</th>\n",
       "      <th>gas_type_compressed natural gas</th>\n",
       "      <th>Status_of_car_repair_ja</th>\n",
       "      <th>gear_type_automatik</th>\n",
       "    </tr>\n",
       "  </thead>\n",
       "  <tbody>\n",
       "    <tr>\n",
       "      <th>0</th>\n",
       "      <td>2013</td>\n",
       "      <td>5</td>\n",
       "      <td>190</td>\n",
       "      <td>201125</td>\n",
       "      <td>audi</td>\n",
       "      <td>24/03/2016</td>\n",
       "      <td>07/04/2016</td>\n",
       "      <td>6588000.0</td>\n",
       "      <td>train</td>\n",
       "      <td>1</td>\n",
       "      <td>...</td>\n",
       "      <td>0</td>\n",
       "      <td>0</td>\n",
       "      <td>0</td>\n",
       "      <td>0</td>\n",
       "      <td>0</td>\n",
       "      <td>0</td>\n",
       "      <td>0</td>\n",
       "      <td>0</td>\n",
       "      <td>1</td>\n",
       "      <td>0</td>\n",
       "    </tr>\n",
       "    <tr>\n",
       "      <th>1</th>\n",
       "      <td>2006</td>\n",
       "      <td>8</td>\n",
       "      <td>163</td>\n",
       "      <td>201125</td>\n",
       "      <td>jeep</td>\n",
       "      <td>14/03/2016</td>\n",
       "      <td>05/04/2016</td>\n",
       "      <td>3528000.0</td>\n",
       "      <td>train</td>\n",
       "      <td>0</td>\n",
       "      <td>...</td>\n",
       "      <td>0</td>\n",
       "      <td>0</td>\n",
       "      <td>0</td>\n",
       "      <td>0</td>\n",
       "      <td>0</td>\n",
       "      <td>0</td>\n",
       "      <td>0</td>\n",
       "      <td>0</td>\n",
       "      <td>0</td>\n",
       "      <td>1</td>\n",
       "    </tr>\n",
       "    <tr>\n",
       "      <th>2</th>\n",
       "      <td>2010</td>\n",
       "      <td>7</td>\n",
       "      <td>69</td>\n",
       "      <td>144810</td>\n",
       "      <td>skoda</td>\n",
       "      <td>31/03/2016</td>\n",
       "      <td>06/04/2016</td>\n",
       "      <td>1296000.0</td>\n",
       "      <td>train</td>\n",
       "      <td>0</td>\n",
       "      <td>...</td>\n",
       "      <td>1</td>\n",
       "      <td>0</td>\n",
       "      <td>0</td>\n",
       "      <td>0</td>\n",
       "      <td>0</td>\n",
       "      <td>0</td>\n",
       "      <td>0</td>\n",
       "      <td>0</td>\n",
       "      <td>0</td>\n",
       "      <td>0</td>\n",
       "    </tr>\n",
       "    <tr>\n",
       "      <th>3</th>\n",
       "      <td>1997</td>\n",
       "      <td>10</td>\n",
       "      <td>102</td>\n",
       "      <td>241350</td>\n",
       "      <td>bmw</td>\n",
       "      <td>04/04/2016</td>\n",
       "      <td>06/04/2016</td>\n",
       "      <td>234000.0</td>\n",
       "      <td>train</td>\n",
       "      <td>0</td>\n",
       "      <td>...</td>\n",
       "      <td>0</td>\n",
       "      <td>0</td>\n",
       "      <td>0</td>\n",
       "      <td>0</td>\n",
       "      <td>1</td>\n",
       "      <td>0</td>\n",
       "      <td>0</td>\n",
       "      <td>0</td>\n",
       "      <td>1</td>\n",
       "      <td>0</td>\n",
       "    </tr>\n",
       "    <tr>\n",
       "      <th>4</th>\n",
       "      <td>2006</td>\n",
       "      <td>8</td>\n",
       "      <td>109</td>\n",
       "      <td>241350</td>\n",
       "      <td>peugeot</td>\n",
       "      <td>01/04/2016</td>\n",
       "      <td>05/04/2016</td>\n",
       "      <td>792000.0</td>\n",
       "      <td>train</td>\n",
       "      <td>0</td>\n",
       "      <td>...</td>\n",
       "      <td>0</td>\n",
       "      <td>1</td>\n",
       "      <td>0</td>\n",
       "      <td>0</td>\n",
       "      <td>1</td>\n",
       "      <td>0</td>\n",
       "      <td>0</td>\n",
       "      <td>0</td>\n",
       "      <td>0</td>\n",
       "      <td>0</td>\n",
       "    </tr>\n",
       "  </tbody>\n",
       "</table>\n",
       "<p>5 rows × 21 columns</p>\n",
       "</div>"
      ],
      "text/plain": [
       "   Permit_registration_year  registration_month  horse_power  mileage  \\\n",
       "0                      2013                   5          190   201125   \n",
       "1                      2006                   8          163   201125   \n",
       "2                      2010                   7           69   144810   \n",
       "3                      1997                  10          102   241350   \n",
       "4                      2006                   8          109   241350   \n",
       "\n",
       "  car_brand date_of_advert last_advert_online  naira_price source  \\\n",
       "0      audi     24/03/2016         07/04/2016    6588000.0  train   \n",
       "1      jeep     14/03/2016         05/04/2016    3528000.0  train   \n",
       "2     skoda     31/03/2016         06/04/2016    1296000.0  train   \n",
       "3       bmw     04/04/2016         06/04/2016     234000.0  train   \n",
       "4   peugeot     01/04/2016         05/04/2016     792000.0  train   \n",
       "\n",
       "   car_type_coupé         ...           car_type_small car  \\\n",
       "0               1         ...                            0   \n",
       "1               0         ...                            0   \n",
       "2               0         ...                            1   \n",
       "3               0         ...                            0   \n",
       "4               0         ...                            0   \n",
       "\n",
       "   car_type_convertible  car_type_station wagon  car_type_other  \\\n",
       "0                     0                       0               0   \n",
       "1                     0                       0               0   \n",
       "2                     0                       0               0   \n",
       "3                     0                       0               0   \n",
       "4                     1                       0               0   \n",
       "\n",
       "   gas_type_gasoline  gas_type_liquefied petroleum gas  gas_type_other  \\\n",
       "0                  0                                 0               0   \n",
       "1                  0                                 0               0   \n",
       "2                  0                                 0               0   \n",
       "3                  1                                 0               0   \n",
       "4                  1                                 0               0   \n",
       "\n",
       "   gas_type_compressed natural gas  Status_of_car_repair_ja  \\\n",
       "0                                0                        1   \n",
       "1                                0                        0   \n",
       "2                                0                        0   \n",
       "3                                0                        1   \n",
       "4                                0                        0   \n",
       "\n",
       "   gear_type_automatik  \n",
       "0                    0  \n",
       "1                    1  \n",
       "2                    0  \n",
       "3                    0  \n",
       "4                    0  \n",
       "\n",
       "[5 rows x 21 columns]"
      ]
     },
     "execution_count": 204,
     "metadata": {},
     "output_type": "execute_result"
    }
   ],
   "source": [
    "data.head()"
   ]
  },
  {
   "cell_type": "code",
   "execution_count": 205,
   "metadata": {
    "ExecuteTime": {
     "end_time": "2019-07-31T20:38:49.629627Z",
     "start_time": "2019-07-31T20:38:49.619627Z"
    }
   },
   "outputs": [
    {
     "data": {
      "text/plain": [
       "Index(['Permit_registration_year', 'registration_month', 'horse_power',\n",
       "       'mileage', 'car_brand', 'date_of_advert', 'last_advert_online',\n",
       "       'naira_price', 'source', 'car_type_coupé', 'car_type_limousine',\n",
       "       'car_type_small car', 'car_type_convertible', 'car_type_station wagon',\n",
       "       'car_type_other', 'gas_type_gasoline',\n",
       "       'gas_type_liquefied petroleum gas', 'gas_type_other',\n",
       "       'gas_type_compressed natural gas', 'Status_of_car_repair_ja',\n",
       "       'gear_type_automatik'],\n",
       "      dtype='object')"
      ]
     },
     "execution_count": 205,
     "metadata": {},
     "output_type": "execute_result"
    }
   ],
   "source": [
    "data.columns"
   ]
  },
  {
   "cell_type": "code",
   "execution_count": 206,
   "metadata": {
    "ExecuteTime": {
     "end_time": "2019-07-31T20:39:22.140850Z",
     "start_time": "2019-07-31T20:39:22.086854Z"
    },
    "code_folding": [],
    "run_control": {
     "marked": true
    }
   },
   "outputs": [],
   "source": [
    "#Drop the columns\n",
    "data.drop(\n",
    "    [\n",
    "        \"Permit_registration_year\",\n",
    "        \"registration_month\",\n",
    "        \"car_brand\",\n",
    "        \"date_of_advert\",\n",
    "        \"last_advert_online\"\n",
    "    ],\n",
    "    axis=1,\n",
    "    inplace=True)"
   ]
  },
  {
   "cell_type": "code",
   "execution_count": 207,
   "metadata": {
    "ExecuteTime": {
     "end_time": "2019-07-31T20:39:24.744705Z",
     "start_time": "2019-07-31T20:39:24.696713Z"
    }
   },
   "outputs": [
    {
     "data": {
      "text/html": [
       "<div>\n",
       "<style scoped>\n",
       "    .dataframe tbody tr th:only-of-type {\n",
       "        vertical-align: middle;\n",
       "    }\n",
       "\n",
       "    .dataframe tbody tr th {\n",
       "        vertical-align: top;\n",
       "    }\n",
       "\n",
       "    .dataframe thead th {\n",
       "        text-align: right;\n",
       "    }\n",
       "</style>\n",
       "<table border=\"1\" class=\"dataframe\">\n",
       "  <thead>\n",
       "    <tr style=\"text-align: right;\">\n",
       "      <th></th>\n",
       "      <th>horse_power</th>\n",
       "      <th>mileage</th>\n",
       "      <th>naira_price</th>\n",
       "      <th>source</th>\n",
       "      <th>car_type_coupé</th>\n",
       "      <th>car_type_limousine</th>\n",
       "      <th>car_type_small car</th>\n",
       "      <th>car_type_convertible</th>\n",
       "      <th>car_type_station wagon</th>\n",
       "      <th>car_type_other</th>\n",
       "      <th>gas_type_gasoline</th>\n",
       "      <th>gas_type_liquefied petroleum gas</th>\n",
       "      <th>gas_type_other</th>\n",
       "      <th>gas_type_compressed natural gas</th>\n",
       "      <th>Status_of_car_repair_ja</th>\n",
       "      <th>gear_type_automatik</th>\n",
       "    </tr>\n",
       "  </thead>\n",
       "  <tbody>\n",
       "    <tr>\n",
       "      <th>0</th>\n",
       "      <td>190</td>\n",
       "      <td>201125</td>\n",
       "      <td>6588000.0</td>\n",
       "      <td>train</td>\n",
       "      <td>1</td>\n",
       "      <td>0</td>\n",
       "      <td>0</td>\n",
       "      <td>0</td>\n",
       "      <td>0</td>\n",
       "      <td>0</td>\n",
       "      <td>0</td>\n",
       "      <td>0</td>\n",
       "      <td>0</td>\n",
       "      <td>0</td>\n",
       "      <td>1</td>\n",
       "      <td>0</td>\n",
       "    </tr>\n",
       "    <tr>\n",
       "      <th>1</th>\n",
       "      <td>163</td>\n",
       "      <td>201125</td>\n",
       "      <td>3528000.0</td>\n",
       "      <td>train</td>\n",
       "      <td>0</td>\n",
       "      <td>1</td>\n",
       "      <td>0</td>\n",
       "      <td>0</td>\n",
       "      <td>0</td>\n",
       "      <td>0</td>\n",
       "      <td>0</td>\n",
       "      <td>0</td>\n",
       "      <td>0</td>\n",
       "      <td>0</td>\n",
       "      <td>0</td>\n",
       "      <td>1</td>\n",
       "    </tr>\n",
       "    <tr>\n",
       "      <th>2</th>\n",
       "      <td>69</td>\n",
       "      <td>144810</td>\n",
       "      <td>1296000.0</td>\n",
       "      <td>train</td>\n",
       "      <td>0</td>\n",
       "      <td>0</td>\n",
       "      <td>1</td>\n",
       "      <td>0</td>\n",
       "      <td>0</td>\n",
       "      <td>0</td>\n",
       "      <td>0</td>\n",
       "      <td>0</td>\n",
       "      <td>0</td>\n",
       "      <td>0</td>\n",
       "      <td>0</td>\n",
       "      <td>0</td>\n",
       "    </tr>\n",
       "    <tr>\n",
       "      <th>3</th>\n",
       "      <td>102</td>\n",
       "      <td>241350</td>\n",
       "      <td>234000.0</td>\n",
       "      <td>train</td>\n",
       "      <td>0</td>\n",
       "      <td>1</td>\n",
       "      <td>0</td>\n",
       "      <td>0</td>\n",
       "      <td>0</td>\n",
       "      <td>0</td>\n",
       "      <td>1</td>\n",
       "      <td>0</td>\n",
       "      <td>0</td>\n",
       "      <td>0</td>\n",
       "      <td>1</td>\n",
       "      <td>0</td>\n",
       "    </tr>\n",
       "    <tr>\n",
       "      <th>4</th>\n",
       "      <td>109</td>\n",
       "      <td>241350</td>\n",
       "      <td>792000.0</td>\n",
       "      <td>train</td>\n",
       "      <td>0</td>\n",
       "      <td>0</td>\n",
       "      <td>0</td>\n",
       "      <td>1</td>\n",
       "      <td>0</td>\n",
       "      <td>0</td>\n",
       "      <td>1</td>\n",
       "      <td>0</td>\n",
       "      <td>0</td>\n",
       "      <td>0</td>\n",
       "      <td>0</td>\n",
       "      <td>0</td>\n",
       "    </tr>\n",
       "  </tbody>\n",
       "</table>\n",
       "</div>"
      ],
      "text/plain": [
       "   horse_power  mileage  naira_price source  car_type_coupé  \\\n",
       "0          190   201125    6588000.0  train               1   \n",
       "1          163   201125    3528000.0  train               0   \n",
       "2           69   144810    1296000.0  train               0   \n",
       "3          102   241350     234000.0  train               0   \n",
       "4          109   241350     792000.0  train               0   \n",
       "\n",
       "   car_type_limousine  car_type_small car  car_type_convertible  \\\n",
       "0                   0                   0                     0   \n",
       "1                   1                   0                     0   \n",
       "2                   0                   1                     0   \n",
       "3                   1                   0                     0   \n",
       "4                   0                   0                     1   \n",
       "\n",
       "   car_type_station wagon  car_type_other  gas_type_gasoline  \\\n",
       "0                       0               0                  0   \n",
       "1                       0               0                  0   \n",
       "2                       0               0                  0   \n",
       "3                       0               0                  1   \n",
       "4                       0               0                  1   \n",
       "\n",
       "   gas_type_liquefied petroleum gas  gas_type_other  \\\n",
       "0                                 0               0   \n",
       "1                                 0               0   \n",
       "2                                 0               0   \n",
       "3                                 0               0   \n",
       "4                                 0               0   \n",
       "\n",
       "   gas_type_compressed natural gas  Status_of_car_repair_ja  \\\n",
       "0                                0                        1   \n",
       "1                                0                        0   \n",
       "2                                0                        0   \n",
       "3                                0                        1   \n",
       "4                                0                        0   \n",
       "\n",
       "   gear_type_automatik  \n",
       "0                    0  \n",
       "1                    1  \n",
       "2                    0  \n",
       "3                    0  \n",
       "4                    0  "
      ]
     },
     "execution_count": 207,
     "metadata": {},
     "output_type": "execute_result"
    }
   ],
   "source": [
    "data.head()"
   ]
  },
  {
   "cell_type": "code",
   "execution_count": 208,
   "metadata": {
    "ExecuteTime": {
     "end_time": "2019-07-31T20:39:34.315446Z",
     "start_time": "2019-07-31T20:39:33.985460Z"
    }
   },
   "outputs": [],
   "source": [
    "#Divide into test and train:\n",
    "train = data.loc[data['source']==\"train\"]\n",
    "test = data.loc[data['source']==\"test\"]"
   ]
  },
  {
   "cell_type": "code",
   "execution_count": 209,
   "metadata": {
    "ExecuteTime": {
     "end_time": "2019-07-31T20:39:35.906440Z",
     "start_time": "2019-07-31T20:39:35.561464Z"
    }
   },
   "outputs": [
    {
     "name": "stderr",
     "output_type": "stream",
     "text": [
      "C:\\Users\\mo.yosiwealth\\Anaconda\\lib\\site-packages\\pandas\\core\\frame.py:3697: SettingWithCopyWarning: \n",
      "A value is trying to be set on a copy of a slice from a DataFrame\n",
      "\n",
      "See the caveats in the documentation: http://pandas.pydata.org/pandas-docs/stable/indexing.html#indexing-view-versus-copy\n",
      "  errors=errors)\n"
     ]
    }
   ],
   "source": [
    "#Drop unnecessary columns:\n",
    "labels = train.naira_price\n",
    "\n",
    "test.drop(['naira_price','source'],axis=1,inplace=True)\n",
    "train.drop(['naira_price','source'],axis=1,inplace=True)\n"
   ]
  },
  {
   "cell_type": "code",
   "execution_count": 210,
   "metadata": {
    "ExecuteTime": {
     "end_time": "2019-07-31T20:39:38.288648Z",
     "start_time": "2019-07-31T20:39:38.245650Z"
    }
   },
   "outputs": [
    {
     "data": {
      "text/html": [
       "<div>\n",
       "<style scoped>\n",
       "    .dataframe tbody tr th:only-of-type {\n",
       "        vertical-align: middle;\n",
       "    }\n",
       "\n",
       "    .dataframe tbody tr th {\n",
       "        vertical-align: top;\n",
       "    }\n",
       "\n",
       "    .dataframe thead th {\n",
       "        text-align: right;\n",
       "    }\n",
       "</style>\n",
       "<table border=\"1\" class=\"dataframe\">\n",
       "  <thead>\n",
       "    <tr style=\"text-align: right;\">\n",
       "      <th></th>\n",
       "      <th>horse_power</th>\n",
       "      <th>mileage</th>\n",
       "      <th>car_type_coupé</th>\n",
       "      <th>car_type_limousine</th>\n",
       "      <th>car_type_small car</th>\n",
       "      <th>car_type_convertible</th>\n",
       "      <th>car_type_station wagon</th>\n",
       "      <th>car_type_other</th>\n",
       "      <th>gas_type_gasoline</th>\n",
       "      <th>gas_type_liquefied petroleum gas</th>\n",
       "      <th>gas_type_other</th>\n",
       "      <th>gas_type_compressed natural gas</th>\n",
       "      <th>Status_of_car_repair_ja</th>\n",
       "      <th>gear_type_automatik</th>\n",
       "    </tr>\n",
       "  </thead>\n",
       "  <tbody>\n",
       "    <tr>\n",
       "      <th>0</th>\n",
       "      <td>190</td>\n",
       "      <td>201125</td>\n",
       "      <td>1</td>\n",
       "      <td>0</td>\n",
       "      <td>0</td>\n",
       "      <td>0</td>\n",
       "      <td>0</td>\n",
       "      <td>0</td>\n",
       "      <td>0</td>\n",
       "      <td>0</td>\n",
       "      <td>0</td>\n",
       "      <td>0</td>\n",
       "      <td>1</td>\n",
       "      <td>0</td>\n",
       "    </tr>\n",
       "    <tr>\n",
       "      <th>1</th>\n",
       "      <td>163</td>\n",
       "      <td>201125</td>\n",
       "      <td>0</td>\n",
       "      <td>1</td>\n",
       "      <td>0</td>\n",
       "      <td>0</td>\n",
       "      <td>0</td>\n",
       "      <td>0</td>\n",
       "      <td>0</td>\n",
       "      <td>0</td>\n",
       "      <td>0</td>\n",
       "      <td>0</td>\n",
       "      <td>0</td>\n",
       "      <td>1</td>\n",
       "    </tr>\n",
       "    <tr>\n",
       "      <th>2</th>\n",
       "      <td>69</td>\n",
       "      <td>144810</td>\n",
       "      <td>0</td>\n",
       "      <td>0</td>\n",
       "      <td>1</td>\n",
       "      <td>0</td>\n",
       "      <td>0</td>\n",
       "      <td>0</td>\n",
       "      <td>0</td>\n",
       "      <td>0</td>\n",
       "      <td>0</td>\n",
       "      <td>0</td>\n",
       "      <td>0</td>\n",
       "      <td>0</td>\n",
       "    </tr>\n",
       "    <tr>\n",
       "      <th>3</th>\n",
       "      <td>102</td>\n",
       "      <td>241350</td>\n",
       "      <td>0</td>\n",
       "      <td>1</td>\n",
       "      <td>0</td>\n",
       "      <td>0</td>\n",
       "      <td>0</td>\n",
       "      <td>0</td>\n",
       "      <td>1</td>\n",
       "      <td>0</td>\n",
       "      <td>0</td>\n",
       "      <td>0</td>\n",
       "      <td>1</td>\n",
       "      <td>0</td>\n",
       "    </tr>\n",
       "    <tr>\n",
       "      <th>4</th>\n",
       "      <td>109</td>\n",
       "      <td>241350</td>\n",
       "      <td>0</td>\n",
       "      <td>0</td>\n",
       "      <td>0</td>\n",
       "      <td>1</td>\n",
       "      <td>0</td>\n",
       "      <td>0</td>\n",
       "      <td>1</td>\n",
       "      <td>0</td>\n",
       "      <td>0</td>\n",
       "      <td>0</td>\n",
       "      <td>0</td>\n",
       "      <td>0</td>\n",
       "    </tr>\n",
       "  </tbody>\n",
       "</table>\n",
       "</div>"
      ],
      "text/plain": [
       "   horse_power  mileage  car_type_coupé  car_type_limousine  \\\n",
       "0          190   201125               1                   0   \n",
       "1          163   201125               0                   1   \n",
       "2           69   144810               0                   0   \n",
       "3          102   241350               0                   1   \n",
       "4          109   241350               0                   0   \n",
       "\n",
       "   car_type_small car  car_type_convertible  car_type_station wagon  \\\n",
       "0                   0                     0                       0   \n",
       "1                   0                     0                       0   \n",
       "2                   1                     0                       0   \n",
       "3                   0                     0                       0   \n",
       "4                   0                     1                       0   \n",
       "\n",
       "   car_type_other  gas_type_gasoline  gas_type_liquefied petroleum gas  \\\n",
       "0               0                  0                                 0   \n",
       "1               0                  0                                 0   \n",
       "2               0                  0                                 0   \n",
       "3               0                  1                                 0   \n",
       "4               0                  1                                 0   \n",
       "\n",
       "   gas_type_other  gas_type_compressed natural gas  Status_of_car_repair_ja  \\\n",
       "0               0                                0                        1   \n",
       "1               0                                0                        0   \n",
       "2               0                                0                        0   \n",
       "3               0                                0                        1   \n",
       "4               0                                0                        0   \n",
       "\n",
       "   gear_type_automatik  \n",
       "0                    0  \n",
       "1                    1  \n",
       "2                    0  \n",
       "3                    0  \n",
       "4                    0  "
      ]
     },
     "execution_count": 210,
     "metadata": {},
     "output_type": "execute_result"
    }
   ],
   "source": [
    "train.head()"
   ]
  },
  {
   "cell_type": "code",
   "execution_count": 211,
   "metadata": {
    "ExecuteTime": {
     "end_time": "2019-07-31T20:39:43.401404Z",
     "start_time": "2019-07-31T20:39:43.359403Z"
    }
   },
   "outputs": [
    {
     "data": {
      "text/html": [
       "<div>\n",
       "<style scoped>\n",
       "    .dataframe tbody tr th:only-of-type {\n",
       "        vertical-align: middle;\n",
       "    }\n",
       "\n",
       "    .dataframe tbody tr th {\n",
       "        vertical-align: top;\n",
       "    }\n",
       "\n",
       "    .dataframe thead th {\n",
       "        text-align: right;\n",
       "    }\n",
       "</style>\n",
       "<table border=\"1\" class=\"dataframe\">\n",
       "  <thead>\n",
       "    <tr style=\"text-align: right;\">\n",
       "      <th></th>\n",
       "      <th>horse_power</th>\n",
       "      <th>mileage</th>\n",
       "      <th>car_type_coupé</th>\n",
       "      <th>car_type_limousine</th>\n",
       "      <th>car_type_small car</th>\n",
       "      <th>car_type_convertible</th>\n",
       "      <th>car_type_station wagon</th>\n",
       "      <th>car_type_other</th>\n",
       "      <th>gas_type_gasoline</th>\n",
       "      <th>gas_type_liquefied petroleum gas</th>\n",
       "      <th>gas_type_other</th>\n",
       "      <th>gas_type_compressed natural gas</th>\n",
       "      <th>Status_of_car_repair_ja</th>\n",
       "      <th>gear_type_automatik</th>\n",
       "    </tr>\n",
       "  </thead>\n",
       "  <tbody>\n",
       "    <tr>\n",
       "      <th>234828</th>\n",
       "      <td>75</td>\n",
       "      <td>241350</td>\n",
       "      <td>0</td>\n",
       "      <td>0</td>\n",
       "      <td>1</td>\n",
       "      <td>0</td>\n",
       "      <td>0</td>\n",
       "      <td>0</td>\n",
       "      <td>1</td>\n",
       "      <td>0</td>\n",
       "      <td>0</td>\n",
       "      <td>0</td>\n",
       "      <td>0</td>\n",
       "      <td>0</td>\n",
       "    </tr>\n",
       "    <tr>\n",
       "      <th>234829</th>\n",
       "      <td>105</td>\n",
       "      <td>241350</td>\n",
       "      <td>0</td>\n",
       "      <td>1</td>\n",
       "      <td>0</td>\n",
       "      <td>0</td>\n",
       "      <td>0</td>\n",
       "      <td>0</td>\n",
       "      <td>1</td>\n",
       "      <td>0</td>\n",
       "      <td>0</td>\n",
       "      <td>0</td>\n",
       "      <td>0</td>\n",
       "      <td>0</td>\n",
       "    </tr>\n",
       "    <tr>\n",
       "      <th>234830</th>\n",
       "      <td>131</td>\n",
       "      <td>241350</td>\n",
       "      <td>0</td>\n",
       "      <td>0</td>\n",
       "      <td>0</td>\n",
       "      <td>0</td>\n",
       "      <td>1</td>\n",
       "      <td>0</td>\n",
       "      <td>1</td>\n",
       "      <td>0</td>\n",
       "      <td>0</td>\n",
       "      <td>0</td>\n",
       "      <td>0</td>\n",
       "      <td>0</td>\n",
       "    </tr>\n",
       "    <tr>\n",
       "      <th>234831</th>\n",
       "      <td>102</td>\n",
       "      <td>241350</td>\n",
       "      <td>0</td>\n",
       "      <td>0</td>\n",
       "      <td>0</td>\n",
       "      <td>0</td>\n",
       "      <td>0</td>\n",
       "      <td>0</td>\n",
       "      <td>1</td>\n",
       "      <td>0</td>\n",
       "      <td>0</td>\n",
       "      <td>0</td>\n",
       "      <td>0</td>\n",
       "      <td>0</td>\n",
       "    </tr>\n",
       "    <tr>\n",
       "      <th>234832</th>\n",
       "      <td>90</td>\n",
       "      <td>241350</td>\n",
       "      <td>0</td>\n",
       "      <td>1</td>\n",
       "      <td>0</td>\n",
       "      <td>0</td>\n",
       "      <td>0</td>\n",
       "      <td>0</td>\n",
       "      <td>1</td>\n",
       "      <td>0</td>\n",
       "      <td>0</td>\n",
       "      <td>0</td>\n",
       "      <td>0</td>\n",
       "      <td>0</td>\n",
       "    </tr>\n",
       "  </tbody>\n",
       "</table>\n",
       "</div>"
      ],
      "text/plain": [
       "        horse_power  mileage  car_type_coupé  car_type_limousine  \\\n",
       "234828           75   241350               0                   0   \n",
       "234829          105   241350               0                   1   \n",
       "234830          131   241350               0                   0   \n",
       "234831          102   241350               0                   0   \n",
       "234832           90   241350               0                   1   \n",
       "\n",
       "        car_type_small car  car_type_convertible  car_type_station wagon  \\\n",
       "234828                   1                     0                       0   \n",
       "234829                   0                     0                       0   \n",
       "234830                   0                     0                       1   \n",
       "234831                   0                     0                       0   \n",
       "234832                   0                     0                       0   \n",
       "\n",
       "        car_type_other  gas_type_gasoline  gas_type_liquefied petroleum gas  \\\n",
       "234828               0                  1                                 0   \n",
       "234829               0                  1                                 0   \n",
       "234830               0                  1                                 0   \n",
       "234831               0                  1                                 0   \n",
       "234832               0                  1                                 0   \n",
       "\n",
       "        gas_type_other  gas_type_compressed natural gas  \\\n",
       "234828               0                                0   \n",
       "234829               0                                0   \n",
       "234830               0                                0   \n",
       "234831               0                                0   \n",
       "234832               0                                0   \n",
       "\n",
       "        Status_of_car_repair_ja  gear_type_automatik  \n",
       "234828                        0                    0  \n",
       "234829                        0                    0  \n",
       "234830                        0                    0  \n",
       "234831                        0                    0  \n",
       "234832                        0                    0  "
      ]
     },
     "execution_count": 211,
     "metadata": {},
     "output_type": "execute_result"
    }
   ],
   "source": [
    "test.head()"
   ]
  },
  {
   "cell_type": "code",
   "execution_count": null,
   "metadata": {},
   "outputs": [],
   "source": []
  },
  {
   "cell_type": "code",
   "execution_count": null,
   "metadata": {},
   "outputs": [],
   "source": []
  },
  {
   "cell_type": "code",
   "execution_count": null,
   "metadata": {},
   "outputs": [],
   "source": []
  },
  {
   "cell_type": "code",
   "execution_count": 212,
   "metadata": {
    "ExecuteTime": {
     "end_time": "2019-07-31T20:39:48.025174Z",
     "start_time": "2019-07-31T20:39:47.744195Z"
    },
    "run_control": {
     "marked": true
    }
   },
   "outputs": [],
   "source": [
    "from sklearn import preprocessing\n",
    "\n",
    "# Get column names first\n",
    "names = train.columns\n",
    "\n",
    "# Create the Scaler object\n",
    "norm = preprocessing.Normalizer()\n",
    "\n",
    "# Fit your data on the scaler object\n",
    "train = norm.fit_transform(train)\n",
    "train = pd.DataFrame(train, columns=names)\n",
    "\n",
    "test = norm.fit_transform(test)\n",
    "test = pd.DataFrame(test, columns=names)"
   ]
  },
  {
   "cell_type": "code",
   "execution_count": null,
   "metadata": {},
   "outputs": [],
   "source": []
  },
  {
   "cell_type": "code",
   "execution_count": 213,
   "metadata": {
    "ExecuteTime": {
     "end_time": "2019-07-31T20:39:49.394098Z",
     "start_time": "2019-07-31T20:39:49.333103Z"
    }
   },
   "outputs": [
    {
     "data": {
      "text/html": [
       "<div>\n",
       "<style scoped>\n",
       "    .dataframe tbody tr th:only-of-type {\n",
       "        vertical-align: middle;\n",
       "    }\n",
       "\n",
       "    .dataframe tbody tr th {\n",
       "        vertical-align: top;\n",
       "    }\n",
       "\n",
       "    .dataframe thead th {\n",
       "        text-align: right;\n",
       "    }\n",
       "</style>\n",
       "<table border=\"1\" class=\"dataframe\">\n",
       "  <thead>\n",
       "    <tr style=\"text-align: right;\">\n",
       "      <th></th>\n",
       "      <th>horse_power</th>\n",
       "      <th>mileage</th>\n",
       "      <th>car_type_coupé</th>\n",
       "      <th>car_type_limousine</th>\n",
       "      <th>car_type_small car</th>\n",
       "      <th>car_type_convertible</th>\n",
       "      <th>car_type_station wagon</th>\n",
       "      <th>car_type_other</th>\n",
       "      <th>gas_type_gasoline</th>\n",
       "      <th>gas_type_liquefied petroleum gas</th>\n",
       "      <th>gas_type_other</th>\n",
       "      <th>gas_type_compressed natural gas</th>\n",
       "      <th>Status_of_car_repair_ja</th>\n",
       "      <th>gear_type_automatik</th>\n",
       "    </tr>\n",
       "  </thead>\n",
       "  <tbody>\n",
       "    <tr>\n",
       "      <th>0</th>\n",
       "      <td>0.000311</td>\n",
       "      <td>1.0</td>\n",
       "      <td>0.0</td>\n",
       "      <td>0.000000</td>\n",
       "      <td>0.000004</td>\n",
       "      <td>0.0</td>\n",
       "      <td>0.000000</td>\n",
       "      <td>0.0</td>\n",
       "      <td>0.000004</td>\n",
       "      <td>0.0</td>\n",
       "      <td>0.0</td>\n",
       "      <td>0.0</td>\n",
       "      <td>0.0</td>\n",
       "      <td>0.0</td>\n",
       "    </tr>\n",
       "    <tr>\n",
       "      <th>1</th>\n",
       "      <td>0.000435</td>\n",
       "      <td>1.0</td>\n",
       "      <td>0.0</td>\n",
       "      <td>0.000004</td>\n",
       "      <td>0.000000</td>\n",
       "      <td>0.0</td>\n",
       "      <td>0.000000</td>\n",
       "      <td>0.0</td>\n",
       "      <td>0.000004</td>\n",
       "      <td>0.0</td>\n",
       "      <td>0.0</td>\n",
       "      <td>0.0</td>\n",
       "      <td>0.0</td>\n",
       "      <td>0.0</td>\n",
       "    </tr>\n",
       "    <tr>\n",
       "      <th>2</th>\n",
       "      <td>0.000543</td>\n",
       "      <td>1.0</td>\n",
       "      <td>0.0</td>\n",
       "      <td>0.000000</td>\n",
       "      <td>0.000000</td>\n",
       "      <td>0.0</td>\n",
       "      <td>0.000004</td>\n",
       "      <td>0.0</td>\n",
       "      <td>0.000004</td>\n",
       "      <td>0.0</td>\n",
       "      <td>0.0</td>\n",
       "      <td>0.0</td>\n",
       "      <td>0.0</td>\n",
       "      <td>0.0</td>\n",
       "    </tr>\n",
       "    <tr>\n",
       "      <th>3</th>\n",
       "      <td>0.000423</td>\n",
       "      <td>1.0</td>\n",
       "      <td>0.0</td>\n",
       "      <td>0.000000</td>\n",
       "      <td>0.000000</td>\n",
       "      <td>0.0</td>\n",
       "      <td>0.000000</td>\n",
       "      <td>0.0</td>\n",
       "      <td>0.000004</td>\n",
       "      <td>0.0</td>\n",
       "      <td>0.0</td>\n",
       "      <td>0.0</td>\n",
       "      <td>0.0</td>\n",
       "      <td>0.0</td>\n",
       "    </tr>\n",
       "    <tr>\n",
       "      <th>4</th>\n",
       "      <td>0.000373</td>\n",
       "      <td>1.0</td>\n",
       "      <td>0.0</td>\n",
       "      <td>0.000004</td>\n",
       "      <td>0.000000</td>\n",
       "      <td>0.0</td>\n",
       "      <td>0.000000</td>\n",
       "      <td>0.0</td>\n",
       "      <td>0.000004</td>\n",
       "      <td>0.0</td>\n",
       "      <td>0.0</td>\n",
       "      <td>0.0</td>\n",
       "      <td>0.0</td>\n",
       "      <td>0.0</td>\n",
       "    </tr>\n",
       "  </tbody>\n",
       "</table>\n",
       "</div>"
      ],
      "text/plain": [
       "   horse_power  mileage  car_type_coupé  car_type_limousine  \\\n",
       "0     0.000311      1.0             0.0            0.000000   \n",
       "1     0.000435      1.0             0.0            0.000004   \n",
       "2     0.000543      1.0             0.0            0.000000   \n",
       "3     0.000423      1.0             0.0            0.000000   \n",
       "4     0.000373      1.0             0.0            0.000004   \n",
       "\n",
       "   car_type_small car  car_type_convertible  car_type_station wagon  \\\n",
       "0            0.000004                   0.0                0.000000   \n",
       "1            0.000000                   0.0                0.000000   \n",
       "2            0.000000                   0.0                0.000004   \n",
       "3            0.000000                   0.0                0.000000   \n",
       "4            0.000000                   0.0                0.000000   \n",
       "\n",
       "   car_type_other  gas_type_gasoline  gas_type_liquefied petroleum gas  \\\n",
       "0             0.0           0.000004                               0.0   \n",
       "1             0.0           0.000004                               0.0   \n",
       "2             0.0           0.000004                               0.0   \n",
       "3             0.0           0.000004                               0.0   \n",
       "4             0.0           0.000004                               0.0   \n",
       "\n",
       "   gas_type_other  gas_type_compressed natural gas  Status_of_car_repair_ja  \\\n",
       "0             0.0                              0.0                      0.0   \n",
       "1             0.0                              0.0                      0.0   \n",
       "2             0.0                              0.0                      0.0   \n",
       "3             0.0                              0.0                      0.0   \n",
       "4             0.0                              0.0                      0.0   \n",
       "\n",
       "   gear_type_automatik  \n",
       "0                  0.0  \n",
       "1                  0.0  \n",
       "2                  0.0  \n",
       "3                  0.0  \n",
       "4                  0.0  "
      ]
     },
     "execution_count": 213,
     "metadata": {},
     "output_type": "execute_result"
    }
   ],
   "source": [
    "test.head()"
   ]
  },
  {
   "cell_type": "code",
   "execution_count": null,
   "metadata": {},
   "outputs": [],
   "source": []
  },
  {
   "cell_type": "code",
   "execution_count": null,
   "metadata": {},
   "outputs": [],
   "source": []
  },
  {
   "cell_type": "code",
   "execution_count": null,
   "metadata": {},
   "outputs": [],
   "source": []
  },
  {
   "cell_type": "code",
   "execution_count": 223,
   "metadata": {
    "ExecuteTime": {
     "end_time": "2019-08-01T13:42:15.730697Z",
     "start_time": "2019-08-01T13:42:15.721696Z"
    }
   },
   "outputs": [],
   "source": [
    "import xgboost as xgb\n",
    "from sklearn.model_selection import cross_val_score\n",
    "from xgboost import plot_tree\n",
    "from xgboost import plot_importance\n",
    "from sklearn.metrics import mean_squared_error"
   ]
  },
  {
   "cell_type": "code",
   "execution_count": 224,
   "metadata": {
    "ExecuteTime": {
     "end_time": "2019-08-01T13:42:18.491519Z",
     "start_time": "2019-08-01T13:42:16.897620Z"
    }
   },
   "outputs": [
    {
     "data": {
      "text/plain": [
       "((164379, 14), (70449, 14))"
      ]
     },
     "execution_count": 224,
     "metadata": {},
     "output_type": "execute_result"
    }
   ],
   "source": [
    "from sklearn.model_selection import train_test_split\n",
    "\n",
    "X_train, X_test, y_train, y_test = train_test_split(train, labels, test_size = 0.3, random_state = 0)  \n",
    "X_train.shape, X_test.shape"
   ]
  },
  {
   "cell_type": "code",
   "execution_count": 225,
   "metadata": {
    "ExecuteTime": {
     "end_time": "2019-08-01T13:42:23.154250Z",
     "start_time": "2019-08-01T13:42:23.145252Z"
    }
   },
   "outputs": [],
   "source": [
    "xg_reg = xgb.XGBRegressor(objective ='reg:linear', colsample_bytree = 0.5, learning_rate = 0.1,\n",
    "                          max_depth = 5, alpha = 5, n_estimators = 15)"
   ]
  },
  {
   "cell_type": "code",
   "execution_count": 226,
   "metadata": {
    "ExecuteTime": {
     "end_time": "2019-08-01T13:42:33.251590Z",
     "start_time": "2019-08-01T13:42:25.473097Z"
    }
   },
   "outputs": [
    {
     "name": "stderr",
     "output_type": "stream",
     "text": [
      "C:\\Users\\mo.yosiwealth\\Anaconda\\lib\\site-packages\\xgboost\\core.py:587: FutureWarning: Series.base is deprecated and will be removed in a future version\n",
      "  if getattr(data, 'base', None) is not None and \\\n"
     ]
    },
    {
     "name": "stdout",
     "output_type": "stream",
     "text": [
      "[14:42:26] WARNING: C:/Jenkins/workspace/xgboost-win64_release_0.90/src/objective/regression_obj.cu:152: reg:linear is now deprecated in favor of reg:squarederror.\n"
     ]
    }
   ],
   "source": [
    "xg_reg.fit(X_train,y_train)\n",
    "\n",
    "preds = xg_reg.predict(X_test)"
   ]
  },
  {
   "cell_type": "code",
   "execution_count": 227,
   "metadata": {
    "ExecuteTime": {
     "end_time": "2019-08-01T13:42:34.969481Z",
     "start_time": "2019-08-01T13:42:34.629502Z"
    }
   },
   "outputs": [
    {
     "name": "stdout",
     "output_type": "stream",
     "text": [
      "RMSE: 2294300.438103\n"
     ]
    }
   ],
   "source": [
    "rmse = np.sqrt(mean_squared_error(y_test, preds))\n",
    "print(\"RMSE: %f\" % (rmse))"
   ]
  },
  {
   "cell_type": "code",
   "execution_count": 228,
   "metadata": {
    "ExecuteTime": {
     "end_time": "2019-08-01T13:42:38.676237Z",
     "start_time": "2019-08-01T13:42:36.326390Z"
    }
   },
   "outputs": [],
   "source": [
    "xgpred = xg_reg.predict(test)\n",
    "\n",
    "xg_reg = pd.DataFrame({'Id':test_to_submit['id'],'Predicted': xgpred},\n",
    "                                 columns=['Id','Predicted'])\n",
    "\n",
    "#to csv\n",
    "xg_reg.to_csv('xgpred1.csv',index=False)"
   ]
  },
  {
   "cell_type": "code",
   "execution_count": null,
   "metadata": {},
   "outputs": [],
   "source": []
  },
  {
   "cell_type": "code",
   "execution_count": null,
   "metadata": {},
   "outputs": [],
   "source": []
  },
  {
   "cell_type": "code",
   "execution_count": 234,
   "metadata": {
    "ExecuteTime": {
     "end_time": "2019-08-02T09:55:24.791223Z",
     "start_time": "2019-08-02T09:55:24.243258Z"
    }
   },
   "outputs": [
    {
     "name": "stdout",
     "output_type": "stream",
     "text": [
      "RMSE: 2849577.262037\n"
     ]
    }
   ],
   "source": [
    "from sklearn.linear_model import LinearRegression\n",
    "lin_reg = LinearRegression()\n",
    "\n",
    "lin_reg.fit(X_train,y_train)\n",
    "\n",
    "preds = lin_reg.predict(X_test)\n",
    "\n",
    "rmse = np.sqrt(mean_squared_error(y_test, preds))\n",
    "print(\"RMSE: %f\" % (rmse))"
   ]
  },
  {
   "cell_type": "code",
   "execution_count": null,
   "metadata": {},
   "outputs": [],
   "source": []
  },
  {
   "cell_type": "code",
   "execution_count": 244,
   "metadata": {
    "ExecuteTime": {
     "end_time": "2019-08-02T10:04:07.585140Z",
     "start_time": "2019-08-02T10:03:51.437561Z"
    }
   },
   "outputs": [
    {
     "name": "stderr",
     "output_type": "stream",
     "text": [
      "C:\\Users\\mo.yosiwealth\\Anaconda\\lib\\site-packages\\sklearn\\ensemble\\forest.py:245: FutureWarning: The default value of n_estimators will change from 10 in version 0.20 to 100 in 0.22.\n",
      "  \"10 in version 0.20 to 100 in 0.22.\", FutureWarning)\n"
     ]
    },
    {
     "name": "stdout",
     "output_type": "stream",
     "text": [
      "RMSE: 1968987.020571\n"
     ]
    }
   ],
   "source": [
    "from sklearn.ensemble import RandomForestRegressor\n",
    "\n",
    "forest_reg = RandomForestRegressor(random_state=42, n_jobs =-1, max_depth = 30 )\n",
    "forest_reg.fit(X_train,y_train)\n",
    "\n",
    "forest_reg.fit(X_train,y_train)\n",
    "\n",
    "preds = forest_reg.predict(X_test)\n",
    "\n",
    "rmse = np.sqrt(mean_squared_error(y_test, preds))\n",
    "print(\"RMSE: %f\" % (rmse))"
   ]
  },
  {
   "cell_type": "code",
   "execution_count": null,
   "metadata": {},
   "outputs": [],
   "source": []
  },
  {
   "cell_type": "code",
   "execution_count": null,
   "metadata": {},
   "outputs": [],
   "source": []
  },
  {
   "cell_type": "code",
   "execution_count": null,
   "metadata": {},
   "outputs": [],
   "source": []
  },
  {
   "cell_type": "code",
   "execution_count": null,
   "metadata": {},
   "outputs": [],
   "source": []
  },
  {
   "cell_type": "code",
   "execution_count": 229,
   "metadata": {
    "ExecuteTime": {
     "end_time": "2019-08-02T09:48:45.009214Z",
     "start_time": "2019-08-02T09:48:44.518243Z"
    }
   },
   "outputs": [],
   "source": [
    "from sklearn.model_selection import cross_val_score\n",
    "\n",
    "def display_scores(scores):\n",
    "    print(\"Scores:\", scores)\n",
    "    print(\"Mean:\", scores.mean())\n",
    "    print(\"Standard deviation:\", scores.std())"
   ]
  },
  {
   "cell_type": "code",
   "execution_count": null,
   "metadata": {},
   "outputs": [],
   "source": []
  },
  {
   "cell_type": "code",
   "execution_count": 239,
   "metadata": {
    "ExecuteTime": {
     "end_time": "2019-08-02T10:00:13.914386Z",
     "start_time": "2019-08-02T10:00:12.736461Z"
    }
   },
   "outputs": [
    {
     "name": "stdout",
     "output_type": "stream",
     "text": [
      "Scores: [2782847.64234331 2802065.48732283 2805410.37141739 2677406.15658601]\n",
      "Mean: 2766932.414417384\n",
      "Standard deviation: 52400.217814190866\n"
     ]
    }
   ],
   "source": [
    "from sklearn.linear_model import LinearRegression\n",
    "lin_reg = LinearRegression()\n",
    "\n",
    "scores = cross_val_score(lin_reg, X_train,y_train,\n",
    "                         scoring=\"neg_mean_squared_error\", cv=4)\n",
    "lin_rmse_scores = np.sqrt(-scores)\n",
    "\n",
    "display_scores(lin_rmse_scores)"
   ]
  },
  {
   "cell_type": "code",
   "execution_count": null,
   "metadata": {},
   "outputs": [],
   "source": []
  },
  {
   "cell_type": "code",
   "execution_count": null,
   "metadata": {},
   "outputs": [],
   "source": []
  },
  {
   "cell_type": "code",
   "execution_count": 240,
   "metadata": {
    "ExecuteTime": {
     "end_time": "2019-08-02T10:00:44.395010Z",
     "start_time": "2019-08-02T10:00:19.144046Z"
    }
   },
   "outputs": [
    {
     "name": "stderr",
     "output_type": "stream",
     "text": [
      "C:\\Users\\mo.yosiwealth\\Anaconda\\lib\\site-packages\\sklearn\\ensemble\\forest.py:245: FutureWarning: The default value of n_estimators will change from 10 in version 0.20 to 100 in 0.22.\n",
      "  \"10 in version 0.20 to 100 in 0.22.\", FutureWarning)\n",
      "C:\\Users\\mo.yosiwealth\\Anaconda\\lib\\site-packages\\sklearn\\ensemble\\forest.py:245: FutureWarning: The default value of n_estimators will change from 10 in version 0.20 to 100 in 0.22.\n",
      "  \"10 in version 0.20 to 100 in 0.22.\", FutureWarning)\n",
      "C:\\Users\\mo.yosiwealth\\Anaconda\\lib\\site-packages\\sklearn\\ensemble\\forest.py:245: FutureWarning: The default value of n_estimators will change from 10 in version 0.20 to 100 in 0.22.\n",
      "  \"10 in version 0.20 to 100 in 0.22.\", FutureWarning)\n",
      "C:\\Users\\mo.yosiwealth\\Anaconda\\lib\\site-packages\\sklearn\\ensemble\\forest.py:245: FutureWarning: The default value of n_estimators will change from 10 in version 0.20 to 100 in 0.22.\n",
      "  \"10 in version 0.20 to 100 in 0.22.\", FutureWarning)\n"
     ]
    },
    {
     "name": "stdout",
     "output_type": "stream",
     "text": [
      "Scores: [1866291.2368798  1841559.96764452 1960356.68479067 1738033.84590025]\n",
      "Mean: 1851560.4338038107\n",
      "Standard deviation: 79123.18919331931\n"
     ]
    }
   ],
   "source": [
    "from sklearn.ensemble import RandomForestRegressor\n",
    "\n",
    "forest_reg = RandomForestRegressor(random_state=42, n_jobs =-1, max_depth = 30 )\n",
    "\n",
    "\n",
    "scores = cross_val_score(forest_reg, X_train,y_train,\n",
    "                         scoring=\"neg_mean_squared_error\", cv=4)\n",
    "forest_rmse_scores = np.sqrt(-scores)\n",
    "\n",
    "display_scores(forest_rmse_scores)"
   ]
  },
  {
   "cell_type": "code",
   "execution_count": null,
   "metadata": {},
   "outputs": [],
   "source": []
  },
  {
   "cell_type": "code",
   "execution_count": 245,
   "metadata": {
    "ExecuteTime": {
     "end_time": "2019-08-02T10:05:11.113279Z",
     "start_time": "2019-08-02T10:05:10.944293Z"
    }
   },
   "outputs": [
    {
     "data": {
      "text/plain": [
       "array([6.44877838e-01, 5.95808254e-02, 4.03495460e-02, 1.81174259e-02,\n",
       "       6.24885052e-03, 2.74471618e-02, 1.01130159e-02, 2.14826999e-03,\n",
       "       8.68780267e-02, 5.78508335e-03, 1.96490916e-04, 1.82812345e-04,\n",
       "       1.20059140e-02, 8.60687395e-02])"
      ]
     },
     "execution_count": 245,
     "metadata": {},
     "output_type": "execute_result"
    }
   ],
   "source": [
    "feature_importances = forest_reg.feature_importances_\n",
    "feature_importances"
   ]
  },
  {
   "cell_type": "code",
   "execution_count": 249,
   "metadata": {
    "ExecuteTime": {
     "end_time": "2019-08-02T10:09:37.032339Z",
     "start_time": "2019-08-02T10:09:36.764357Z"
    }
   },
   "outputs": [
    {
     "data": {
      "text/plain": [
       "0.6055635259887268"
      ]
     },
     "execution_count": 249,
     "metadata": {},
     "output_type": "execute_result"
    }
   ],
   "source": [
    "forest_reg.score(X_test, y_test)"
   ]
  },
  {
   "cell_type": "code",
   "execution_count": null,
   "metadata": {},
   "outputs": [],
   "source": []
  }
 ],
 "metadata": {
  "kernelspec": {
   "display_name": "Python 3",
   "language": "python",
   "name": "python3"
  },
  "language_info": {
   "codemirror_mode": {
    "name": "ipython",
    "version": 3
   },
   "file_extension": ".py",
   "mimetype": "text/x-python",
   "name": "python",
   "nbconvert_exporter": "python",
   "pygments_lexer": "ipython3",
   "version": "3.7.2"
  }
 },
 "nbformat": 4,
 "nbformat_minor": 2
}
