{
 "cells": [
  {
   "cell_type": "code",
   "execution_count": 127,
   "metadata": {},
   "outputs": [],
   "source": [
    "import pandas as pd\n",
    "import numpy as np\n",
    "import matplotlib.pyplot as plt\n",
    "import seaborn as sns\n",
    "%matplotlib inline"
   ]
  },
  {
   "cell_type": "code",
   "execution_count": 148,
   "metadata": {},
   "outputs": [],
   "source": [
    "train = pd.read_csv(\"train.csv\")\n",
    "test = pd.read_csv(\"test.csv\")"
   ]
  },
  {
   "cell_type": "code",
   "execution_count": 149,
   "metadata": {},
   "outputs": [
    {
     "data": {
      "text/html": [
       "<div>\n",
       "<style>\n",
       "    .dataframe thead tr:only-child th {\n",
       "        text-align: right;\n",
       "    }\n",
       "\n",
       "    .dataframe thead th {\n",
       "        text-align: left;\n",
       "    }\n",
       "\n",
       "    .dataframe tbody tr th {\n",
       "        vertical-align: top;\n",
       "    }\n",
       "</style>\n",
       "<table border=\"1\" class=\"dataframe\">\n",
       "  <thead>\n",
       "    <tr style=\"text-align: right;\">\n",
       "      <th></th>\n",
       "      <th>customerid</th>\n",
       "      <th>age</th>\n",
       "      <th>bank_name_clients</th>\n",
       "      <th>employment_status_clients</th>\n",
       "      <th>good_bad_flag</th>\n",
       "      <th>loanamount</th>\n",
       "      <th>loannumber</th>\n",
       "      <th>source</th>\n",
       "      <th>termdays</th>\n",
       "      <th>totaldue</th>\n",
       "    </tr>\n",
       "  </thead>\n",
       "  <tbody>\n",
       "    <tr>\n",
       "      <th>0</th>\n",
       "      <td>8a28afc7474813a40147639ec637156b</td>\n",
       "      <td>32</td>\n",
       "      <td>GT Bank</td>\n",
       "      <td>Permanent</td>\n",
       "      <td>NaN</td>\n",
       "      <td>25000</td>\n",
       "      <td>11</td>\n",
       "      <td>test</td>\n",
       "      <td>30</td>\n",
       "      <td>27500.0</td>\n",
       "    </tr>\n",
       "    <tr>\n",
       "      <th>1</th>\n",
       "      <td>8a3735d5518aba7301518ac34413010d</td>\n",
       "      <td>39</td>\n",
       "      <td>GT Bank</td>\n",
       "      <td>Permanent</td>\n",
       "      <td>NaN</td>\n",
       "      <td>20000</td>\n",
       "      <td>7</td>\n",
       "      <td>test</td>\n",
       "      <td>30</td>\n",
       "      <td>24500.0</td>\n",
       "    </tr>\n",
       "    <tr>\n",
       "      <th>2</th>\n",
       "      <td>8a76e7d443e6e97c0143ed099d102b1d</td>\n",
       "      <td>36</td>\n",
       "      <td>Zenith Bank</td>\n",
       "      <td>Permanent</td>\n",
       "      <td>NaN</td>\n",
       "      <td>20000</td>\n",
       "      <td>6</td>\n",
       "      <td>test</td>\n",
       "      <td>30</td>\n",
       "      <td>24500.0</td>\n",
       "    </tr>\n",
       "    <tr>\n",
       "      <th>3</th>\n",
       "      <td>8a818823525dceef01525deda2480384</td>\n",
       "      <td>41</td>\n",
       "      <td>First Bank</td>\n",
       "      <td>Self-Employed</td>\n",
       "      <td>NaN</td>\n",
       "      <td>40000</td>\n",
       "      <td>10</td>\n",
       "      <td>test</td>\n",
       "      <td>60</td>\n",
       "      <td>48000.0</td>\n",
       "    </tr>\n",
       "    <tr>\n",
       "      <th>4</th>\n",
       "      <td>8a818926522ea5ef01523aff15c37482</td>\n",
       "      <td>33</td>\n",
       "      <td>Diamond Bank</td>\n",
       "      <td>Permanent</td>\n",
       "      <td>NaN</td>\n",
       "      <td>20000</td>\n",
       "      <td>3</td>\n",
       "      <td>test</td>\n",
       "      <td>30</td>\n",
       "      <td>24500.0</td>\n",
       "    </tr>\n",
       "  </tbody>\n",
       "</table>\n",
       "</div>"
      ],
      "text/plain": [
       "                         customerid  age bank_name_clients  \\\n",
       "0  8a28afc7474813a40147639ec637156b   32           GT Bank   \n",
       "1  8a3735d5518aba7301518ac34413010d   39           GT Bank   \n",
       "2  8a76e7d443e6e97c0143ed099d102b1d   36       Zenith Bank   \n",
       "3  8a818823525dceef01525deda2480384   41        First Bank   \n",
       "4  8a818926522ea5ef01523aff15c37482   33      Diamond Bank   \n",
       "\n",
       "  employment_status_clients  good_bad_flag  loanamount  loannumber source  \\\n",
       "0                 Permanent            NaN       25000          11   test   \n",
       "1                 Permanent            NaN       20000           7   test   \n",
       "2                 Permanent            NaN       20000           6   test   \n",
       "3             Self-Employed            NaN       40000          10   test   \n",
       "4                 Permanent            NaN       20000           3   test   \n",
       "\n",
       "   termdays  totaldue  \n",
       "0        30   27500.0  \n",
       "1        30   24500.0  \n",
       "2        30   24500.0  \n",
       "3        60   48000.0  \n",
       "4        30   24500.0  "
      ]
     },
     "execution_count": 149,
     "metadata": {},
     "output_type": "execute_result"
    }
   ],
   "source": [
    "test.head()"
   ]
  },
  {
   "cell_type": "code",
   "execution_count": 150,
   "metadata": {},
   "outputs": [
    {
     "name": "stdout",
     "output_type": "stream",
     "text": [
      "(4368, 10)\n",
      "(1450, 10)\n"
     ]
    }
   ],
   "source": [
    "print(train.shape)\n",
    "print(test.shape)"
   ]
  },
  {
   "cell_type": "code",
   "execution_count": 151,
   "metadata": {},
   "outputs": [
    {
     "data": {
      "text/html": [
       "<div>\n",
       "<style>\n",
       "    .dataframe thead tr:only-child th {\n",
       "        text-align: right;\n",
       "    }\n",
       "\n",
       "    .dataframe thead th {\n",
       "        text-align: left;\n",
       "    }\n",
       "\n",
       "    .dataframe tbody tr th {\n",
       "        vertical-align: top;\n",
       "    }\n",
       "</style>\n",
       "<table border=\"1\" class=\"dataframe\">\n",
       "  <thead>\n",
       "    <tr style=\"text-align: right;\">\n",
       "      <th></th>\n",
       "      <th>customerid</th>\n",
       "      <th>age</th>\n",
       "      <th>bank_name_clients</th>\n",
       "      <th>employment_status_clients</th>\n",
       "      <th>good_bad_flag</th>\n",
       "      <th>loanamount</th>\n",
       "      <th>loannumber</th>\n",
       "      <th>source</th>\n",
       "      <th>termdays</th>\n",
       "      <th>totaldue</th>\n",
       "    </tr>\n",
       "  </thead>\n",
       "  <tbody>\n",
       "    <tr>\n",
       "      <th>0</th>\n",
       "      <td>8a1088a0484472eb01484669e3ce4e0b</td>\n",
       "      <td>28</td>\n",
       "      <td>GT Bank</td>\n",
       "      <td>Permanent</td>\n",
       "      <td>Bad</td>\n",
       "      <td>10000</td>\n",
       "      <td>2</td>\n",
       "      <td>train</td>\n",
       "      <td>15</td>\n",
       "      <td>11500.0</td>\n",
       "    </tr>\n",
       "    <tr>\n",
       "      <th>1</th>\n",
       "      <td>8a1a1e7e4f707f8b014f797718316cad</td>\n",
       "      <td>38</td>\n",
       "      <td>Standard Chartered</td>\n",
       "      <td>Permanent</td>\n",
       "      <td>Good</td>\n",
       "      <td>30000</td>\n",
       "      <td>5</td>\n",
       "      <td>train</td>\n",
       "      <td>60</td>\n",
       "      <td>39000.0</td>\n",
       "    </tr>\n",
       "    <tr>\n",
       "      <th>2</th>\n",
       "      <td>8a1a32fc49b632520149c3b8fdf85139</td>\n",
       "      <td>38</td>\n",
       "      <td>GT Bank</td>\n",
       "      <td>Permanent</td>\n",
       "      <td>Good</td>\n",
       "      <td>20000</td>\n",
       "      <td>8</td>\n",
       "      <td>train</td>\n",
       "      <td>30</td>\n",
       "      <td>24500.0</td>\n",
       "    </tr>\n",
       "    <tr>\n",
       "      <th>3</th>\n",
       "      <td>8a1eb5ba49a682300149c3c068b806c7</td>\n",
       "      <td>39</td>\n",
       "      <td>First Bank</td>\n",
       "      <td>Permanent</td>\n",
       "      <td>Good</td>\n",
       "      <td>30000</td>\n",
       "      <td>9</td>\n",
       "      <td>train</td>\n",
       "      <td>60</td>\n",
       "      <td>39000.0</td>\n",
       "    </tr>\n",
       "    <tr>\n",
       "      <th>4</th>\n",
       "      <td>8a1edbf14734127f0147356fdb1b1eb2</td>\n",
       "      <td>39</td>\n",
       "      <td>GT Bank</td>\n",
       "      <td>Permanent</td>\n",
       "      <td>Good</td>\n",
       "      <td>10000</td>\n",
       "      <td>3</td>\n",
       "      <td>train</td>\n",
       "      <td>15</td>\n",
       "      <td>11500.0</td>\n",
       "    </tr>\n",
       "  </tbody>\n",
       "</table>\n",
       "</div>"
      ],
      "text/plain": [
       "                         customerid  age   bank_name_clients  \\\n",
       "0  8a1088a0484472eb01484669e3ce4e0b   28             GT Bank   \n",
       "1  8a1a1e7e4f707f8b014f797718316cad   38  Standard Chartered   \n",
       "2  8a1a32fc49b632520149c3b8fdf85139   38             GT Bank   \n",
       "3  8a1eb5ba49a682300149c3c068b806c7   39          First Bank   \n",
       "4  8a1edbf14734127f0147356fdb1b1eb2   39             GT Bank   \n",
       "\n",
       "  employment_status_clients good_bad_flag  loanamount  loannumber source  \\\n",
       "0                 Permanent           Bad       10000           2  train   \n",
       "1                 Permanent          Good       30000           5  train   \n",
       "2                 Permanent          Good       20000           8  train   \n",
       "3                 Permanent          Good       30000           9  train   \n",
       "4                 Permanent          Good       10000           3  train   \n",
       "\n",
       "   termdays  totaldue  \n",
       "0        15   11500.0  \n",
       "1        60   39000.0  \n",
       "2        30   24500.0  \n",
       "3        60   39000.0  \n",
       "4        15   11500.0  "
      ]
     },
     "execution_count": 151,
     "metadata": {},
     "output_type": "execute_result"
    }
   ],
   "source": [
    "train.head()"
   ]
  },
  {
   "cell_type": "code",
   "execution_count": 152,
   "metadata": {},
   "outputs": [
    {
     "data": {
      "text/plain": [
       "array(['Permanent', 'Self-Employed', 'Student', 'Unemployed', 'Retired'], dtype=object)"
      ]
     },
     "execution_count": 152,
     "metadata": {},
     "output_type": "execute_result"
    }
   ],
   "source": [
    "test.employment_status_clients.unique()"
   ]
  },
  {
   "cell_type": "code",
   "execution_count": 153,
   "metadata": {},
   "outputs": [],
   "source": [
    "train = train.drop(['customerid','source'],axis=1)\n",
    "test = test.drop(['customerid','good_bad_flag','source'],axis=1)"
   ]
  },
  {
   "cell_type": "markdown",
   "metadata": {},
   "source": [
    "values = {\"good_bad_flag\":{\"Bad\":0, \"Good\":1},\"employment_status_clients\":{'Permanent':0,'S'}}\n",
    "     \n",
    "train.replace(values,inplace=True)"
   ]
  },
  {
   "cell_type": "code",
   "execution_count": null,
   "metadata": {},
   "outputs": [],
   "source": []
  },
  {
   "cell_type": "code",
   "execution_count": 143,
   "metadata": {},
   "outputs": [],
   "source": [
    "trainDummy = pd.get_dummies(train)\n",
    "testDummy = pd.get_dummies(test)"
   ]
  },
  {
   "cell_type": "code",
   "execution_count": 155,
   "metadata": {},
   "outputs": [
    {
     "ename": "ValueError",
     "evalue": "labels ['good_bad_flag'] not contained in axis",
     "output_type": "error",
     "traceback": [
      "\u001b[1;31m---------------------------------------------------------------------------\u001b[0m",
      "\u001b[1;31mValueError\u001b[0m                                Traceback (most recent call last)",
      "\u001b[1;32m<ipython-input-155-5e0f89faf34d>\u001b[0m in \u001b[0;36m<module>\u001b[1;34m()\u001b[0m\n\u001b[1;32m----> 1\u001b[1;33m \u001b[0mfeatures\u001b[0m \u001b[1;33m=\u001b[0m \u001b[0mtrainDummy\u001b[0m\u001b[1;33m.\u001b[0m\u001b[0mdrop\u001b[0m\u001b[1;33m(\u001b[0m\u001b[1;33m[\u001b[0m\u001b[1;34m'good_bad_flag'\u001b[0m\u001b[1;33m]\u001b[0m\u001b[1;33m,\u001b[0m \u001b[0maxis\u001b[0m\u001b[1;33m=\u001b[0m\u001b[1;36m1\u001b[0m\u001b[1;33m)\u001b[0m\u001b[1;33m\u001b[0m\u001b[0m\n\u001b[0m",
      "\u001b[1;32m~\\Anaconda\\lib\\site-packages\\pandas\\core\\generic.py\u001b[0m in \u001b[0;36mdrop\u001b[1;34m(self, labels, axis, level, inplace, errors)\u001b[0m\n\u001b[0;32m   2159\u001b[0m                 \u001b[0mnew_axis\u001b[0m \u001b[1;33m=\u001b[0m \u001b[0maxis\u001b[0m\u001b[1;33m.\u001b[0m\u001b[0mdrop\u001b[0m\u001b[1;33m(\u001b[0m\u001b[0mlabels\u001b[0m\u001b[1;33m,\u001b[0m \u001b[0mlevel\u001b[0m\u001b[1;33m=\u001b[0m\u001b[0mlevel\u001b[0m\u001b[1;33m,\u001b[0m \u001b[0merrors\u001b[0m\u001b[1;33m=\u001b[0m\u001b[0merrors\u001b[0m\u001b[1;33m)\u001b[0m\u001b[1;33m\u001b[0m\u001b[0m\n\u001b[0;32m   2160\u001b[0m             \u001b[1;32melse\u001b[0m\u001b[1;33m:\u001b[0m\u001b[1;33m\u001b[0m\u001b[0m\n\u001b[1;32m-> 2161\u001b[1;33m                 \u001b[0mnew_axis\u001b[0m \u001b[1;33m=\u001b[0m \u001b[0maxis\u001b[0m\u001b[1;33m.\u001b[0m\u001b[0mdrop\u001b[0m\u001b[1;33m(\u001b[0m\u001b[0mlabels\u001b[0m\u001b[1;33m,\u001b[0m \u001b[0merrors\u001b[0m\u001b[1;33m=\u001b[0m\u001b[0merrors\u001b[0m\u001b[1;33m)\u001b[0m\u001b[1;33m\u001b[0m\u001b[0m\n\u001b[0m\u001b[0;32m   2162\u001b[0m             \u001b[0mdropped\u001b[0m \u001b[1;33m=\u001b[0m \u001b[0mself\u001b[0m\u001b[1;33m.\u001b[0m\u001b[0mreindex\u001b[0m\u001b[1;33m(\u001b[0m\u001b[1;33m**\u001b[0m\u001b[1;33m{\u001b[0m\u001b[0maxis_name\u001b[0m\u001b[1;33m:\u001b[0m \u001b[0mnew_axis\u001b[0m\u001b[1;33m}\u001b[0m\u001b[1;33m)\u001b[0m\u001b[1;33m\u001b[0m\u001b[0m\n\u001b[0;32m   2163\u001b[0m             \u001b[1;32mtry\u001b[0m\u001b[1;33m:\u001b[0m\u001b[1;33m\u001b[0m\u001b[0m\n",
      "\u001b[1;32m~\\Anaconda\\lib\\site-packages\\pandas\\core\\indexes\\base.py\u001b[0m in \u001b[0;36mdrop\u001b[1;34m(self, labels, errors)\u001b[0m\n\u001b[0;32m   3622\u001b[0m             \u001b[1;32mif\u001b[0m \u001b[0merrors\u001b[0m \u001b[1;33m!=\u001b[0m \u001b[1;34m'ignore'\u001b[0m\u001b[1;33m:\u001b[0m\u001b[1;33m\u001b[0m\u001b[0m\n\u001b[0;32m   3623\u001b[0m                 raise ValueError('labels %s not contained in axis' %\n\u001b[1;32m-> 3624\u001b[1;33m                                  labels[mask])\n\u001b[0m\u001b[0;32m   3625\u001b[0m             \u001b[0mindexer\u001b[0m \u001b[1;33m=\u001b[0m \u001b[0mindexer\u001b[0m\u001b[1;33m[\u001b[0m\u001b[1;33m~\u001b[0m\u001b[0mmask\u001b[0m\u001b[1;33m]\u001b[0m\u001b[1;33m\u001b[0m\u001b[0m\n\u001b[0;32m   3626\u001b[0m         \u001b[1;32mreturn\u001b[0m \u001b[0mself\u001b[0m\u001b[1;33m.\u001b[0m\u001b[0mdelete\u001b[0m\u001b[1;33m(\u001b[0m\u001b[0mindexer\u001b[0m\u001b[1;33m)\u001b[0m\u001b[1;33m\u001b[0m\u001b[0m\n",
      "\u001b[1;31mValueError\u001b[0m: labels ['good_bad_flag'] not contained in axis"
     ]
    }
   ],
   "source": [
    "features = trainDummy.drop(['good_bad_flag'], axis=1)"
   ]
  },
  {
   "cell_type": "code",
   "execution_count": 90,
   "metadata": {},
   "outputs": [],
   "source": [
    "target = trainDummy['good_bad_flag']"
   ]
  },
  {
   "cell_type": "code",
   "execution_count": 92,
   "metadata": {},
   "outputs": [
    {
     "data": {
      "text/html": [
       "<div>\n",
       "<style>\n",
       "    .dataframe thead tr:only-child th {\n",
       "        text-align: right;\n",
       "    }\n",
       "\n",
       "    .dataframe thead th {\n",
       "        text-align: left;\n",
       "    }\n",
       "\n",
       "    .dataframe tbody tr th {\n",
       "        vertical-align: top;\n",
       "    }\n",
       "</style>\n",
       "<table border=\"1\" class=\"dataframe\">\n",
       "  <thead>\n",
       "    <tr style=\"text-align: right;\">\n",
       "      <th></th>\n",
       "      <th>age</th>\n",
       "      <th>loanamount</th>\n",
       "      <th>loannumber</th>\n",
       "      <th>termdays</th>\n",
       "      <th>totaldue</th>\n",
       "      <th>bank_name_clients_Access Bank</th>\n",
       "      <th>bank_name_clients_Diamond Bank</th>\n",
       "      <th>bank_name_clients_EcoBank</th>\n",
       "      <th>bank_name_clients_FCMB</th>\n",
       "      <th>bank_name_clients_Fidelity Bank</th>\n",
       "      <th>...</th>\n",
       "      <th>bank_name_clients_UBA</th>\n",
       "      <th>bank_name_clients_Union Bank</th>\n",
       "      <th>bank_name_clients_Unity Bank</th>\n",
       "      <th>bank_name_clients_Wema Bank</th>\n",
       "      <th>bank_name_clients_Zenith Bank</th>\n",
       "      <th>employment_status_clients_Permanent</th>\n",
       "      <th>employment_status_clients_Retired</th>\n",
       "      <th>employment_status_clients_Self-Employed</th>\n",
       "      <th>employment_status_clients_Student</th>\n",
       "      <th>employment_status_clients_Unemployed</th>\n",
       "    </tr>\n",
       "  </thead>\n",
       "  <tbody>\n",
       "    <tr>\n",
       "      <th>0</th>\n",
       "      <td>28</td>\n",
       "      <td>10000</td>\n",
       "      <td>2</td>\n",
       "      <td>15</td>\n",
       "      <td>11500.0</td>\n",
       "      <td>0</td>\n",
       "      <td>0</td>\n",
       "      <td>0</td>\n",
       "      <td>0</td>\n",
       "      <td>0</td>\n",
       "      <td>...</td>\n",
       "      <td>0</td>\n",
       "      <td>0</td>\n",
       "      <td>0</td>\n",
       "      <td>0</td>\n",
       "      <td>0</td>\n",
       "      <td>1</td>\n",
       "      <td>0</td>\n",
       "      <td>0</td>\n",
       "      <td>0</td>\n",
       "      <td>0</td>\n",
       "    </tr>\n",
       "    <tr>\n",
       "      <th>1</th>\n",
       "      <td>38</td>\n",
       "      <td>30000</td>\n",
       "      <td>5</td>\n",
       "      <td>60</td>\n",
       "      <td>39000.0</td>\n",
       "      <td>0</td>\n",
       "      <td>0</td>\n",
       "      <td>0</td>\n",
       "      <td>0</td>\n",
       "      <td>0</td>\n",
       "      <td>...</td>\n",
       "      <td>0</td>\n",
       "      <td>0</td>\n",
       "      <td>0</td>\n",
       "      <td>0</td>\n",
       "      <td>0</td>\n",
       "      <td>1</td>\n",
       "      <td>0</td>\n",
       "      <td>0</td>\n",
       "      <td>0</td>\n",
       "      <td>0</td>\n",
       "    </tr>\n",
       "    <tr>\n",
       "      <th>2</th>\n",
       "      <td>38</td>\n",
       "      <td>20000</td>\n",
       "      <td>8</td>\n",
       "      <td>30</td>\n",
       "      <td>24500.0</td>\n",
       "      <td>0</td>\n",
       "      <td>0</td>\n",
       "      <td>0</td>\n",
       "      <td>0</td>\n",
       "      <td>0</td>\n",
       "      <td>...</td>\n",
       "      <td>0</td>\n",
       "      <td>0</td>\n",
       "      <td>0</td>\n",
       "      <td>0</td>\n",
       "      <td>0</td>\n",
       "      <td>1</td>\n",
       "      <td>0</td>\n",
       "      <td>0</td>\n",
       "      <td>0</td>\n",
       "      <td>0</td>\n",
       "    </tr>\n",
       "    <tr>\n",
       "      <th>3</th>\n",
       "      <td>39</td>\n",
       "      <td>30000</td>\n",
       "      <td>9</td>\n",
       "      <td>60</td>\n",
       "      <td>39000.0</td>\n",
       "      <td>0</td>\n",
       "      <td>0</td>\n",
       "      <td>0</td>\n",
       "      <td>0</td>\n",
       "      <td>0</td>\n",
       "      <td>...</td>\n",
       "      <td>0</td>\n",
       "      <td>0</td>\n",
       "      <td>0</td>\n",
       "      <td>0</td>\n",
       "      <td>0</td>\n",
       "      <td>1</td>\n",
       "      <td>0</td>\n",
       "      <td>0</td>\n",
       "      <td>0</td>\n",
       "      <td>0</td>\n",
       "    </tr>\n",
       "    <tr>\n",
       "      <th>4</th>\n",
       "      <td>39</td>\n",
       "      <td>10000</td>\n",
       "      <td>3</td>\n",
       "      <td>15</td>\n",
       "      <td>11500.0</td>\n",
       "      <td>0</td>\n",
       "      <td>0</td>\n",
       "      <td>0</td>\n",
       "      <td>0</td>\n",
       "      <td>0</td>\n",
       "      <td>...</td>\n",
       "      <td>0</td>\n",
       "      <td>0</td>\n",
       "      <td>0</td>\n",
       "      <td>0</td>\n",
       "      <td>0</td>\n",
       "      <td>1</td>\n",
       "      <td>0</td>\n",
       "      <td>0</td>\n",
       "      <td>0</td>\n",
       "      <td>0</td>\n",
       "    </tr>\n",
       "  </tbody>\n",
       "</table>\n",
       "<p>5 rows × 28 columns</p>\n",
       "</div>"
      ],
      "text/plain": [
       "   age  loanamount  loannumber  termdays  totaldue  \\\n",
       "0   28       10000           2        15   11500.0   \n",
       "1   38       30000           5        60   39000.0   \n",
       "2   38       20000           8        30   24500.0   \n",
       "3   39       30000           9        60   39000.0   \n",
       "4   39       10000           3        15   11500.0   \n",
       "\n",
       "   bank_name_clients_Access Bank  bank_name_clients_Diamond Bank  \\\n",
       "0                              0                               0   \n",
       "1                              0                               0   \n",
       "2                              0                               0   \n",
       "3                              0                               0   \n",
       "4                              0                               0   \n",
       "\n",
       "   bank_name_clients_EcoBank  bank_name_clients_FCMB  \\\n",
       "0                          0                       0   \n",
       "1                          0                       0   \n",
       "2                          0                       0   \n",
       "3                          0                       0   \n",
       "4                          0                       0   \n",
       "\n",
       "   bank_name_clients_Fidelity Bank                  ...                   \\\n",
       "0                                0                  ...                    \n",
       "1                                0                  ...                    \n",
       "2                                0                  ...                    \n",
       "3                                0                  ...                    \n",
       "4                                0                  ...                    \n",
       "\n",
       "   bank_name_clients_UBA  bank_name_clients_Union Bank  \\\n",
       "0                      0                             0   \n",
       "1                      0                             0   \n",
       "2                      0                             0   \n",
       "3                      0                             0   \n",
       "4                      0                             0   \n",
       "\n",
       "   bank_name_clients_Unity Bank  bank_name_clients_Wema Bank  \\\n",
       "0                             0                            0   \n",
       "1                             0                            0   \n",
       "2                             0                            0   \n",
       "3                             0                            0   \n",
       "4                             0                            0   \n",
       "\n",
       "   bank_name_clients_Zenith Bank  employment_status_clients_Permanent  \\\n",
       "0                              0                                    1   \n",
       "1                              0                                    1   \n",
       "2                              0                                    1   \n",
       "3                              0                                    1   \n",
       "4                              0                                    1   \n",
       "\n",
       "   employment_status_clients_Retired  employment_status_clients_Self-Employed  \\\n",
       "0                                  0                                        0   \n",
       "1                                  0                                        0   \n",
       "2                                  0                                        0   \n",
       "3                                  0                                        0   \n",
       "4                                  0                                        0   \n",
       "\n",
       "   employment_status_clients_Student  employment_status_clients_Unemployed  \n",
       "0                                  0                                     0  \n",
       "1                                  0                                     0  \n",
       "2                                  0                                     0  \n",
       "3                                  0                                     0  \n",
       "4                                  0                                     0  \n",
       "\n",
       "[5 rows x 28 columns]"
      ]
     },
     "execution_count": 92,
     "metadata": {},
     "output_type": "execute_result"
    }
   ],
   "source": [
    "features.head()"
   ]
  },
  {
   "cell_type": "code",
   "execution_count": null,
   "metadata": {},
   "outputs": [],
   "source": []
  },
  {
   "cell_type": "code",
   "execution_count": 116,
   "metadata": {},
   "outputs": [],
   "source": [
    "import pandas as pd\n",
    "from sklearn.preprocessing import MinMaxScaler\n",
    "scaler = MinMaxScaler()\n",
    "\n",
    "from sklearn.cross_validation import train_test_split\n",
    "\n",
    "X_train, X_test, y_train, y_test = train_test_split(features, target, test_size=0.2, random_state=0)\n",
    "\n",
    "X_train_scaled = scaler.fit_transform(X_train)\n",
    "X_test_scaled = scaler.transform(X_test)"
   ]
  },
  {
   "cell_type": "code",
   "execution_count": 117,
   "metadata": {},
   "outputs": [],
   "source": [
    "from sklearn.ensemble import RandomForestClassifier\n",
    "clf = RandomForestClassifier()\n",
    "clf.fit(x_train,y_train)"
   ]
  },
  {
   "cell_type": "code",
   "execution_count": null,
   "metadata": {},
   "outputs": [],
   "source": []
  },
  {
   "cell_type": "code",
   "execution_count": 105,
   "metadata": {},
   "outputs": [],
   "source": [
    "from sklearn.cross_validation import train_test_split\n",
    "\n",
    "X_train, X_test, y_train, y_test = train_test_split(features, target, test_size=0.2, random_state=0)"
   ]
  },
  {
   "cell_type": "code",
   "execution_count": null,
   "metadata": {},
   "outputs": [],
   "source": []
  },
  {
   "cell_type": "code",
   "execution_count": 111,
   "metadata": {},
   "outputs": [
    {
     "data": {
      "text/plain": [
       "0.71281464530892447"
      ]
     },
     "execution_count": 111,
     "metadata": {},
     "output_type": "execute_result"
    }
   ],
   "source": [
    "from sklearn.ensemble import RandomForestClassifier\n",
    "\n",
    "rf = RandomForestClassifier()\n",
    "rf.fit(X_train, y_train)\n",
    "rf.score(X_test, y_test)"
   ]
  },
  {
   "cell_type": "code",
   "execution_count": 112,
   "metadata": {},
   "outputs": [],
   "source": [
    "a = rf.predict(testDummy)\n",
    "\n",
    "logsubmission = pd.DataFrame({'customerid':sample[\"customerid\"],'Good_Bad_flag':a})\n",
    "logsubmission.to_csv('11.csv')"
   ]
  },
  {
   "cell_type": "code",
   "execution_count": null,
   "metadata": {},
   "outputs": [],
   "source": []
  },
  {
   "cell_type": "code",
   "execution_count": null,
   "metadata": {},
   "outputs": [],
   "source": []
  },
  {
   "cell_type": "code",
   "execution_count": null,
   "metadata": {},
   "outputs": [],
   "source": []
  },
  {
   "cell_type": "code",
   "execution_count": null,
   "metadata": {},
   "outputs": [],
   "source": []
  },
  {
   "cell_type": "code",
   "execution_count": null,
   "metadata": {},
   "outputs": [],
   "source": []
  },
  {
   "cell_type": "code",
   "execution_count": null,
   "metadata": {},
   "outputs": [],
   "source": []
  },
  {
   "cell_type": "code",
   "execution_count": null,
   "metadata": {},
   "outputs": [],
   "source": []
  },
  {
   "cell_type": "code",
   "execution_count": null,
   "metadata": {},
   "outputs": [],
   "source": []
  },
  {
   "cell_type": "code",
   "execution_count": null,
   "metadata": {},
   "outputs": [],
   "source": []
  },
  {
   "cell_type": "code",
   "execution_count": null,
   "metadata": {},
   "outputs": [],
   "source": []
  },
  {
   "cell_type": "code",
   "execution_count": null,
   "metadata": {},
   "outputs": [],
   "source": []
  },
  {
   "cell_type": "code",
   "execution_count": null,
   "metadata": {},
   "outputs": [],
   "source": []
  },
  {
   "cell_type": "code",
   "execution_count": null,
   "metadata": {},
   "outputs": [],
   "source": []
  },
  {
   "cell_type": "code",
   "execution_count": null,
   "metadata": {},
   "outputs": [],
   "source": []
  },
  {
   "cell_type": "code",
   "execution_count": null,
   "metadata": {},
   "outputs": [],
   "source": []
  },
  {
   "cell_type": "code",
   "execution_count": 106,
   "metadata": {},
   "outputs": [
    {
     "data": {
      "text/plain": [
       "LogisticRegression(C=1.0, class_weight=None, dual=False, fit_intercept=True,\n",
       "          intercept_scaling=1, max_iter=100, multi_class='ovr', n_jobs=1,\n",
       "          penalty='l2', random_state=None, solver='liblinear', tol=0.0001,\n",
       "          verbose=0, warm_start=False)"
      ]
     },
     "execution_count": 106,
     "metadata": {},
     "output_type": "execute_result"
    }
   ],
   "source": [
    "\n",
    "from sklearn.linear_model import LogisticRegression\n",
    "from sklearn import metrics\n",
    "\n",
    "logreg = LogisticRegression()\n",
    "logreg.fit(X_train, y_train)"
   ]
  },
  {
   "cell_type": "code",
   "execution_count": 107,
   "metadata": {},
   "outputs": [
    {
     "data": {
      "text/plain": [
       "0.78947368421052633"
      ]
     },
     "execution_count": 107,
     "metadata": {},
     "output_type": "execute_result"
    }
   ],
   "source": [
    "logreg.score(X_test, y_test)"
   ]
  },
  {
   "cell_type": "code",
   "execution_count": 108,
   "metadata": {},
   "outputs": [],
   "source": [
    "prediction = logreg.predict(testDummy)"
   ]
  },
  {
   "cell_type": "code",
   "execution_count": null,
   "metadata": {},
   "outputs": [],
   "source": []
  },
  {
   "cell_type": "code",
   "execution_count": 93,
   "metadata": {},
   "outputs": [
    {
     "name": "stdout",
     "output_type": "stream",
     "text": [
      "\n",
      "Prediction accuracy for the normal test dataset with PCA\n",
      "79.02%\n",
      "\n",
      "\n",
      "Prediction accuracy for the standardized test dataset with PCA\n",
      "79.02%\n",
      "\n",
      "\n",
      "PC 1 without scaling:\n",
      " [  2.30742751e-06   6.69286351e-01   1.88664697e-04   4.24267867e-04\n",
      "   7.43004418e-01  -5.81549292e-07   7.06391609e-07  -3.27687925e-07\n",
      "   4.43499134e-07  -1.44895960e-07   1.43712417e-07   1.73161152e-07\n",
      "   6.67282175e-08   1.51059600e-07  -1.10817558e-07  -7.19192187e-08\n",
      "  -7.44324274e-08  -2.70120226e-07  -8.23117586e-08  -6.23879369e-09\n",
      "  -3.04879889e-08  -2.41353067e-08   4.00443259e-08  -5.98348773e-06\n",
      "   5.06266132e-08   5.15233910e-06   7.96265358e-07  -1.57433448e-08]\n",
      "\n",
      "PC 1 with scaling:\n",
      " [ -9.09075429e-03   4.90153696e-01   4.58192699e-01   3.39679215e-01\n",
      "   4.93049130e-01  -2.72507031e-02   3.14373208e-02  -1.86167947e-02\n",
      "   3.14729443e-02  -9.04594895e-03   3.94760314e-03   5.29260093e-03\n",
      "   1.26307632e-02   2.93053963e-02  -1.39679982e-03  -9.81988632e-03\n",
      "  -1.67017214e-02  -3.25326701e-02  -4.90740029e-03  -3.43975663e-04\n",
      "  -8.50930480e-03  -4.81538657e-03   4.67199678e-03  -3.02337312e-01\n",
      "   2.25124153e-02   2.87561859e-01   9.86291475e-02   3.35175488e-02]\n"
     ]
    }
   ],
   "source": [
    "from sklearn.model_selection import train_test_split\n",
    "from sklearn.preprocessing import StandardScaler\n",
    "from sklearn.decomposition import PCA\n",
    "from sklearn.naive_bayes import GaussianNB\n",
    "from sklearn import metrics\n",
    "import matplotlib.pyplot as plt\n",
    "from sklearn.datasets import load_wine\n",
    "from sklearn.pipeline import make_pipeline\n",
    "\n",
    "FIG_SIZE = (10, 7)\n",
    "\n",
    "# Make a train/test split using 30% test size\n",
    "X_train, X_test, y_train, y_test = train_test_split(features, target, test_size=0.30)\n",
    "\n",
    "# Fit to data and predict using pipelined GNB and PCA.\n",
    "unscaled_clf = make_pipeline(PCA(n_components=2), GaussianNB())\n",
    "unscaled_clf.fit(X_train, y_train)\n",
    "pred_test = unscaled_clf.predict(X_test)\n",
    "\n",
    "# Fit to data and predict using pipelined scaling, GNB and PCA.\n",
    "std_clf = make_pipeline(StandardScaler(), PCA(n_components=2), GaussianNB())\n",
    "std_clf.fit(X_train, y_train)\n",
    "pred_test_std = std_clf.predict(X_test)\n",
    "\n",
    "# Show prediction accuracies in scaled and unscaled data.\n",
    "print('\\nPrediction accuracy for the normal test dataset with PCA')\n",
    "print('{:.2%}\\n'.format(metrics.accuracy_score(y_test, pred_test)))\n",
    "\n",
    "print('\\nPrediction accuracy for the standardized test dataset with PCA')\n",
    "print('{:.2%}\\n'.format(metrics.accuracy_score(y_test, pred_test_std)))\n",
    "\n",
    "# Extract PCA from pipeline\n",
    "pca = unscaled_clf.named_steps['pca']\n",
    "pca_std = std_clf.named_steps['pca']\n",
    "\n",
    "# Show first principal components\n",
    "print('\\nPC 1 without scaling:\\n', pca.components_[0])\n",
    "print('\\nPC 1 with scaling:\\n', pca_std.components_[0])\n",
    "\n",
    "# Scale and use PCA on X_train data for visualization.\n",
    "scaler = std_clf.named_steps['standardscaler']\n",
    "X_train_std = pca_std.transform(scaler.transform(X_train))"
   ]
  },
  {
   "cell_type": "code",
   "execution_count": null,
   "metadata": {},
   "outputs": [],
   "source": []
  },
  {
   "cell_type": "code",
   "execution_count": 96,
   "metadata": {},
   "outputs": [],
   "source": [
    "prediction = unscaled_clf.predict(testDummy)"
   ]
  },
  {
   "cell_type": "code",
   "execution_count": 109,
   "metadata": {},
   "outputs": [],
   "source": [
    "sample = pd.read_csv(\"SampleSubmission.csv\")\n",
    "\n",
    "submission = pd.DataFrame({'customerid':sample['customerid'],'Good_Bad_flag': prediction},\n",
    "                          columns=['customerid','Good_Bad_flag'])\n",
    "\n",
    "#to csv\n",
    "submission.to_csv('1.csv',index=False)"
   ]
  },
  {
   "cell_type": "code",
   "execution_count": null,
   "metadata": {},
   "outputs": [],
   "source": []
  }
 ],
 "metadata": {
  "kernelspec": {
   "display_name": "Python 3",
   "language": "python",
   "name": "python3"
  },
  "language_info": {
   "codemirror_mode": {
    "name": "ipython",
    "version": 3
   },
   "file_extension": ".py",
   "mimetype": "text/x-python",
   "name": "python",
   "nbconvert_exporter": "python",
   "pygments_lexer": "ipython3",
   "version": "3.6.8"
  }
 },
 "nbformat": 4,
 "nbformat_minor": 2
}
